{
 "cells": [
  {
   "attachments": {},
   "cell_type": "markdown",
   "metadata": {},
   "source": [
    "# Language Detection on the Edge"
   ]
  },
  {
   "attachments": {},
   "cell_type": "markdown",
   "metadata": {},
   "source": [
    "## Imports"
   ]
  },
  {
   "cell_type": "code",
   "execution_count": 79,
   "metadata": {},
   "outputs": [],
   "source": [
    "# Imports\n",
    "import wave\n",
    "import numpy as np\n",
    "import pickle\n",
    "import matplotlib.pyplot as plt\n",
    "\n",
    "import tensorflow as tf\n",
    "from keras.models import Sequential\n",
    "from keras.layers import Input, Conv1D, AvgPool1D, MaxPool1D, ZeroPadding1D, BatchNormalization, Flatten, Dense, Activation, GlobalAveragePooling1D\n",
    "from keras.utils.data_utils import get_file\n",
    "from keras.utils.np_utils import to_categorical\n",
    "from keras.callbacks import EarlyStopping\n",
    "\n",
    "import kerascnn2c\n",
    "from pathlib import Path\n",
    "import copy\n",
    "\n",
    "from sklearn.preprocessing import MinMaxScaler"
   ]
  },
  {
   "attachments": {},
   "cell_type": "markdown",
   "metadata": {},
   "source": [
    "## Pre-process Data"
   ]
  },
  {
   "attachments": {},
   "cell_type": "markdown",
   "metadata": {},
   "source": [
    "### Helper Functions"
   ]
  },
  {
   "cell_type": "code",
   "execution_count": 80,
   "metadata": {},
   "outputs": [],
   "source": [
    "def create_data(dataset_dir: str, file_names: list):\n",
    "\n",
    "    NUM_CLASSES = len(file_names)\n",
    "    \n",
    "    x_train, x_test, x_val, y_train, y_test, y_val = [], [], [], [], [], []\n",
    "    \n",
    "    for enum, file in enumerate(file_names):\n",
    "        path = dataset_dir + file + '.pkl'\n",
    "        with open(path, 'rb') as data_file:\n",
    "            data = pickle.load(data_file)\n",
    "\n",
    "            data_train = data['data_train']\n",
    "            data_test = data['data_test']\n",
    "            data_val = data['data_val']\n",
    "\n",
    "        sample_rate=16000\n",
    "\n",
    "        x_train_inter = []\n",
    "        for i in data_train:\n",
    "            num_sec = int(i.shape[0]/sample_rate)\n",
    "            array_intermediate = i[:(num_sec*sample_rate)]\n",
    "            x_train_inter.extend(np.split(array_intermediate, num_sec))\n",
    "        \n",
    "        \n",
    "        # x_test_inter = []\n",
    "        # for i in data_test:\n",
    "        #     num_sec = int(i.shape[0]/sample_rate)\n",
    "        #     array_intermediate = i[:(num_sec*sample_rate)]\n",
    "        #     x_test_inter.extend(np.split(array_intermediate, num_sec))\n",
    "\n",
    "        # x_val_inter = []\n",
    "        # for i in data_val:\n",
    "        #     num_sec = int(i.shape[0]/sample_rate)\n",
    "        #     array_intermediate = i[:(num_sec*sample_rate)]\n",
    "        #     x_val_inter.extend(np.split(array_intermediate, num_sec))\n",
    "\n",
    "        y_train_inter = [[enum]]*len(x_train_inter)\n",
    "        # y_test_inter = [[enum]]*len(x_test_inter)\n",
    "        # y_val_inter = [[enum]]*len(x_val_inter)\n",
    "\n",
    "        x_train.extend(x_train_inter)\n",
    "        # x_test.extend(x_test_inter)\n",
    "        # x_val.extend(x_val_inter)\n",
    "\n",
    "        y_train.extend(y_train_inter)\n",
    "        # y_test.extend(y_test_inter)\n",
    "        # y_val.extend(y_val_inter)\n",
    "        \n",
    "\n",
    "    x_train = np.array(x_train)\n",
    "    # x_test = np.array(x_test)\n",
    "    # x_val = np.array(x_val)\n",
    "\n",
    "    y_train = to_categorical(np.array(y_train), num_classes = NUM_CLASSES)\n",
    "    # y_test = to_categorical(np.array(y_test), num_classes = NUM_CLASSES)\n",
    "    # y_val = to_categorical(np.array(y_val), num_classes = NUM_CLASSES)\n",
    "\n",
    "    # return x_train, x_test, x_val, y_train, y_test, y_val\n",
    "    return x_train, y_train\n",
    "    \n",
    "def load_data(dir_path: str):\n",
    "    with open(dir_path, 'rb') as f:\n",
    "        data = pickle.load(f)\n",
    "    f.close()\n",
    "    return data\n",
    "\n",
    "def fixed_point_conversion(x: np.array, fixed_point: int):\n",
    "  x /= 2**fixed_point\n",
    "  return x\n"
   ]
  },
  {
   "attachments": {},
   "cell_type": "markdown",
   "metadata": {},
   "source": [
    "### Loading Data"
   ]
  },
  {
   "cell_type": "code",
   "execution_count": 81,
   "metadata": {},
   "outputs": [
    {
     "name": "stdout",
     "output_type": "stream",
     "text": [
      "Data successfully loaded\n",
      "Data successfully shuffeled and shortened\n"
     ]
    }
   ],
   "source": [
    "# dataset_dir = '../../data/pre-train/raw/'\n",
    "dataset_dir = '../../data/pre-train/'\n",
    "CLASSES = ['fleurs.en_us', 'fleurs.de_de', 'fleurs.es_419', 'fleurs.fr_fr', 'fleurs.it_it']\n",
    "# CLASSES = ['fleurs.en_us', 'fleurs.de_de', 'fleurs.es_419', 'fleurs.fr_fr']\n",
    "\n",
    "# x = load_data(dataset_dir+'x_train.pkl')\n",
    "# y = load_data(dataset_dir+'y_train.pkl')\n",
    "\n",
    "x = load_data(dataset_dir+'x_all.pkl')\n",
    "y = load_data(dataset_dir+'y_all.pkl')\n",
    "\n",
    "# x = load_data(dataset_dir+'x_val.pkl')\n",
    "# y = load_data(dataset_dir+'y_val.pkl')\n",
    "print('Data successfully loaded')\n",
    "\n",
    "\n",
    "permutation = np.random.permutation(len(x))\n",
    "x = x[permutation]\n",
    "y = y[permutation]\n",
    "\n",
    "x = x[:int(0.2*len(x)),:]\n",
    "y = y[:int(0.2*len(y)),:]\n",
    "print('Data successfully shuffeled and shortened')\n",
    "\n",
    "min_int16 = fixed_point_conversion(-(2**15), 9)\n",
    "max_int16 = fixed_point_conversion((2**15)-1, 9)\n",
    "\n",
    "scaler = MinMaxScaler(feature_range=(min_int16, max_int16))\n",
    "x = np.array([scaler.fit_transform(np.array(i).reshape((16000,1))) for i in x])\n",
    "\n",
    "\n",
    "\n",
    "# x_test = load_data(dataset_dir+'x_test.pkl')\n",
    "# x_val = load_data(dataset_dir+'x_val.pkl')\n",
    "# y_test = load_data(dataset_dir+'y_test.pkl')\n",
    "# y_val = load_data(dataset_dir+'y_val.pkl')\n",
    "\n",
    "# print('----------------------------------------------------------------------')\n",
    "# print(f'Number of samples in train: {len(x_train)}')\n",
    "# print(f'Number of samples in test: {len(x_test)}')\n",
    "# print(f'Number of samplesin validation: {len(x_val)}')\n",
    "# print('----------------------------------------------------------------------')\n",
    "# print('----------------------------------------------------------------------')\n",
    "# print(f'x_train shape: {x_train.shape} | y_train shape: {y_train.shape}')\n",
    "# print(f'x_test shape: {x_test.shape} | y_test shape: {y_test.shape}')\n",
    "# print(f'x_val shape: {x_val.shape} | y_val shape: {y_val.shape}')\n",
    "# print('----------------------------------------------------------------------')"
   ]
  },
  {
   "cell_type": "code",
   "execution_count": 82,
   "metadata": {},
   "outputs": [
    {
     "name": "stdout",
     "output_type": "stream",
     "text": [
      "X train: (24564, 16000, 1)\n",
      "X val: (6142, 16000, 1)\n",
      "y train: (24564, 5)\n",
      "y val: (6142, 5)\n"
     ]
    }
   ],
   "source": [
    "# splitting into training and validation data\n",
    "train_split = int(0.8*len(x))\n",
    "\n",
    "x_train, x_val = x[:train_split,:], x[train_split:,:]\n",
    "y_train, y_val = y[:train_split,:], y[train_split:,:]\n",
    "\n",
    "del x\n",
    "del y\n",
    "\n",
    "print(f'X train: {x_train.shape}')\n",
    "print(f'X val: {x_val.shape}')\n",
    "print(f'y train: {y_train.shape}')\n",
    "print(f'y val: {y_val.shape}')"
   ]
  },
  {
   "cell_type": "code",
   "execution_count": 83,
   "metadata": {},
   "outputs": [],
   "source": [
    "# with open(f'../data/pre-train/x_train.pkl', 'wb') as f:\n",
    "#     pickle.dump(x_train, f)\n",
    "# f.close()\n",
    "\n",
    "# with open(f'../data/pre-train/x_test.pkl', 'wb') as f:\n",
    "#     pickle.dump(x_test, f)\n",
    "# f.close()\n",
    "\n",
    "# with open(f'../data/pre-train/x_val.pkl', 'wb') as f:\n",
    "#     pickle.dump(x_val, f)\n",
    "# f.close()\n",
    "\n",
    "# with open(f'../data/pre-train/y_train.pkl', 'wb') as f:\n",
    "#     pickle.dump(y_train, f)\n",
    "# f.close()\n",
    "\n",
    "# with open(f'../data/pre-train/y_test.pkl', 'wb') as f:\n",
    "#     pickle.dump(y_test, f)\n",
    "# f.close()\n",
    "\n",
    "# with open(f'../data/pre-train/y_val.pkl', 'wb') as f:\n",
    "#     pickle.dump(y_val, f)\n",
    "# f.close()"
   ]
  },
  {
   "attachments": {},
   "cell_type": "markdown",
   "metadata": {},
   "source": [
    "## Analysis of Training Data"
   ]
  },
  {
   "cell_type": "code",
   "execution_count": 84,
   "metadata": {},
   "outputs": [],
   "source": [
    "\n",
    "# labels_train = [np.argmax(i) for i in y_train]\n",
    "# # labels_test = [np.argmax(i) for i in y_test]\n",
    "# labels_val = [np.argmax(i) for i in y_val]\n",
    "\n",
    "# unique_train, counts_train = np.unique(labels_train, return_counts=True)\n",
    "# # unique_test, counts_test = np.unique(labels_test, return_counts=True)\n",
    "# unique_val, counts_val = np.unique(labels_val, return_counts=True)\n",
    "\n",
    "# del labels_train\n",
    "# # del labels_test\n",
    "# del labels_val\n",
    "\n",
    "# # CLASSES = ['fleurs.en_us', 'fleurs.de_de', 'fleurs.es_419', 'fleurs.fr_fr', 'fleurs.it_it']\n",
    "# # LABELS = ['EN', 'DE', 'ES', 'FR', 'IT']\n",
    "# LABELS = ['EN', 'DE', 'ES', 'FR', 'IT']\n",
    "\n",
    "\n",
    "\n",
    "\n",
    "# fig, axes = plt.subplots(1,3, figsize=(9, 3.5), sharey=True, edgecolor='black')\n",
    "# axes[0].bar(LABELS, counts_train, color='#01386a')\n",
    "# axes[0].set_title('Training Data')\n",
    "\n",
    "# axes[1].bar(LABELS, counts_val, color='#01386a')\n",
    "# axes[1].set_title('Validation Data')\n",
    "\n",
    "# # axes[2].bar(LABELS, counts_test, color='#01386a')\n",
    "# # axes[2].set_title('Testing Data')\n",
    "\n",
    "# fig.suptitle('Distribution of Pre-Training Data')\n",
    "\n",
    "\n",
    "# for enum, i in enumerate(counts_train):\n",
    "#     print(f'--------------------------------COUNT {LABELS[enum]}---------------------------------')\n",
    "#     print(f'Train\\t {LABELS[enum]}: {i}')\n",
    "#     # print(f'Test\\t {LABELS[enum]}: {counts_test[enum]}')\n",
    "#     print(f'Val\\t {LABELS[enum]}: {counts_val[enum]}')\n",
    "# print('-------------------------------------------------------------------------')\n",
    "\n",
    "# print('--------------------------------MINIMUM COUNTS---------------------------------')\n",
    "# print(f'Min count train: {min(counts_train)}')\n",
    "# # print(f'Min count test: {min(counts_test)}')\n",
    "# print(f'Min count val: {min(counts_val)}')\n",
    "# print('-------------------------------------------------------------------------')"
   ]
  },
  {
   "attachments": {},
   "cell_type": "markdown",
   "metadata": {},
   "source": [
    "## Preparing Data for Training"
   ]
  },
  {
   "cell_type": "code",
   "execution_count": 85,
   "metadata": {},
   "outputs": [],
   "source": [
    "# Fixed point conversion\n",
    "# FIXED_POINT = 9\n",
    "# x_train /= 2**FIXED_POINT\n",
    "# x_val  /= 2**FIXED_POINT\n"
   ]
  },
  {
   "cell_type": "code",
   "execution_count": 86,
   "metadata": {},
   "outputs": [],
   "source": [
    "# perms = np.random.permutation(len(y_test))[0:250]\n",
    "# x_test_250 = x_test[perms]\n",
    "# y_test_250 = y_test[perms]\n",
    "# np.savetxt('x_test_gsc_250.csv', x_test_250.reshape((x_test_250.shape[0], -1)), delimiter=',', fmt='%s')\n",
    "# np.savetxt('y_test_gsc_250.csv', y_test_250, delimiter=',', fmt='%s')\n",
    "\n"
   ]
  },
  {
   "attachments": {},
   "cell_type": "markdown",
   "metadata": {},
   "source": [
    "## Build model"
   ]
  },
  {
   "cell_type": "code",
   "execution_count": 87,
   "metadata": {},
   "outputs": [
    {
     "name": "stdout",
     "output_type": "stream",
     "text": [
      "Num GPUs Available:  1\n",
      "Name of Devices:  [PhysicalDevice(name='/physical_device:CPU:0', device_type='CPU'), PhysicalDevice(name='/physical_device:GPU:0', device_type='GPU')]\n"
     ]
    }
   ],
   "source": [
    "# Available devices\n",
    "print(\"Num GPUs Available: \", len(tf.config.list_physical_devices('GPU')))\n",
    "print('Name of Devices: ', tf.config.list_physical_devices())"
   ]
  },
  {
   "cell_type": "code",
   "execution_count": 88,
   "metadata": {},
   "outputs": [
    {
     "name": "stdout",
     "output_type": "stream",
     "text": [
      "Model: \"sequential_11\"\n",
      "_________________________________________________________________\n",
      " Layer (type)                Output Shape              Param #   \n",
      "=================================================================\n",
      " conv1d_31 (Conv1D)          (None, 1999, 8)           80        \n",
      "                                                                 \n",
      " max_pooling1d_24 (MaxPoolin  (None, 499, 8)           0         \n",
      " g1D)                                                            \n",
      "                                                                 \n",
      " conv1d_32 (Conv1D)          (None, 248, 16)           528       \n",
      "                                                                 \n",
      " max_pooling1d_25 (MaxPoolin  (None, 62, 16)           0         \n",
      " g1D)                                                            \n",
      "                                                                 \n",
      " conv1d_33 (Conv1D)          (None, 30, 32)            1568      \n",
      "                                                                 \n",
      " max_pooling1d_26 (MaxPoolin  (None, 7, 32)            0         \n",
      " g1D)                                                            \n",
      "                                                                 \n",
      " conv1d_34 (Conv1D)          (None, 6, 64)             4160      \n",
      "                                                                 \n",
      " average_pooling1d_7 (Averag  (None, 1, 64)            0         \n",
      " ePooling1D)                                                     \n",
      "                                                                 \n",
      " flatten_11 (Flatten)        (None, 64)                0         \n",
      "                                                                 \n",
      " dense_12 (Dense)            (None, 5)                 325       \n",
      "                                                                 \n",
      " activation_11 (Activation)  (None, 5)                 0         \n",
      "                                                                 \n",
      "=================================================================\n",
      "Total params: 6,661\n",
      "Trainable params: 6,661\n",
      "Non-trainable params: 0\n",
      "_________________________________________________________________\n"
     ]
    },
    {
     "name": "stderr",
     "output_type": "stream",
     "text": [
      "/opt/homebrew/Caskroom/miniforge/base/envs/embeddedAI/lib/python3.10/site-packages/keras/optimizers/optimizer_v2/adam.py:110: UserWarning: The `lr` argument is deprecated, use `learning_rate` instead.\n",
      "  super(Adam, self).__init__(name, **kwargs)\n"
     ]
    }
   ],
   "source": [
    "model = Sequential()\n",
    "model.add(Input(shape=(16000, 1)))\n",
    "model.add(Conv1D(filters=8, kernel_size=9, strides=8,activation='relu'))\n",
    "model.add(MaxPool1D(pool_size=4))\n",
    "model.add(Conv1D(filters=16, kernel_size=4, strides=2, activation='relu'))\n",
    "model.add(MaxPool1D(pool_size=4))\n",
    "model.add(Conv1D(filters=32, kernel_size=3, strides=2, activation='relu'))\n",
    "model.add(MaxPool1D(pool_size=4))\n",
    "model.add(Conv1D(filters=64, kernel_size=2, activation='relu'))\n",
    "model.add(AvgPool1D(6))\n",
    "model.add(Flatten())\n",
    "# model.add(Dense(units=128))\n",
    "model.add(Dense(units=len(CLASSES)))\n",
    "model.add(Activation('softmax'))\n",
    "\n",
    "# EXPLORE Learning Rate\n",
    "earlystopping = EarlyStopping(monitor = \"val_loss\", patience  = 5)\n",
    "opt = tf.keras.optimizers.Adam(lr=10e-4, decay = 10e-6)\n",
    "\n",
    "# EARLY STOPPING\n",
    "callback_path = '../models/test/checkpoints-language-detection-5-languages.ckpt' # save weights to this directory\n",
    "checkpoint = tf.keras.callbacks.ModelCheckpoint(callback_path,\n",
    "                                                save_weights_only=True,\n",
    "                                                verbose=1,\n",
    "                                                save_best_only=True)\n",
    "\n",
    "model.summary()\n",
    "model.compile(optimizer=opt, loss='categorical_crossentropy', metrics=['categorical_accuracy'])"
   ]
  },
  {
   "cell_type": "code",
   "execution_count": 89,
   "metadata": {},
   "outputs": [
    {
     "name": "stdout",
     "output_type": "stream",
     "text": [
      "Epoch 1/100\n"
     ]
    },
    {
     "name": "stderr",
     "output_type": "stream",
     "text": [
      "2023-04-30 14:59:43.494222: I tensorflow/core/grappler/optimizers/custom_graph_optimizer_registry.cc:113] Plugin optimizer for device_type GPU is enabled.\n"
     ]
    },
    {
     "name": "stdout",
     "output_type": "stream",
     "text": [
      "384/384 [==============================] - ETA: 0s - loss: 1.4174 - categorical_accuracy: 0.3951"
     ]
    },
    {
     "name": "stderr",
     "output_type": "stream",
     "text": [
      "2023-04-30 14:59:51.770310: I tensorflow/core/grappler/optimizers/custom_graph_optimizer_registry.cc:113] Plugin optimizer for device_type GPU is enabled.\n"
     ]
    },
    {
     "name": "stdout",
     "output_type": "stream",
     "text": [
      "\n",
      "Epoch 1: val_loss improved from inf to 1.21700, saving model to ../models/test/checkpoints-language-detection-5-languages.ckpt\n",
      "384/384 [==============================] - 10s 23ms/step - loss: 1.4174 - categorical_accuracy: 0.3951 - val_loss: 1.2170 - val_categorical_accuracy: 0.5023\n",
      "Epoch 2/100\n",
      "384/384 [==============================] - ETA: 0s - loss: 1.1577 - categorical_accuracy: 0.5380\n",
      "Epoch 2: val_loss improved from 1.21700 to 1.07398, saving model to ../models/test/checkpoints-language-detection-5-languages.ckpt\n",
      "384/384 [==============================] - 8s 20ms/step - loss: 1.1577 - categorical_accuracy: 0.5380 - val_loss: 1.0740 - val_categorical_accuracy: 0.5742\n",
      "Epoch 3/100\n",
      "383/384 [============================>.] - ETA: 0s - loss: 1.0549 - categorical_accuracy: 0.5886\n",
      "Epoch 3: val_loss improved from 1.07398 to 1.02801, saving model to ../models/test/checkpoints-language-detection-5-languages.ckpt\n",
      "384/384 [==============================] - 8s 20ms/step - loss: 1.0548 - categorical_accuracy: 0.5887 - val_loss: 1.0280 - val_categorical_accuracy: 0.6024\n",
      "Epoch 4/100\n",
      "382/384 [============================>.] - ETA: 0s - loss: 0.9873 - categorical_accuracy: 0.6196\n",
      "Epoch 4: val_loss improved from 1.02801 to 0.95427, saving model to ../models/test/checkpoints-language-detection-5-languages.ckpt\n",
      "384/384 [==============================] - 8s 20ms/step - loss: 0.9871 - categorical_accuracy: 0.6195 - val_loss: 0.9543 - val_categorical_accuracy: 0.6283\n",
      "Epoch 5/100\n",
      "382/384 [============================>.] - ETA: 0s - loss: 0.9341 - categorical_accuracy: 0.6403\n",
      "Epoch 5: val_loss did not improve from 0.95427\n",
      "384/384 [==============================] - 8s 20ms/step - loss: 0.9339 - categorical_accuracy: 0.6402 - val_loss: 0.9664 - val_categorical_accuracy: 0.6136\n",
      "Epoch 6/100\n",
      "384/384 [==============================] - ETA: 0s - loss: 0.8980 - categorical_accuracy: 0.6570\n",
      "Epoch 6: val_loss improved from 0.95427 to 0.87188, saving model to ../models/test/checkpoints-language-detection-5-languages.ckpt\n",
      "384/384 [==============================] - 8s 20ms/step - loss: 0.8980 - categorical_accuracy: 0.6570 - val_loss: 0.8719 - val_categorical_accuracy: 0.6679\n",
      "Epoch 7/100\n",
      "383/384 [============================>.] - ETA: 0s - loss: 0.8632 - categorical_accuracy: 0.6707\n",
      "Epoch 7: val_loss improved from 0.87188 to 0.86231, saving model to ../models/test/checkpoints-language-detection-5-languages.ckpt\n",
      "384/384 [==============================] - 8s 20ms/step - loss: 0.8627 - categorical_accuracy: 0.6709 - val_loss: 0.8623 - val_categorical_accuracy: 0.6727\n",
      "Epoch 8/100\n",
      "382/384 [============================>.] - ETA: 0s - loss: 0.8302 - categorical_accuracy: 0.6868\n",
      "Epoch 8: val_loss did not improve from 0.86231\n",
      "384/384 [==============================] - 8s 20ms/step - loss: 0.8298 - categorical_accuracy: 0.6871 - val_loss: 0.8675 - val_categorical_accuracy: 0.6622\n",
      "Epoch 9/100\n",
      "382/384 [============================>.] - ETA: 0s - loss: 0.8105 - categorical_accuracy: 0.6936\n",
      "Epoch 9: val_loss improved from 0.86231 to 0.83995, saving model to ../models/test/checkpoints-language-detection-5-languages.ckpt\n",
      "384/384 [==============================] - 8s 20ms/step - loss: 0.8093 - categorical_accuracy: 0.6940 - val_loss: 0.8399 - val_categorical_accuracy: 0.6861\n",
      "Epoch 10/100\n",
      "383/384 [============================>.] - ETA: 0s - loss: 0.7869 - categorical_accuracy: 0.7012\n",
      "Epoch 10: val_loss improved from 0.83995 to 0.79834, saving model to ../models/test/checkpoints-language-detection-5-languages.ckpt\n",
      "384/384 [==============================] - 8s 21ms/step - loss: 0.7870 - categorical_accuracy: 0.7010 - val_loss: 0.7983 - val_categorical_accuracy: 0.6962\n",
      "Epoch 11/100\n",
      "382/384 [============================>.] - ETA: 0s - loss: 0.7555 - categorical_accuracy: 0.7163\n",
      "Epoch 11: val_loss did not improve from 0.79834\n",
      "384/384 [==============================] - 8s 22ms/step - loss: 0.7553 - categorical_accuracy: 0.7165 - val_loss: 0.8075 - val_categorical_accuracy: 0.6913\n",
      "Epoch 12/100\n",
      "382/384 [============================>.] - ETA: 0s - loss: 0.7438 - categorical_accuracy: 0.7199\n",
      "Epoch 12: val_loss did not improve from 0.79834\n",
      "384/384 [==============================] - 8s 21ms/step - loss: 0.7437 - categorical_accuracy: 0.7197 - val_loss: 0.8141 - val_categorical_accuracy: 0.6874\n",
      "Epoch 13/100\n",
      "383/384 [============================>.] - ETA: 0s - loss: 0.7154 - categorical_accuracy: 0.7328\n",
      "Epoch 13: val_loss improved from 0.79834 to 0.74712, saving model to ../models/test/checkpoints-language-detection-5-languages.ckpt\n",
      "384/384 [==============================] - 9s 24ms/step - loss: 0.7155 - categorical_accuracy: 0.7327 - val_loss: 0.7471 - val_categorical_accuracy: 0.7170\n",
      "Epoch 14/100\n",
      "383/384 [============================>.] - ETA: 0s - loss: 0.7055 - categorical_accuracy: 0.7376\n",
      "Epoch 14: val_loss did not improve from 0.74712\n",
      "384/384 [==============================] - 9s 23ms/step - loss: 0.7056 - categorical_accuracy: 0.7375 - val_loss: 0.7643 - val_categorical_accuracy: 0.7131\n",
      "Epoch 15/100\n",
      "382/384 [============================>.] - ETA: 0s - loss: 0.6936 - categorical_accuracy: 0.7424\n",
      "Epoch 15: val_loss did not improve from 0.74712\n",
      "384/384 [==============================] - 9s 24ms/step - loss: 0.6927 - categorical_accuracy: 0.7427 - val_loss: 0.7473 - val_categorical_accuracy: 0.7177\n",
      "Epoch 16/100\n",
      "384/384 [==============================] - ETA: 0s - loss: 0.6826 - categorical_accuracy: 0.7445\n",
      "Epoch 16: val_loss improved from 0.74712 to 0.73818, saving model to ../models/test/checkpoints-language-detection-5-languages.ckpt\n",
      "384/384 [==============================] - 9s 24ms/step - loss: 0.6826 - categorical_accuracy: 0.7445 - val_loss: 0.7382 - val_categorical_accuracy: 0.7247\n",
      "Epoch 17/100\n",
      "383/384 [============================>.] - ETA: 0s - loss: 0.6635 - categorical_accuracy: 0.7522\n",
      "Epoch 17: val_loss improved from 0.73818 to 0.72693, saving model to ../models/test/checkpoints-language-detection-5-languages.ckpt\n",
      "384/384 [==============================] - 9s 24ms/step - loss: 0.6632 - categorical_accuracy: 0.7523 - val_loss: 0.7269 - val_categorical_accuracy: 0.7260\n",
      "Epoch 18/100\n",
      "384/384 [==============================] - ETA: 0s - loss: 0.6546 - categorical_accuracy: 0.7580\n",
      "Epoch 18: val_loss improved from 0.72693 to 0.71257, saving model to ../models/test/checkpoints-language-detection-5-languages.ckpt\n",
      "384/384 [==============================] - 9s 23ms/step - loss: 0.6546 - categorical_accuracy: 0.7580 - val_loss: 0.7126 - val_categorical_accuracy: 0.7323\n",
      "Epoch 19/100\n",
      "384/384 [==============================] - ETA: 0s - loss: 0.6420 - categorical_accuracy: 0.7605\n",
      "Epoch 19: val_loss did not improve from 0.71257\n",
      "384/384 [==============================] - 9s 23ms/step - loss: 0.6420 - categorical_accuracy: 0.7605 - val_loss: 0.7681 - val_categorical_accuracy: 0.7113\n",
      "Epoch 20/100\n",
      "384/384 [==============================] - ETA: 0s - loss: 0.6357 - categorical_accuracy: 0.7631\n",
      "Epoch 20: val_loss did not improve from 0.71257\n",
      "384/384 [==============================] - 9s 22ms/step - loss: 0.6357 - categorical_accuracy: 0.7631 - val_loss: 0.7347 - val_categorical_accuracy: 0.7252\n",
      "Epoch 21/100\n",
      "383/384 [============================>.] - ETA: 0s - loss: 0.6264 - categorical_accuracy: 0.7686\n",
      "Epoch 21: val_loss did not improve from 0.71257\n",
      "384/384 [==============================] - 9s 22ms/step - loss: 0.6263 - categorical_accuracy: 0.7686 - val_loss: 0.7255 - val_categorical_accuracy: 0.7250\n",
      "Epoch 22/100\n",
      "383/384 [============================>.] - ETA: 0s - loss: 0.6172 - categorical_accuracy: 0.7711\n",
      "Epoch 22: val_loss improved from 0.71257 to 0.70152, saving model to ../models/test/checkpoints-language-detection-5-languages.ckpt\n",
      "384/384 [==============================] - 9s 23ms/step - loss: 0.6174 - categorical_accuracy: 0.7711 - val_loss: 0.7015 - val_categorical_accuracy: 0.7354\n",
      "Epoch 23/100\n",
      "382/384 [============================>.] - ETA: 0s - loss: 0.6061 - categorical_accuracy: 0.7747\n",
      "Epoch 23: val_loss did not improve from 0.70152\n",
      "384/384 [==============================] - 9s 24ms/step - loss: 0.6060 - categorical_accuracy: 0.7748 - val_loss: 0.7142 - val_categorical_accuracy: 0.7310\n",
      "Epoch 24/100\n",
      "383/384 [============================>.] - ETA: 0s - loss: 0.5941 - categorical_accuracy: 0.7812\n",
      "Epoch 24: val_loss did not improve from 0.70152\n",
      "384/384 [==============================] - 9s 24ms/step - loss: 0.5941 - categorical_accuracy: 0.7811 - val_loss: 0.7401 - val_categorical_accuracy: 0.7248\n",
      "Epoch 25/100\n",
      "384/384 [==============================] - ETA: 0s - loss: 0.5894 - categorical_accuracy: 0.7794\n",
      "Epoch 25: val_loss improved from 0.70152 to 0.69614, saving model to ../models/test/checkpoints-language-detection-5-languages.ckpt\n",
      "384/384 [==============================] - 10s 26ms/step - loss: 0.5894 - categorical_accuracy: 0.7794 - val_loss: 0.6961 - val_categorical_accuracy: 0.7426\n",
      "Epoch 26/100\n",
      "384/384 [==============================] - ETA: 0s - loss: 0.5822 - categorical_accuracy: 0.7849\n",
      "Epoch 26: val_loss did not improve from 0.69614\n",
      "384/384 [==============================] - 8s 22ms/step - loss: 0.5822 - categorical_accuracy: 0.7849 - val_loss: 0.7303 - val_categorical_accuracy: 0.7273\n",
      "Epoch 27/100\n",
      "384/384 [==============================] - ETA: 0s - loss: 0.5888 - categorical_accuracy: 0.7836\n",
      "Epoch 27: val_loss improved from 0.69614 to 0.69231, saving model to ../models/test/checkpoints-language-detection-5-languages.ckpt\n",
      "384/384 [==============================] - 9s 22ms/step - loss: 0.5888 - categorical_accuracy: 0.7836 - val_loss: 0.6923 - val_categorical_accuracy: 0.7432\n",
      "Epoch 28/100\n",
      "382/384 [============================>.] - ETA: 0s - loss: 0.5695 - categorical_accuracy: 0.7880\n",
      "Epoch 28: val_loss did not improve from 0.69231\n",
      "384/384 [==============================] - 9s 23ms/step - loss: 0.5691 - categorical_accuracy: 0.7882 - val_loss: 0.7175 - val_categorical_accuracy: 0.7380\n",
      "Epoch 29/100\n",
      "384/384 [==============================] - ETA: 0s - loss: 0.5638 - categorical_accuracy: 0.7940\n",
      "Epoch 29: val_loss did not improve from 0.69231\n",
      "384/384 [==============================] - 8s 22ms/step - loss: 0.5638 - categorical_accuracy: 0.7940 - val_loss: 0.6932 - val_categorical_accuracy: 0.7501\n",
      "Epoch 30/100\n",
      "382/384 [============================>.] - ETA: 0s - loss: 0.5548 - categorical_accuracy: 0.7969\n",
      "Epoch 30: val_loss improved from 0.69231 to 0.68465, saving model to ../models/test/checkpoints-language-detection-5-languages.ckpt\n",
      "384/384 [==============================] - 9s 23ms/step - loss: 0.5546 - categorical_accuracy: 0.7968 - val_loss: 0.6846 - val_categorical_accuracy: 0.7441\n",
      "Epoch 31/100\n",
      "384/384 [==============================] - ETA: 0s - loss: 0.5543 - categorical_accuracy: 0.7967\n",
      "Epoch 31: val_loss did not improve from 0.68465\n",
      "384/384 [==============================] - 9s 23ms/step - loss: 0.5543 - categorical_accuracy: 0.7967 - val_loss: 0.7007 - val_categorical_accuracy: 0.7429\n",
      "Epoch 32/100\n",
      "383/384 [============================>.] - ETA: 0s - loss: 0.5467 - categorical_accuracy: 0.7983\n",
      "Epoch 32: val_loss improved from 0.68465 to 0.67721, saving model to ../models/test/checkpoints-language-detection-5-languages.ckpt\n",
      "384/384 [==============================] - 9s 23ms/step - loss: 0.5469 - categorical_accuracy: 0.7984 - val_loss: 0.6772 - val_categorical_accuracy: 0.7532\n",
      "Epoch 33/100\n",
      "384/384 [==============================] - ETA: 0s - loss: 0.5352 - categorical_accuracy: 0.8026\n",
      "Epoch 33: val_loss did not improve from 0.67721\n",
      "384/384 [==============================] - 9s 23ms/step - loss: 0.5352 - categorical_accuracy: 0.8026 - val_loss: 0.6956 - val_categorical_accuracy: 0.7522\n",
      "Epoch 34/100\n",
      "384/384 [==============================] - ETA: 0s - loss: 0.5341 - categorical_accuracy: 0.8021\n",
      "Epoch 34: val_loss improved from 0.67721 to 0.67526, saving model to ../models/test/checkpoints-language-detection-5-languages.ckpt\n",
      "384/384 [==============================] - 9s 23ms/step - loss: 0.5341 - categorical_accuracy: 0.8021 - val_loss: 0.6753 - val_categorical_accuracy: 0.7561\n",
      "Epoch 35/100\n",
      "383/384 [============================>.] - ETA: 0s - loss: 0.5328 - categorical_accuracy: 0.8022\n",
      "Epoch 35: val_loss improved from 0.67526 to 0.67154, saving model to ../models/test/checkpoints-language-detection-5-languages.ckpt\n",
      "384/384 [==============================] - 9s 23ms/step - loss: 0.5325 - categorical_accuracy: 0.8023 - val_loss: 0.6715 - val_categorical_accuracy: 0.7533\n",
      "Epoch 36/100\n",
      "384/384 [==============================] - ETA: 0s - loss: 0.5285 - categorical_accuracy: 0.8055\n",
      "Epoch 36: val_loss did not improve from 0.67154\n",
      "384/384 [==============================] - 9s 23ms/step - loss: 0.5285 - categorical_accuracy: 0.8055 - val_loss: 0.6921 - val_categorical_accuracy: 0.7540\n",
      "Epoch 37/100\n",
      "382/384 [============================>.] - ETA: 0s - loss: 0.5202 - categorical_accuracy: 0.8086\n",
      "Epoch 37: val_loss did not improve from 0.67154\n",
      "384/384 [==============================] - 9s 24ms/step - loss: 0.5208 - categorical_accuracy: 0.8081 - val_loss: 0.6877 - val_categorical_accuracy: 0.7527\n",
      "Epoch 38/100\n",
      "382/384 [============================>.] - ETA: 0s - loss: 0.5158 - categorical_accuracy: 0.8112\n",
      "Epoch 38: val_loss did not improve from 0.67154\n",
      "384/384 [==============================] - 9s 23ms/step - loss: 0.5158 - categorical_accuracy: 0.8111 - val_loss: 0.6718 - val_categorical_accuracy: 0.7555\n",
      "Epoch 39/100\n",
      "382/384 [============================>.] - ETA: 0s - loss: 0.5123 - categorical_accuracy: 0.8093\n",
      "Epoch 39: val_loss did not improve from 0.67154\n",
      "384/384 [==============================] - 9s 23ms/step - loss: 0.5123 - categorical_accuracy: 0.8094 - val_loss: 0.6797 - val_categorical_accuracy: 0.7452\n",
      "Epoch 40/100\n",
      "382/384 [============================>.] - ETA: 0s - loss: 0.5100 - categorical_accuracy: 0.8130\n",
      "Epoch 40: val_loss did not improve from 0.67154\n",
      "384/384 [==============================] - 9s 23ms/step - loss: 0.5099 - categorical_accuracy: 0.8131 - val_loss: 0.7345 - val_categorical_accuracy: 0.7439\n"
     ]
    },
    {
     "name": "stderr",
     "output_type": "stream",
     "text": [
      "WARNING:absl:Found untraced functions such as _jit_compiled_convolution_op, _jit_compiled_convolution_op, _jit_compiled_convolution_op, _jit_compiled_convolution_op while saving (showing 4 of 4). These functions will not be directly callable after loading.\n"
     ]
    },
    {
     "name": "stdout",
     "output_type": "stream",
     "text": [
      "INFO:tensorflow:Assets written to: ../models/test/pre-trained/assets\n"
     ]
    },
    {
     "name": "stderr",
     "output_type": "stream",
     "text": [
      "INFO:tensorflow:Assets written to: ../models/test/pre-trained/assets\n"
     ]
    }
   ],
   "source": [
    "# Training model with GPU\n",
    "with tf.device('/gpu:0'):\n",
    "  history = model.fit(x_train, y_train, epochs=100, batch_size=64, validation_data=(x_val, y_val), callbacks=[earlystopping, checkpoint])\n",
    "\n",
    "model.save('../models/test/pre-trained')"
   ]
  },
  {
   "cell_type": "code",
   "execution_count": 90,
   "metadata": {},
   "outputs": [
    {
     "name": "stdout",
     "output_type": "stream",
     "text": [
      " 26/192 [===>..........................] - ETA: 0s"
     ]
    },
    {
     "name": "stderr",
     "output_type": "stream",
     "text": [
      "2023-04-30 15:05:29.679137: I tensorflow/core/grappler/optimizers/custom_graph_optimizer_registry.cc:113] Plugin optimizer for device_type GPU is enabled.\n"
     ]
    },
    {
     "name": "stdout",
     "output_type": "stream",
     "text": [
      "192/192 [==============================] - 1s 4ms/step\n"
     ]
    },
    {
     "data": {
      "image/png": "[encoded data removed]",
      "text/plain": [
       "<Figure size 900x500 with 2 Axes>"
      ]
     },
     "metadata": {},
     "output_type": "display_data"
    }
   ],
   "source": [
    "# Confusion matrix:\n",
    "import seaborn as sn\n",
    "import pandas as pd\n",
    "import matplotlib.pyplot as plt\n",
    "\n",
    "preds = model.predict(x_val)\n",
    "y_classes = preds.argmax(axis=-1)\n",
    "from sklearn.metrics import confusion_matrix\n",
    "cm = confusion_matrix(y_true = y_val.argmax(axis=-1), y_pred = y_classes)\n",
    "\n",
    "df_cm = pd.DataFrame(cm)\n",
    "plt.figure(figsize = (9,5))\n",
    "sn.heatmap(df_cm, annot=True, fmt = '.3g', xticklabels=CLASSES, yticklabels=CLASSES)\n",
    "plt.show()"
   ]
  },
  {
   "cell_type": "code",
   "execution_count": 102,
   "metadata": {},
   "outputs": [
    {
     "data": {
      "image/png": "[encoded data removed]",
      "text/plain": [
       "<Figure size 640x480 with 1 Axes>"
      ]
     },
     "metadata": {},
     "output_type": "display_data"
    }
   ],
   "source": [
    "plt.plot(range(0, len(history.history['categorical_accuracy'])), history.history['categorical_accuracy'])\n",
    "plt.plot(range(0, len(history.history['val_categorical_accuracy'])), history.history['val_categorical_accuracy'])\n",
    "plt.xlabel(\"Epochs\")\n",
    "plt.ylabel(\"Accuracy\")\n",
    "plt.legend(['Training', 'Validation'])\n",
    "plt.show()"
   ]
  },
  {
   "cell_type": "code",
   "execution_count": 103,
   "metadata": {},
   "outputs": [
    {
     "data": {
      "image/png": "[encoded data removed]",
      "text/plain": [
       "<Figure size 640x480 with 1 Axes>"
      ]
     },
     "metadata": {},
     "output_type": "display_data"
    }
   ],
   "source": [
    "plt.plot(range(0, len(history.history['loss'])), history.history['loss'])\n",
    "plt.plot(range(0, len(history.history['val_loss'])), history.history['val_loss'])\n",
    "plt.xlabel(\"Epochs\")\n",
    "plt.ylabel(\"Loss\")\n",
    "plt.legend(['Training', 'Validation'])\n",
    "plt.show()"
   ]
  },
  {
   "cell_type": "code",
   "execution_count": 92,
   "metadata": {},
   "outputs": [],
   "source": [
    "# with tf.device('/gpu:0'):\n",
    "#     model.evaluate(x_test, y_test, verbose=2)\n",
    "#     pred_test = model.predict(x_test)\n",
    "#     print(tf.math.confusion_matrix(y_test.argmax(axis=1), pred_test.argmax(axis=1)))"
   ]
  },
  {
   "attachments": {},
   "cell_type": "markdown",
   "metadata": {},
   "source": [
    "## Save trained model"
   ]
  },
  {
   "cell_type": "code",
   "execution_count": 93,
   "metadata": {},
   "outputs": [],
   "source": [
    "model.save('keras2c/pre-trained_lab_gsc_no_globalavg.h5')"
   ]
  },
  {
   "cell_type": "code",
   "execution_count": 94,
   "metadata": {},
   "outputs": [],
   "source": [
    "# remove softmax\n",
    "model = tf.keras.Model(model.input, model.layers[-2].output, name=model.name)"
   ]
  },
  {
   "cell_type": "code",
   "execution_count": 95,
   "metadata": {},
   "outputs": [
    {
     "name": "stdout",
     "output_type": "stream",
     "text": [
      "WARNING:tensorflow:Compiled the loaded model, but the compiled metrics have yet to be built. `model.compile_metrics` will be empty until you train or evaluate the model.\n"
     ]
    },
    {
     "name": "stderr",
     "output_type": "stream",
     "text": [
      "WARNING:tensorflow:Compiled the loaded model, but the compiled metrics have yet to be built. `model.compile_metrics` will be empty until you train or evaluate the model.\n",
      "WARNING:absl:Found untraced functions such as _jit_compiled_convolution_op, _jit_compiled_convolution_op, _jit_compiled_convolution_op, _jit_compiled_convolution_op while saving (showing 4 of 4). These functions will not be directly callable after loading.\n"
     ]
    },
    {
     "name": "stdout",
     "output_type": "stream",
     "text": [
      "INFO:tensorflow:Assets written to: ram://b16f3098-8e35-43a8-916f-1ec7c2103af8/assets\n"
     ]
    },
    {
     "name": "stderr",
     "output_type": "stream",
     "text": [
      "INFO:tensorflow:Assets written to: ram://b16f3098-8e35-43a8-916f-1ec7c2103af8/assets\n"
     ]
    },
    {
     "name": "stdout",
     "output_type": "stream",
     "text": [
      "WARNING:tensorflow:No training configuration found in save file, so the model was *not* compiled. Compile it manually.\n"
     ]
    },
    {
     "name": "stderr",
     "output_type": "stream",
     "text": [
      "WARNING:tensorflow:No training configuration found in save file, so the model was *not* compiled. Compile it manually.\n"
     ]
    },
    {
     "name": "stdout",
     "output_type": "stream",
     "text": [
      "———————————————————————————————————————————————————————————————————————————————————————————————————————\n",
      "Inputs                           | Layer                            | Outputs                         \n",
      "———————————————————————————————————————————————————————————————————————————————————————————————————————\n",
      "                                 | input_12                         | conv1d_31                       \n",
      "-------------------------------------------------------------------------------------------------------\n",
      "input_12                         | conv1d_31                        | max_pooling1d_24                \n",
      "-------------------------------------------------------------------------------------------------------\n",
      "conv1d_31                        | max_pooling1d_24                 | conv1d_32                       \n",
      "-------------------------------------------------------------------------------------------------------\n",
      "max_pooling1d_24                 | conv1d_32                        | max_pooling1d_25                \n",
      "-------------------------------------------------------------------------------------------------------\n",
      "conv1d_32                        | max_pooling1d_25                 | conv1d_33                       \n",
      "-------------------------------------------------------------------------------------------------------\n",
      "max_pooling1d_25                 | conv1d_33                        | max_pooling1d_26                \n",
      "-------------------------------------------------------------------------------------------------------\n",
      "conv1d_33                        | max_pooling1d_26                 | conv1d_34                       \n",
      "-------------------------------------------------------------------------------------------------------\n",
      "max_pooling1d_26                 | conv1d_34                        | average_pooling1d_7             \n",
      "-------------------------------------------------------------------------------------------------------\n",
      "conv1d_34                        | average_pooling1d_7              | flatten_11                      \n",
      "-------------------------------------------------------------------------------------------------------\n",
      "average_pooling1d_7              | flatten_11                       | dense_12                        \n",
      "-------------------------------------------------------------------------------------------------------\n",
      "flatten_11                       | dense_12                         |                                 \n",
      "-------------------------------------------------------------------------------------------------------\n",
      "\n",
      "After optimization:\n",
      "———————————————————————————————————————————————————————————————————————————————————————————————————————\n",
      "Inputs                           | Layer                            | Outputs                         \n",
      "———————————————————————————————————————————————————————————————————————————————————————————————————————\n",
      "                                 | input_12                         | conv1d_31                       \n",
      "-------------------------------------------------------------------------------------------------------\n",
      "input_12                         | conv1d_31                        | max_pooling1d_24                \n",
      "-------------------------------------------------------------------------------------------------------\n",
      "conv1d_31                        | max_pooling1d_24                 | conv1d_32                       \n",
      "-------------------------------------------------------------------------------------------------------\n",
      "max_pooling1d_24                 | conv1d_32                        | max_pooling1d_25                \n",
      "-------------------------------------------------------------------------------------------------------\n",
      "conv1d_32                        | max_pooling1d_25                 | conv1d_33                       \n",
      "-------------------------------------------------------------------------------------------------------\n",
      "max_pooling1d_25                 | conv1d_33                        | max_pooling1d_26                \n",
      "-------------------------------------------------------------------------------------------------------\n",
      "conv1d_33                        | max_pooling1d_26                 | conv1d_34                       \n",
      "-------------------------------------------------------------------------------------------------------\n",
      "max_pooling1d_26                 | conv1d_34                        | average_pooling1d_7             \n",
      "-------------------------------------------------------------------------------------------------------\n",
      "conv1d_34                        | average_pooling1d_7              | flatten_11                      \n",
      "-------------------------------------------------------------------------------------------------------\n",
      "average_pooling1d_7              | flatten_11                       | dense_12                        \n",
      "-------------------------------------------------------------------------------------------------------\n",
      "flatten_11                       | dense_12                         |                                 \n",
      "-------------------------------------------------------------------------------------------------------\n",
      "\n"
     ]
    }
   ],
   "source": [
    "FIXED_POINT=9\n",
    "res = kerascnn2c.Converter(output_path=Path('keras2c/pre-trained_gsc_output_fixed'),\n",
    "                           fixed_point=FIXED_POINT, # Number of bits for the fractional part, Q7.9 format\n",
    "                           number_type='int16_t', # Data type for weights/activations (16 bits quantization)\n",
    "                           long_number_type='int32_t', # Data type for intermediate results\n",
    "                           number_min=-(2**15), # Minimum value for 16-bit signed integers\n",
    "                           number_max=(2**15)-1 # Maximum value for 16-bit signed integers\n",
    "                          ).convert_model(copy.deepcopy(model))\n",
    "with open('keras2c/pre-traine_dgsc_model_fixed.h', 'w') as f:\n",
    "    f.write(res)"
   ]
  }
 ],
 "metadata": {
  "kernelspec": {
   "display_name": "OpenSesame",
   "language": "python",
   "name": "python3"
  },
  "language_info": {
   "codemirror_mode": {
    "name": "ipython",
    "version": 3
   },
   "file_extension": ".py",
   "mimetype": "text/x-python",
   "name": "python",
   "nbconvert_exporter": "python",
   "pygments_lexer": "ipython3",
   "version": "3.10.8"
  },
  "orig_nbformat": 4
 },
 "nbformat": 4,
 "nbformat_minor": 2
}
