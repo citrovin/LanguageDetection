{
 "cells": [
  {
   "attachments": {},
   "cell_type": "markdown",
   "metadata": {},
   "source": [
    "# Language Detection on the Edge"
   ]
  },
  {
   "attachments": {},
   "cell_type": "markdown",
   "metadata": {},
   "source": [
    "## Imports"
   ]
  },
  {
   "cell_type": "code",
   "execution_count": 1,
   "metadata": {},
   "outputs": [],
   "source": [
    "# Imports\n",
    "import wave\n",
    "import numpy as np\n",
    "import pickle\n",
    "import matplotlib.pyplot as plt\n",
    "\n",
    "import tensorflow as tf\n",
    "from keras.models import Sequential\n",
    "from keras.layers import Input, Conv1D, AvgPool1D, MaxPool1D, ZeroPadding1D, BatchNormalization, Flatten, Dense, Activation, GlobalAveragePooling1D\n",
    "from keras.utils.data_utils import get_file\n",
    "from keras.utils.np_utils import to_categorical\n",
    "from keras.callbacks import EarlyStopping\n",
    "\n",
    "import kerascnn2c\n",
    "from pathlib import Path\n",
    "import copy\n",
    "\n",
    "from sklearn.preprocessing import MinMaxScaler"
   ]
  },
  {
   "attachments": {},
   "cell_type": "markdown",
   "metadata": {},
   "source": [
    "## Pre-process Data"
   ]
  },
  {
   "attachments": {},
   "cell_type": "markdown",
   "metadata": {},
   "source": [
    "### Helper Functions"
   ]
  },
  {
   "cell_type": "code",
   "execution_count": 2,
   "metadata": {},
   "outputs": [],
   "source": [
    "def create_data(dataset_dir: str, file_names: list):\n",
    "\n",
    "    NUM_CLASSES = len(file_names)\n",
    "    \n",
    "    x_train, x_test, x_val, y_train, y_test, y_val = [], [], [], [], [], []\n",
    "    \n",
    "    for enum, file in enumerate(file_names):\n",
    "        path = dataset_dir + file + '.pkl'\n",
    "        with open(path, 'rb') as data_file:\n",
    "            data = pickle.load(data_file)\n",
    "\n",
    "            data_train = data['data_train']\n",
    "            data_test = data['data_test']\n",
    "            data_val = data['data_val']\n",
    "\n",
    "        sample_rate=16000\n",
    "\n",
    "        x_train_inter = []\n",
    "        for i in data_train:\n",
    "            num_sec = int(i.shape[0]/sample_rate)\n",
    "            array_intermediate = i[:(num_sec*sample_rate)]\n",
    "            x_train_inter.extend(np.split(array_intermediate, num_sec))\n",
    "        \n",
    "        \n",
    "        # x_test_inter = []\n",
    "        # for i in data_test:\n",
    "        #     num_sec = int(i.shape[0]/sample_rate)\n",
    "        #     array_intermediate = i[:(num_sec*sample_rate)]\n",
    "        #     x_test_inter.extend(np.split(array_intermediate, num_sec))\n",
    "\n",
    "        # x_val_inter = []\n",
    "        # for i in data_val:\n",
    "        #     num_sec = int(i.shape[0]/sample_rate)\n",
    "        #     array_intermediate = i[:(num_sec*sample_rate)]\n",
    "        #     x_val_inter.extend(np.split(array_intermediate, num_sec))\n",
    "\n",
    "        y_train_inter = [[enum]]*len(x_train_inter)\n",
    "        # y_test_inter = [[enum]]*len(x_test_inter)\n",
    "        # y_val_inter = [[enum]]*len(x_val_inter)\n",
    "\n",
    "        x_train.extend(x_train_inter)\n",
    "        # x_test.extend(x_test_inter)\n",
    "        # x_val.extend(x_val_inter)\n",
    "\n",
    "        y_train.extend(y_train_inter)\n",
    "        # y_test.extend(y_test_inter)\n",
    "        # y_val.extend(y_val_inter)\n",
    "        \n",
    "\n",
    "    x_train = np.array(x_train)\n",
    "    # x_test = np.array(x_test)\n",
    "    # x_val = np.array(x_val)\n",
    "\n",
    "    y_train = to_categorical(np.array(y_train), num_classes = NUM_CLASSES)\n",
    "    # y_test = to_categorical(np.array(y_test), num_classes = NUM_CLASSES)\n",
    "    # y_val = to_categorical(np.array(y_val), num_classes = NUM_CLASSES)\n",
    "\n",
    "    # return x_train, x_test, x_val, y_train, y_test, y_val\n",
    "    return x_train, y_train\n",
    "    \n",
    "def load_data(dir_path: str):\n",
    "    with open(dir_path, 'rb') as f:\n",
    "        data = pickle.load(f)\n",
    "    f.close()\n",
    "    return data\n",
    "\n",
    "def fixed_point_conversion(x: np.array, fixed_point: int):\n",
    "  x /= 2**fixed_point\n",
    "  return x\n"
   ]
  },
  {
   "attachments": {},
   "cell_type": "markdown",
   "metadata": {},
   "source": [
    "### Loading Data"
   ]
  },
  {
   "cell_type": "code",
   "execution_count": 3,
   "metadata": {},
   "outputs": [
    {
     "name": "stdout",
     "output_type": "stream",
     "text": [
      "Data successfully loaded\n",
      "Data successfully permutated\n",
      "Data successfully shortened\n",
      "Data successfully scaled\n"
     ]
    }
   ],
   "source": [
    "# dataset_dir = '../../data/pre-train/raw/'\n",
    "dataset_dir = '../../data/pre-train/'\n",
    "CLASSES = ['fleurs.en_us', 'fleurs.de_de', 'fleurs.es_419', 'fleurs.fr_fr', 'fleurs.it_it']\n",
    "# CLASSES = ['fleurs.en_us', 'fleurs.de_de', 'fleurs.es_419', 'fleurs.fr_fr']\n",
    "\n",
    "# x = load_data(dataset_dir+'x_train.pkl')\n",
    "# y = load_data(dataset_dir+'y_train.pkl')\n",
    "\n",
    "x = load_data(dataset_dir+'x_all.pkl')\n",
    "y = load_data(dataset_dir+'y_all.pkl')\n",
    "\n",
    "# x = load_data(dataset_dir+'x_val.pkl')\n",
    "# y = load_data(dataset_dir+'y_val.pkl')\n",
    "print('Data successfully loaded')\n",
    "\n",
    "\n",
    "permutation = np.random.permutation(len(x))\n",
    "x = x[permutation]\n",
    "y = y[permutation]\n",
    "print('Data successfully permutated')\n",
    "\n",
    "x = x[:int(0.5*len(x)),:]\n",
    "y = y[:int(0.5*len(y)),:]\n",
    "print('Data successfully shortened')\n",
    "\n",
    "min_int16 = fixed_point_conversion(-(2**15), 9)\n",
    "max_int16 = fixed_point_conversion((2**15)-1, 9)\n",
    "\n",
    "scaler = MinMaxScaler(feature_range=(min_int16, max_int16))\n",
    "x = np.array([scaler.fit_transform(np.array(i).reshape((16000,1))) for i in x])\n",
    "print('Data successfully scaled')\n",
    "\n",
    "# x_test = load_data(dataset_dir+'x_test.pkl')\n",
    "# x_val = load_data(dataset_dir+'x_val.pkl')\n",
    "# y_test = load_data(dataset_dir+'y_test.pkl')\n",
    "# y_val = load_data(dataset_dir+'y_val.pkl')\n",
    "\n",
    "# print('----------------------------------------------------------------------')\n",
    "# print(f'Number of samples in train: {len(x_train)}')\n",
    "# print(f'Number of samples in test: {len(x_test)}')\n",
    "# print(f'Number of samplesin validation: {len(x_val)}')\n",
    "# print('----------------------------------------------------------------------')\n",
    "# print('----------------------------------------------------------------------')\n",
    "# print(f'x_train shape: {x_train.shape} | y_train shape: {y_train.shape}')\n",
    "# print(f'x_test shape: {x_test.shape} | y_test shape: {y_test.shape}')\n",
    "# print(f'x_val shape: {x_val.shape} | y_val shape: {y_val.shape}')\n",
    "# print('----------------------------------------------------------------------')"
   ]
  },
  {
   "cell_type": "code",
   "execution_count": 4,
   "metadata": {},
   "outputs": [
    {
     "name": "stdout",
     "output_type": "stream",
     "text": [
      "X train: (61412, 16000, 1)\n",
      "X val: (15354, 16000, 1)\n",
      "y train: (61412, 5)\n",
      "y val: (15354, 5)\n"
     ]
    }
   ],
   "source": [
    "# splitting into training and validation data\n",
    "train_split = int(0.8*len(x))\n",
    "\n",
    "x_train, x_val = x[:train_split,:], x[train_split:,:]\n",
    "y_train, y_val = y[:train_split,:], y[train_split:,:]\n",
    "\n",
    "del x\n",
    "del y\n",
    "\n",
    "print(f'X train: {x_train.shape}')\n",
    "print(f'X val: {x_val.shape}')\n",
    "print(f'y train: {y_train.shape}')\n",
    "print(f'y val: {y_val.shape}')"
   ]
  },
  {
   "cell_type": "code",
   "execution_count": 5,
   "metadata": {},
   "outputs": [],
   "source": [
    "# with open(f'../data/pre-train/x_train.pkl', 'wb') as f:\n",
    "#     pickle.dump(x_train, f)\n",
    "# f.close()\n",
    "\n",
    "# with open(f'../data/pre-train/x_test.pkl', 'wb') as f:\n",
    "#     pickle.dump(x_test, f)\n",
    "# f.close()\n",
    "\n",
    "# with open(f'../data/pre-train/x_val.pkl', 'wb') as f:\n",
    "#     pickle.dump(x_val, f)\n",
    "# f.close()\n",
    "\n",
    "# with open(f'../data/pre-train/y_train.pkl', 'wb') as f:\n",
    "#     pickle.dump(y_train, f)\n",
    "# f.close()\n",
    "\n",
    "# with open(f'../data/pre-train/y_test.pkl', 'wb') as f:\n",
    "#     pickle.dump(y_test, f)\n",
    "# f.close()\n",
    "\n",
    "# with open(f'../data/pre-train/y_val.pkl', 'wb') as f:\n",
    "#     pickle.dump(y_val, f)\n",
    "# f.close()"
   ]
  },
  {
   "attachments": {},
   "cell_type": "markdown",
   "metadata": {},
   "source": [
    "## Analysis of Training Data"
   ]
  },
  {
   "cell_type": "code",
   "execution_count": 6,
   "metadata": {},
   "outputs": [
    {
     "name": "stdout",
     "output_type": "stream",
     "text": [
      "--------------------------------COUNT EN---------------------------------\n",
      "Train\t EN: 10305\n",
      "Val\t EN: 2523\n",
      "--------------------------------COUNT DE---------------------------------\n",
      "Train\t DE: 12414\n",
      "Val\t DE: 3122\n",
      "--------------------------------COUNT ES---------------------------------\n",
      "Train\t ES: 12183\n",
      "Val\t ES: 2965\n",
      "--------------------------------COUNT FR---------------------------------\n",
      "Train\t FR: 14242\n",
      "Val\t FR: 3617\n",
      "--------------------------------COUNT IT---------------------------------\n",
      "Train\t IT: 12268\n",
      "Val\t IT: 3127\n",
      "-------------------------------------------------------------------------\n",
      "--------------------------------MINIMUM COUNTS---------------------------------\n",
      "Min count train: 10305\n",
      "Min count val: 2523\n",
      "-------------------------------------------------------------------------\n"
     ]
    },
    {
     "data": {
      "image/png": "[encoded data removed]",
      "text/plain": [
       "<Figure size 900x350 with 2 Axes>"
      ]
     },
     "metadata": {},
     "output_type": "display_data"
    }
   ],
   "source": [
    "\n",
    "labels_train = [np.argmax(i) for i in y_train]\n",
    "# labels_test = [np.argmax(i) for i in y_test]\n",
    "labels_val = [np.argmax(i) for i in y_val]\n",
    "\n",
    "unique_train, counts_train = np.unique(labels_train, return_counts=True)\n",
    "# unique_test, counts_test = np.unique(labels_test, return_counts=True)\n",
    "unique_val, counts_val = np.unique(labels_val, return_counts=True)\n",
    "\n",
    "del labels_train\n",
    "# del labels_test\n",
    "del labels_val\n",
    "\n",
    "# CLASSES = ['fleurs.en_us', 'fleurs.de_de', 'fleurs.es_419', 'fleurs.fr_fr', 'fleurs.it_it']\n",
    "# LABELS = ['EN', 'DE', 'ES', 'FR', 'IT']\n",
    "LABELS = ['EN', 'DE', 'ES', 'FR', 'IT']\n",
    "\n",
    "\n",
    "\n",
    "\n",
    "fig, axes = plt.subplots(1,2, figsize=(9, 3.5), sharey=True, edgecolor='black')\n",
    "axes[0].bar(LABELS, counts_train, color='#01386a')\n",
    "axes[0].set_title('Training Data')\n",
    "\n",
    "axes[1].bar(LABELS, counts_val, color='#01386a')\n",
    "axes[1].set_title('Validation Data')\n",
    "\n",
    "# axes[2].bar(LABELS, counts_test, color='#01386a')\n",
    "# axes[2].set_title('Testing Data')\n",
    "\n",
    "fig.suptitle('Distribution of Pre-Training Data')\n",
    "\n",
    "\n",
    "for enum, i in enumerate(counts_train):\n",
    "    print(f'--------------------------------COUNT {LABELS[enum]}---------------------------------')\n",
    "    print(f'Train\\t {LABELS[enum]}: {i}')\n",
    "    # print(f'Test\\t {LABELS[enum]}: {counts_test[enum]}')\n",
    "    print(f'Val\\t {LABELS[enum]}: {counts_val[enum]}')\n",
    "print('-------------------------------------------------------------------------')\n",
    "\n",
    "print('--------------------------------MINIMUM COUNTS---------------------------------')\n",
    "print(f'Min count train: {min(counts_train)}')\n",
    "# print(f'Min count test: {min(counts_test)}')\n",
    "print(f'Min count val: {min(counts_val)}')\n",
    "print('-------------------------------------------------------------------------')"
   ]
  },
  {
   "attachments": {},
   "cell_type": "markdown",
   "metadata": {},
   "source": [
    "## Preparing Data for Training"
   ]
  },
  {
   "cell_type": "code",
   "execution_count": 8,
   "metadata": {},
   "outputs": [],
   "source": [
    "# perms = np.random.permutation(len(y_test))[0:250]\n",
    "# x_test_250 = x_test[perms]\n",
    "# y_test_250 = y_test[perms]\n",
    "# np.savetxt('x_test_gsc_250.csv', x_test_250.reshape((x_test_250.shape[0], -1)), delimiter=',', fmt='%s')\n",
    "# np.savetxt('y_test_gsc_250.csv', y_test_250, delimiter=',', fmt='%s')\n",
    "\n"
   ]
  },
  {
   "attachments": {},
   "cell_type": "markdown",
   "metadata": {},
   "source": [
    "## Build model"
   ]
  },
  {
   "cell_type": "code",
   "execution_count": 7,
   "metadata": {},
   "outputs": [
    {
     "name": "stdout",
     "output_type": "stream",
     "text": [
      "Num GPUs Available:  1\n",
      "Name of Devices:  [PhysicalDevice(name='/physical_device:CPU:0', device_type='CPU'), PhysicalDevice(name='/physical_device:GPU:0', device_type='GPU')]\n"
     ]
    }
   ],
   "source": [
    "# Available devices\n",
    "print(\"Num GPUs Available: \", len(tf.config.list_physical_devices('GPU')))\n",
    "print('Name of Devices: ', tf.config.list_physical_devices())"
   ]
  },
  {
   "cell_type": "code",
   "execution_count": 8,
   "metadata": {},
   "outputs": [
    {
     "name": "stdout",
     "output_type": "stream",
     "text": [
      "Metal device set to: Apple M1\n",
      "\n",
      "systemMemory: 16.00 GB\n",
      "maxCacheSize: 5.33 GB\n",
      "\n"
     ]
    },
    {
     "name": "stderr",
     "output_type": "stream",
     "text": [
      "2023-05-01 15:27:04.367443: I tensorflow/core/common_runtime/pluggable_device/pluggable_device_factory.cc:305] Could not identify NUMA node of platform GPU ID 0, defaulting to 0. Your kernel may not have been built with NUMA support.\n",
      "2023-05-01 15:27:04.369200: I tensorflow/core/common_runtime/pluggable_device/pluggable_device_factory.cc:271] Created TensorFlow device (/job:localhost/replica:0/task:0/device:GPU:0 with 0 MB memory) -> physical PluggableDevice (device: 0, name: METAL, pci bus id: <undefined>)\n"
     ]
    },
    {
     "name": "stdout",
     "output_type": "stream",
     "text": [
      "Model: \"sequential\"\n",
      "_________________________________________________________________\n",
      " Layer (type)                Output Shape              Param #   \n",
      "=================================================================\n",
      " conv1d (Conv1D)             (None, 1599, 8)           168       \n",
      "                                                                 \n",
      " max_pooling1d (MaxPooling1D  (None, 799, 8)           0         \n",
      " )                                                               \n",
      "                                                                 \n",
      " conv1d_1 (Conv1D)           (None, 198, 16)           1040      \n",
      "                                                                 \n",
      " max_pooling1d_1 (MaxPooling  (None, 99, 16)           0         \n",
      " 1D)                                                             \n",
      "                                                                 \n",
      " conv1d_2 (Conv1D)           (None, 48, 32)            2080      \n",
      "                                                                 \n",
      " max_pooling1d_2 (MaxPooling  (None, 24, 32)           0         \n",
      " 1D)                                                             \n",
      "                                                                 \n",
      " conv1d_3 (Conv1D)           (None, 23, 64)            4160      \n",
      "                                                                 \n",
      " average_pooling1d (AverageP  (None, 5, 64)            0         \n",
      " ooling1D)                                                       \n",
      "                                                                 \n",
      " flatten (Flatten)           (None, 320)               0         \n",
      "                                                                 \n",
      " dense (Dense)               (None, 5)                 1605      \n",
      "                                                                 \n",
      " activation (Activation)     (None, 5)                 0         \n",
      "                                                                 \n",
      "=================================================================\n",
      "Total params: 9,053\n",
      "Trainable params: 9,053\n",
      "Non-trainable params: 0\n",
      "_________________________________________________________________\n"
     ]
    },
    {
     "name": "stderr",
     "output_type": "stream",
     "text": [
      "/opt/homebrew/Caskroom/miniforge/base/envs/embeddedAI/lib/python3.10/site-packages/keras/optimizers/optimizer_v2/adam.py:110: UserWarning: The `lr` argument is deprecated, use `learning_rate` instead.\n",
      "  super(Adam, self).__init__(name, **kwargs)\n"
     ]
    }
   ],
   "source": [
    "model = Sequential()\n",
    "model.add(Input(shape=(16000, 1)))\n",
    "model.add(Conv1D(filters=8, kernel_size=20, strides=10,activation='relu'))\n",
    "model.add(MaxPool1D(pool_size=2))\n",
    "model.add(Conv1D(filters=16, kernel_size=8, strides=4, activation='relu'))\n",
    "model.add(MaxPool1D(pool_size=2))\n",
    "model.add(Conv1D(filters=32, kernel_size=4, strides=2, activation='relu'))\n",
    "model.add(MaxPool1D(pool_size=2))\n",
    "model.add(Conv1D(filters=64, kernel_size=2, activation='relu'))\n",
    "model.add(AvgPool1D(4))\n",
    "model.add(Flatten())\n",
    "# model.add(Dense(units=128))\n",
    "model.add(Dense(units=5))\n",
    "model.add(Activation('softmax'))\n",
    "\n",
    "# EXPLORE Learning Rate\n",
    "earlystopping = EarlyStopping(monitor = \"val_loss\", patience  = 5)\n",
    "opt = tf.keras.optimizers.Adam(lr=10e-4, decay = 10e-6)\n",
    "\n",
    "model_path = '../models/language-detection-full-data/pre-trained'\n",
    "model_name = 'language-detection-0.6'\n",
    "\n",
    "# EARLY STOPPING\n",
    "callback_path = f'{model_path}/checkpoints/{model_name}.ckpt' # save weights to this directory\n",
    "checkpoint = tf.keras.callbacks.ModelCheckpoint(callback_path,\n",
    "                                                save_weights_only=True,\n",
    "                                                verbose=1,\n",
    "                                                save_best_only=True)\n",
    "\n",
    "model.summary()\n",
    "model.compile(optimizer=opt, loss='categorical_crossentropy', metrics=['categorical_accuracy'])"
   ]
  },
  {
   "cell_type": "code",
   "execution_count": 9,
   "metadata": {},
   "outputs": [
    {
     "name": "stdout",
     "output_type": "stream",
     "text": [
      "Epoch 1/50\n"
     ]
    },
    {
     "name": "stderr",
     "output_type": "stream",
     "text": [
      "2023-05-01 15:27:51.467551: W tensorflow/core/platform/profile_utils/cpu_utils.cc:128] Failed to get CPU frequency: 0 Hz\n",
      "2023-05-01 15:27:52.278056: I tensorflow/core/grappler/optimizers/custom_graph_optimizer_registry.cc:113] Plugin optimizer for device_type GPU is enabled.\n"
     ]
    },
    {
     "name": "stdout",
     "output_type": "stream",
     "text": [
      "480/480 [==============================] - ETA: 0s - loss: 1.2965 - categorical_accuracy: 0.4577"
     ]
    },
    {
     "name": "stderr",
     "output_type": "stream",
     "text": [
      "2023-05-01 15:28:08.811661: I tensorflow/core/grappler/optimizers/custom_graph_optimizer_registry.cc:113] Plugin optimizer for device_type GPU is enabled.\n"
     ]
    },
    {
     "name": "stdout",
     "output_type": "stream",
     "text": [
      "\n",
      "Epoch 1: val_loss improved from inf to 1.09753, saving model to ../models/language-detection-full-data/pre-trained/checkpoints/language-detection-0.6.ckpt\n",
      "480/480 [==============================] - 19s 37ms/step - loss: 1.2965 - categorical_accuracy: 0.4577 - val_loss: 1.0975 - val_categorical_accuracy: 0.5781\n",
      "Epoch 2/50\n",
      "480/480 [==============================] - ETA: 0s - loss: 1.0037 - categorical_accuracy: 0.6173\n",
      "Epoch 2: val_loss improved from 1.09753 to 0.97450, saving model to ../models/language-detection-full-data/pre-trained/checkpoints/language-detection-0.6.ckpt\n",
      "480/480 [==============================] - 10s 22ms/step - loss: 1.0037 - categorical_accuracy: 0.6173 - val_loss: 0.9745 - val_categorical_accuracy: 0.6246\n",
      "Epoch 3/50\n",
      "479/480 [============================>.] - ETA: 0s - loss: 0.9023 - categorical_accuracy: 0.6592\n",
      "Epoch 3: val_loss improved from 0.97450 to 0.88072, saving model to ../models/language-detection-full-data/pre-trained/checkpoints/language-detection-0.6.ckpt\n",
      "480/480 [==============================] - 10s 22ms/step - loss: 0.9020 - categorical_accuracy: 0.6593 - val_loss: 0.8807 - val_categorical_accuracy: 0.6695\n",
      "Epoch 4/50\n",
      "479/480 [============================>.] - ETA: 0s - loss: 0.8324 - categorical_accuracy: 0.6870\n",
      "Epoch 4: val_loss improved from 0.88072 to 0.83794, saving model to ../models/language-detection-full-data/pre-trained/checkpoints/language-detection-0.6.ckpt\n",
      "480/480 [==============================] - 11s 22ms/step - loss: 0.8321 - categorical_accuracy: 0.6871 - val_loss: 0.8379 - val_categorical_accuracy: 0.6844\n",
      "Epoch 5/50\n",
      "480/480 [==============================] - ETA: 0s - loss: 0.7791 - categorical_accuracy: 0.7081\n",
      "Epoch 5: val_loss improved from 0.83794 to 0.79402, saving model to ../models/language-detection-full-data/pre-trained/checkpoints/language-detection-0.6.ckpt\n",
      "480/480 [==============================] - 11s 22ms/step - loss: 0.7791 - categorical_accuracy: 0.7081 - val_loss: 0.7940 - val_categorical_accuracy: 0.7018\n",
      "Epoch 6/50\n",
      "480/480 [==============================] - ETA: 0s - loss: 0.7477 - categorical_accuracy: 0.7214\n",
      "Epoch 6: val_loss improved from 0.79402 to 0.76800, saving model to ../models/language-detection-full-data/pre-trained/checkpoints/language-detection-0.6.ckpt\n",
      "480/480 [==============================] - 10s 21ms/step - loss: 0.7477 - categorical_accuracy: 0.7214 - val_loss: 0.7680 - val_categorical_accuracy: 0.7104\n",
      "Epoch 7/50\n",
      "480/480 [==============================] - ETA: 0s - loss: 0.7114 - categorical_accuracy: 0.7356\n",
      "Epoch 7: val_loss improved from 0.76800 to 0.74719, saving model to ../models/language-detection-full-data/pre-trained/checkpoints/language-detection-0.6.ckpt\n",
      "480/480 [==============================] - 11s 22ms/step - loss: 0.7114 - categorical_accuracy: 0.7356 - val_loss: 0.7472 - val_categorical_accuracy: 0.7216\n",
      "Epoch 8/50\n",
      "478/480 [============================>.] - ETA: 0s - loss: 0.6863 - categorical_accuracy: 0.7456\n",
      "Epoch 8: val_loss improved from 0.74719 to 0.74428, saving model to ../models/language-detection-full-data/pre-trained/checkpoints/language-detection-0.6.ckpt\n",
      "480/480 [==============================] - 10s 21ms/step - loss: 0.6863 - categorical_accuracy: 0.7457 - val_loss: 0.7443 - val_categorical_accuracy: 0.7218\n",
      "Epoch 9/50\n",
      "479/480 [============================>.] - ETA: 0s - loss: 0.6618 - categorical_accuracy: 0.7565\n",
      "Epoch 9: val_loss improved from 0.74428 to 0.70099, saving model to ../models/language-detection-full-data/pre-trained/checkpoints/language-detection-0.6.ckpt\n",
      "480/480 [==============================] - 10s 21ms/step - loss: 0.6620 - categorical_accuracy: 0.7565 - val_loss: 0.7010 - val_categorical_accuracy: 0.7420\n",
      "Epoch 10/50\n",
      "478/480 [============================>.] - ETA: 0s - loss: 0.6424 - categorical_accuracy: 0.7623\n",
      "Epoch 10: val_loss did not improve from 0.70099\n",
      "480/480 [==============================] - 10s 21ms/step - loss: 0.6423 - categorical_accuracy: 0.7625 - val_loss: 0.7147 - val_categorical_accuracy: 0.7315\n",
      "Epoch 11/50\n",
      "480/480 [==============================] - ETA: 0s - loss: 0.6316 - categorical_accuracy: 0.7670\n",
      "Epoch 11: val_loss improved from 0.70099 to 0.68164, saving model to ../models/language-detection-full-data/pre-trained/checkpoints/language-detection-0.6.ckpt\n",
      "480/480 [==============================] - 11s 22ms/step - loss: 0.6316 - categorical_accuracy: 0.7670 - val_loss: 0.6816 - val_categorical_accuracy: 0.7492\n",
      "Epoch 12/50\n",
      "480/480 [==============================] - ETA: 0s - loss: 0.6156 - categorical_accuracy: 0.7745\n",
      "Epoch 12: val_loss did not improve from 0.68164\n",
      "480/480 [==============================] - 11s 22ms/step - loss: 0.6156 - categorical_accuracy: 0.7745 - val_loss: 0.6997 - val_categorical_accuracy: 0.7429\n",
      "Epoch 13/50\n",
      "479/480 [============================>.] - ETA: 0s - loss: 0.6011 - categorical_accuracy: 0.7796\n",
      "Epoch 13: val_loss did not improve from 0.68164\n",
      "480/480 [==============================] - 10s 22ms/step - loss: 0.6012 - categorical_accuracy: 0.7796 - val_loss: 0.6930 - val_categorical_accuracy: 0.7476\n",
      "Epoch 14/50\n",
      "478/480 [============================>.] - ETA: 0s - loss: 0.5925 - categorical_accuracy: 0.7829\n",
      "Epoch 14: val_loss improved from 0.68164 to 0.66826, saving model to ../models/language-detection-full-data/pre-trained/checkpoints/language-detection-0.6.ckpt\n",
      "480/480 [==============================] - 10s 21ms/step - loss: 0.5921 - categorical_accuracy: 0.7831 - val_loss: 0.6683 - val_categorical_accuracy: 0.7567\n",
      "Epoch 15/50\n",
      "479/480 [============================>.] - ETA: 0s - loss: 0.5809 - categorical_accuracy: 0.7862\n",
      "Epoch 15: val_loss improved from 0.66826 to 0.66218, saving model to ../models/language-detection-full-data/pre-trained/checkpoints/language-detection-0.6.ckpt\n",
      "480/480 [==============================] - 11s 22ms/step - loss: 0.5806 - categorical_accuracy: 0.7863 - val_loss: 0.6622 - val_categorical_accuracy: 0.7582\n",
      "Epoch 16/50\n",
      "479/480 [============================>.] - ETA: 0s - loss: 0.5695 - categorical_accuracy: 0.7898\n",
      "Epoch 16: val_loss improved from 0.66218 to 0.65256, saving model to ../models/language-detection-full-data/pre-trained/checkpoints/language-detection-0.6.ckpt\n",
      "480/480 [==============================] - 10s 21ms/step - loss: 0.5695 - categorical_accuracy: 0.7897 - val_loss: 0.6526 - val_categorical_accuracy: 0.7638\n",
      "Epoch 17/50\n",
      "480/480 [==============================] - ETA: 0s - loss: 0.5598 - categorical_accuracy: 0.7938\n",
      "Epoch 17: val_loss improved from 0.65256 to 0.63354, saving model to ../models/language-detection-full-data/pre-trained/checkpoints/language-detection-0.6.ckpt\n",
      "480/480 [==============================] - 10s 21ms/step - loss: 0.5598 - categorical_accuracy: 0.7938 - val_loss: 0.6335 - val_categorical_accuracy: 0.7722\n",
      "Epoch 18/50\n",
      "479/480 [============================>.] - ETA: 0s - loss: 0.5535 - categorical_accuracy: 0.7973\n",
      "Epoch 18: val_loss did not improve from 0.63354\n",
      "480/480 [==============================] - 11s 23ms/step - loss: 0.5533 - categorical_accuracy: 0.7973 - val_loss: 0.6344 - val_categorical_accuracy: 0.7690\n",
      "Epoch 19/50\n",
      "480/480 [==============================] - ETA: 0s - loss: 0.5492 - categorical_accuracy: 0.7979\n",
      "Epoch 19: val_loss did not improve from 0.63354\n",
      "480/480 [==============================] - 10s 22ms/step - loss: 0.5492 - categorical_accuracy: 0.7979 - val_loss: 0.6855 - val_categorical_accuracy: 0.7477\n",
      "Epoch 20/50\n",
      "479/480 [============================>.] - ETA: 0s - loss: 0.5384 - categorical_accuracy: 0.8041\n",
      "Epoch 20: val_loss improved from 0.63354 to 0.62663, saving model to ../models/language-detection-full-data/pre-trained/checkpoints/language-detection-0.6.ckpt\n",
      "480/480 [==============================] - 10s 22ms/step - loss: 0.5385 - categorical_accuracy: 0.8040 - val_loss: 0.6266 - val_categorical_accuracy: 0.7745\n",
      "Epoch 21/50\n",
      "480/480 [==============================] - ETA: 0s - loss: 0.5291 - categorical_accuracy: 0.8068\n",
      "Epoch 21: val_loss did not improve from 0.62663\n",
      "480/480 [==============================] - 10s 22ms/step - loss: 0.5291 - categorical_accuracy: 0.8068 - val_loss: 0.6407 - val_categorical_accuracy: 0.7668\n",
      "Epoch 22/50\n",
      "479/480 [============================>.] - ETA: 0s - loss: 0.5268 - categorical_accuracy: 0.8071\n",
      "Epoch 22: val_loss did not improve from 0.62663\n",
      "480/480 [==============================] - 11s 22ms/step - loss: 0.5269 - categorical_accuracy: 0.8072 - val_loss: 0.6312 - val_categorical_accuracy: 0.7767\n",
      "Epoch 23/50\n",
      "480/480 [==============================] - ETA: 0s - loss: 0.5182 - categorical_accuracy: 0.8107\n",
      "Epoch 23: val_loss did not improve from 0.62663\n",
      "480/480 [==============================] - 11s 22ms/step - loss: 0.5182 - categorical_accuracy: 0.8107 - val_loss: 0.6326 - val_categorical_accuracy: 0.7715\n",
      "Epoch 24/50\n",
      "479/480 [============================>.] - ETA: 0s - loss: 0.5172 - categorical_accuracy: 0.8112\n",
      "Epoch 24: val_loss improved from 0.62663 to 0.62191, saving model to ../models/language-detection-full-data/pre-trained/checkpoints/language-detection-0.6.ckpt\n",
      "480/480 [==============================] - 10s 22ms/step - loss: 0.5172 - categorical_accuracy: 0.8113 - val_loss: 0.6219 - val_categorical_accuracy: 0.7784\n",
      "Epoch 25/50\n",
      "480/480 [==============================] - ETA: 0s - loss: 0.5072 - categorical_accuracy: 0.8140\n",
      "Epoch 25: val_loss did not improve from 0.62191\n",
      "480/480 [==============================] - 11s 22ms/step - loss: 0.5072 - categorical_accuracy: 0.8140 - val_loss: 0.6325 - val_categorical_accuracy: 0.7718\n",
      "Epoch 26/50\n",
      "480/480 [==============================] - ETA: 0s - loss: 0.5064 - categorical_accuracy: 0.8137\n",
      "Epoch 26: val_loss did not improve from 0.62191\n",
      "480/480 [==============================] - 11s 23ms/step - loss: 0.5064 - categorical_accuracy: 0.8137 - val_loss: 0.6367 - val_categorical_accuracy: 0.7741\n",
      "Epoch 27/50\n",
      "478/480 [============================>.] - ETA: 0s - loss: 0.4999 - categorical_accuracy: 0.8161\n",
      "Epoch 27: val_loss did not improve from 0.62191\n",
      "480/480 [==============================] - 11s 22ms/step - loss: 0.4997 - categorical_accuracy: 0.8161 - val_loss: 0.6406 - val_categorical_accuracy: 0.7698\n",
      "Epoch 28/50\n",
      "480/480 [==============================] - ETA: 0s - loss: 0.4981 - categorical_accuracy: 0.8167\n",
      "Epoch 28: val_loss did not improve from 0.62191\n",
      "480/480 [==============================] - 11s 22ms/step - loss: 0.4981 - categorical_accuracy: 0.8167 - val_loss: 0.6254 - val_categorical_accuracy: 0.7747\n",
      "Epoch 29/50\n",
      "478/480 [============================>.] - ETA: 0s - loss: 0.4933 - categorical_accuracy: 0.8172\n",
      "Epoch 29: val_loss improved from 0.62191 to 0.60704, saving model to ../models/language-detection-full-data/pre-trained/checkpoints/language-detection-0.6.ckpt\n",
      "480/480 [==============================] - 11s 22ms/step - loss: 0.4933 - categorical_accuracy: 0.8172 - val_loss: 0.6070 - val_categorical_accuracy: 0.7805\n",
      "Epoch 30/50\n",
      "478/480 [============================>.] - ETA: 0s - loss: 0.4843 - categorical_accuracy: 0.8229\n",
      "Epoch 30: val_loss did not improve from 0.60704\n",
      "480/480 [==============================] - 11s 23ms/step - loss: 0.4844 - categorical_accuracy: 0.8229 - val_loss: 0.6101 - val_categorical_accuracy: 0.7827\n",
      "Epoch 31/50\n",
      "478/480 [============================>.] - ETA: 0s - loss: 0.4833 - categorical_accuracy: 0.8219\n",
      "Epoch 31: val_loss did not improve from 0.60704\n",
      "480/480 [==============================] - 11s 22ms/step - loss: 0.4834 - categorical_accuracy: 0.8219 - val_loss: 0.6148 - val_categorical_accuracy: 0.7767\n",
      "Epoch 32/50\n",
      "480/480 [==============================] - ETA: 0s - loss: 0.4770 - categorical_accuracy: 0.8241\n",
      "Epoch 32: val_loss did not improve from 0.60704\n",
      "480/480 [==============================] - 11s 22ms/step - loss: 0.4770 - categorical_accuracy: 0.8241 - val_loss: 0.6303 - val_categorical_accuracy: 0.7711\n",
      "Epoch 33/50\n",
      "480/480 [==============================] - ETA: 0s - loss: 0.4721 - categorical_accuracy: 0.8269\n",
      "Epoch 33: val_loss improved from 0.60704 to 0.60612, saving model to ../models/language-detection-full-data/pre-trained/checkpoints/language-detection-0.6.ckpt\n",
      "480/480 [==============================] - 11s 22ms/step - loss: 0.4721 - categorical_accuracy: 0.8269 - val_loss: 0.6061 - val_categorical_accuracy: 0.7849\n",
      "Epoch 34/50\n",
      "479/480 [============================>.] - ETA: 0s - loss: 0.4727 - categorical_accuracy: 0.8265\n",
      "Epoch 34: val_loss did not improve from 0.60612\n",
      "480/480 [==============================] - 11s 22ms/step - loss: 0.4724 - categorical_accuracy: 0.8265 - val_loss: 0.6111 - val_categorical_accuracy: 0.7812\n",
      "Epoch 35/50\n",
      "480/480 [==============================] - ETA: 0s - loss: 0.4673 - categorical_accuracy: 0.8280\n",
      "Epoch 35: val_loss did not improve from 0.60612\n",
      "480/480 [==============================] - 11s 23ms/step - loss: 0.4673 - categorical_accuracy: 0.8280 - val_loss: 0.6173 - val_categorical_accuracy: 0.7846\n",
      "Epoch 36/50\n",
      "480/480 [==============================] - ETA: 0s - loss: 0.4672 - categorical_accuracy: 0.8281\n",
      "Epoch 36: val_loss did not improve from 0.60612\n",
      "480/480 [==============================] - 11s 23ms/step - loss: 0.4672 - categorical_accuracy: 0.8281 - val_loss: 0.6415 - val_categorical_accuracy: 0.7752\n",
      "Epoch 37/50\n",
      "479/480 [============================>.] - ETA: 0s - loss: 0.4594 - categorical_accuracy: 0.8306\n",
      "Epoch 37: val_loss did not improve from 0.60612\n",
      "480/480 [==============================] - 11s 23ms/step - loss: 0.4594 - categorical_accuracy: 0.8306 - val_loss: 0.6294 - val_categorical_accuracy: 0.7789\n",
      "Epoch 38/50\n",
      "479/480 [============================>.] - ETA: 0s - loss: 0.4597 - categorical_accuracy: 0.8293\n",
      "Epoch 38: val_loss did not improve from 0.60612\n",
      "480/480 [==============================] - 11s 23ms/step - loss: 0.4595 - categorical_accuracy: 0.8295 - val_loss: 0.6220 - val_categorical_accuracy: 0.7784\n"
     ]
    }
   ],
   "source": [
    "# Training model with GPU\n",
    "with tf.device('/gpu:0'):\n",
    "  history = model.fit(x_train, y_train, epochs=50, batch_size=128, validation_data=(x_val, y_val), callbacks=[earlystopping, checkpoint])\n"
   ]
  },
  {
   "cell_type": "code",
   "execution_count": 10,
   "metadata": {},
   "outputs": [
    {
     "name": "stderr",
     "output_type": "stream",
     "text": [
      "WARNING:absl:Found untraced functions such as _jit_compiled_convolution_op, _jit_compiled_convolution_op, _jit_compiled_convolution_op, _jit_compiled_convolution_op while saving (showing 4 of 4). These functions will not be directly callable after loading.\n"
     ]
    },
    {
     "name": "stdout",
     "output_type": "stream",
     "text": [
      "INFO:tensorflow:Assets written to: ../models/language-detection-full-data/pre-trained/assets\n"
     ]
    },
    {
     "name": "stderr",
     "output_type": "stream",
     "text": [
      "INFO:tensorflow:Assets written to: ../models/language-detection-full-data/pre-trained/assets\n"
     ]
    }
   ],
   "source": [
    "model.save(model_path)"
   ]
  },
  {
   "cell_type": "code",
   "execution_count": 27,
   "metadata": {},
   "outputs": [
    {
     "name": "stdout",
     "output_type": "stream",
     "text": [
      "480/480 [==============================] - 2s 3ms/step\n"
     ]
    },
    {
     "data": {
      "image/png": "[encoded data removed]",
      "text/plain": [
       "<Figure size 900x500 with 2 Axes>"
      ]
     },
     "metadata": {},
     "output_type": "display_data"
    }
   ],
   "source": [
    "# Confusion matrix:\n",
    "import seaborn as sn\n",
    "import pandas as pd\n",
    "import matplotlib.pyplot as plt\n",
    "\n",
    "preds = model.predict(x_val)\n",
    "y_classes = preds.argmax(axis=-1)\n",
    "from sklearn.metrics import confusion_matrix\n",
    "cm = confusion_matrix(y_true = y_val.argmax(axis=-1), y_pred = y_classes, normalize='true')\n",
    "\n",
    "NAMES = ['English', 'German', 'Spanish', 'French', 'Italian']\n",
    "\n",
    "df_cm = pd.DataFrame(cm)\n",
    "plt.figure(figsize = (9,5))\n",
    "sn.heatmap(df_cm, annot=True, fmt = '.3g', xticklabels=NAMES, yticklabels=NAMES)\n",
    "plt.show()"
   ]
  },
  {
   "cell_type": "code",
   "execution_count": 12,
   "metadata": {},
   "outputs": [
    {
     "data": {
      "image/png": "[encoded data removed]",
      "text/plain": [
       "<Figure size 640x480 with 1 Axes>"
      ]
     },
     "metadata": {},
     "output_type": "display_data"
    }
   ],
   "source": [
    "plt.plot(range(0, len(history.history['categorical_accuracy'])), history.history['categorical_accuracy'])\n",
    "plt.plot(range(0, len(history.history['val_categorical_accuracy'])), history.history['val_categorical_accuracy'])\n",
    "# plt.axis([0, range(0, len(history.history['val_categorical_accuracy'])), 0, 1])\n",
    "plt.xlabel(\"Epochs\")\n",
    "plt.ylabel(\"Accuracy\")\n",
    "plt.legend(['Training', 'Validation'])\n",
    "plt.show()"
   ]
  },
  {
   "cell_type": "code",
   "execution_count": 13,
   "metadata": {},
   "outputs": [
    {
     "data": {
      "image/png": "[encoded data removed]",
      "text/plain": [
       "<Figure size 640x480 with 1 Axes>"
      ]
     },
     "metadata": {},
     "output_type": "display_data"
    }
   ],
   "source": [
    "plt.plot(range(0, len(history.history['loss'])), history.history['loss'])\n",
    "plt.plot(range(0, len(history.history['val_loss'])), history.history['val_loss'])\n",
    "# plt.axis([0, range(0, len(history.history['val_loss'])), 0, 1])\n",
    "plt.xlabel(\"Epochs\")\n",
    "plt.ylabel(\"Loss\")\n",
    "plt.legend(['Training', 'Validation'])\n",
    "plt.show()"
   ]
  },
  {
   "cell_type": "code",
   "execution_count": 14,
   "metadata": {},
   "outputs": [],
   "source": [
    "# with tf.device('/gpu:0'):\n",
    "#     model.evaluate(x_test, y_test, verbose=2)\n",
    "#     pred_test = model.predict(x_test)\n",
    "#     print(tf.math.confusion_matrix(y_test.argmax(axis=1), pred_test.argmax(axis=1)))"
   ]
  },
  {
   "attachments": {},
   "cell_type": "markdown",
   "metadata": {},
   "source": [
    "## Save trained model"
   ]
  },
  {
   "cell_type": "code",
   "execution_count": 15,
   "metadata": {},
   "outputs": [],
   "source": [
    "model.save(f'{model_path}/{model_name}/keras2c/gsc_no_globalavg.h5')"
   ]
  },
  {
   "cell_type": "code",
   "execution_count": 16,
   "metadata": {},
   "outputs": [],
   "source": [
    "# remove softmax\n",
    "model = tf.keras.Model(model.input, model.layers[-2].output, name=model.name)"
   ]
  },
  {
   "cell_type": "code",
   "execution_count": 17,
   "metadata": {},
   "outputs": [
    {
     "name": "stdout",
     "output_type": "stream",
     "text": [
      "WARNING:tensorflow:Compiled the loaded model, but the compiled metrics have yet to be built. `model.compile_metrics` will be empty until you train or evaluate the model.\n"
     ]
    },
    {
     "name": "stderr",
     "output_type": "stream",
     "text": [
      "WARNING:tensorflow:Compiled the loaded model, but the compiled metrics have yet to be built. `model.compile_metrics` will be empty until you train or evaluate the model.\n",
      "WARNING:absl:Found untraced functions such as _jit_compiled_convolution_op, _jit_compiled_convolution_op, _jit_compiled_convolution_op, _jit_compiled_convolution_op while saving (showing 4 of 4). These functions will not be directly callable after loading.\n"
     ]
    },
    {
     "name": "stdout",
     "output_type": "stream",
     "text": [
      "INFO:tensorflow:Assets written to: ram://c3ed22c9-dfd8-4154-bf0c-61e06139ea1f/assets\n"
     ]
    },
    {
     "name": "stderr",
     "output_type": "stream",
     "text": [
      "INFO:tensorflow:Assets written to: ram://c3ed22c9-dfd8-4154-bf0c-61e06139ea1f/assets\n"
     ]
    },
    {
     "name": "stdout",
     "output_type": "stream",
     "text": [
      "WARNING:tensorflow:No training configuration found in save file, so the model was *not* compiled. Compile it manually.\n"
     ]
    },
    {
     "name": "stderr",
     "output_type": "stream",
     "text": [
      "WARNING:tensorflow:No training configuration found in save file, so the model was *not* compiled. Compile it manually.\n"
     ]
    },
    {
     "name": "stdout",
     "output_type": "stream",
     "text": [
      "———————————————————————————————————————————————————————————————————————————————————————————————————————\n",
      "Inputs                           | Layer                            | Outputs                         \n",
      "———————————————————————————————————————————————————————————————————————————————————————————————————————\n",
      "                                 | input_1                          | conv1d                          \n",
      "-------------------------------------------------------------------------------------------------------\n",
      "input_1                          | conv1d                           | max_pooling1d                   \n",
      "-------------------------------------------------------------------------------------------------------\n",
      "conv1d                           | max_pooling1d                    | conv1d_1                        \n",
      "-------------------------------------------------------------------------------------------------------\n",
      "max_pooling1d                    | conv1d_1                         | max_pooling1d_1                 \n",
      "-------------------------------------------------------------------------------------------------------\n",
      "conv1d_1                         | max_pooling1d_1                  | conv1d_2                        \n",
      "-------------------------------------------------------------------------------------------------------\n",
      "max_pooling1d_1                  | conv1d_2                         | max_pooling1d_2                 \n",
      "-------------------------------------------------------------------------------------------------------\n",
      "conv1d_2                         | max_pooling1d_2                  | conv1d_3                        \n",
      "-------------------------------------------------------------------------------------------------------\n",
      "max_pooling1d_2                  | conv1d_3                         | average_pooling1d               \n",
      "-------------------------------------------------------------------------------------------------------\n",
      "conv1d_3                         | average_pooling1d                | flatten                         \n",
      "-------------------------------------------------------------------------------------------------------\n",
      "average_pooling1d                | flatten                          | dense                           \n",
      "-------------------------------------------------------------------------------------------------------\n",
      "flatten                          | dense                            |                                 \n",
      "-------------------------------------------------------------------------------------------------------\n",
      "\n",
      "After optimization:\n",
      "———————————————————————————————————————————————————————————————————————————————————————————————————————\n",
      "Inputs                           | Layer                            | Outputs                         \n",
      "———————————————————————————————————————————————————————————————————————————————————————————————————————\n",
      "                                 | input_1                          | conv1d                          \n",
      "-------------------------------------------------------------------------------------------------------\n",
      "input_1                          | conv1d                           | max_pooling1d                   \n",
      "-------------------------------------------------------------------------------------------------------\n",
      "conv1d                           | max_pooling1d                    | conv1d_1                        \n",
      "-------------------------------------------------------------------------------------------------------\n",
      "max_pooling1d                    | conv1d_1                         | max_pooling1d_1                 \n",
      "-------------------------------------------------------------------------------------------------------\n",
      "conv1d_1                         | max_pooling1d_1                  | conv1d_2                        \n",
      "-------------------------------------------------------------------------------------------------------\n",
      "max_pooling1d_1                  | conv1d_2                         | max_pooling1d_2                 \n",
      "-------------------------------------------------------------------------------------------------------\n",
      "conv1d_2                         | max_pooling1d_2                  | conv1d_3                        \n",
      "-------------------------------------------------------------------------------------------------------\n",
      "max_pooling1d_2                  | conv1d_3                         | average_pooling1d               \n",
      "-------------------------------------------------------------------------------------------------------\n",
      "conv1d_3                         | average_pooling1d                | flatten                         \n",
      "-------------------------------------------------------------------------------------------------------\n",
      "average_pooling1d                | flatten                          | dense                           \n",
      "-------------------------------------------------------------------------------------------------------\n",
      "flatten                          | dense                            |                                 \n",
      "-------------------------------------------------------------------------------------------------------\n",
      "\n"
     ]
    }
   ],
   "source": [
    "FIXED_POINT=9\n",
    "res = kerascnn2c.Converter(output_path=Path(f'{model_path}/{model_name}/keras2c/gsc_output_fixed'),\n",
    "                           fixed_point=FIXED_POINT, # Number of bits for the fractional part, Q7.9 format\n",
    "                           number_type='int16_t', # Data type for weights/activations (16 bits quantization)\n",
    "                           long_number_type='int32_t', # Data type for intermediate results\n",
    "                           number_min=-(2**15), # Minimum value for 16-bit signed integers\n",
    "                           number_max=(2**15)-1 # Maximum value for 16-bit signed integers\n",
    "                          ).convert_model(copy.deepcopy(model))\n",
    "with open(f'{model_path}/{model_name}/keras2c/gsc_model_fixed.h', 'w') as f:\n",
    "    f.write(res)"
   ]
  }
 ],
 "metadata": {
  "kernelspec": {
   "display_name": "OpenSesame",
   "language": "python",
   "name": "python3"
  },
  "language_info": {
   "codemirror_mode": {
    "name": "ipython",
    "version": 3
   },
   "file_extension": ".py",
   "mimetype": "text/x-python",
   "name": "python",
   "nbconvert_exporter": "python",
   "pygments_lexer": "ipython3",
   "version": "3.10.8"
  },
  "orig_nbformat": 4
 },
 "nbformat": 4,
 "nbformat_minor": 2
}
