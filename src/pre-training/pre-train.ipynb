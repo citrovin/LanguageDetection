{
 "cells": [
  {
   "attachments": {},
   "cell_type": "markdown",
   "metadata": {},
   "source": [
    "# Language Detection on the Edge"
   ]
  },
  {
   "attachments": {},
   "cell_type": "markdown",
   "metadata": {},
   "source": [
    "## Imports"
   ]
  },
  {
   "cell_type": "code",
   "execution_count": 62,
   "metadata": {},
   "outputs": [],
   "source": [
    "# Imports\n",
    "import wave\n",
    "import numpy as np\n",
    "import pickle\n",
    "import matplotlib.pyplot as plt\n",
    "\n",
    "import tensorflow as tf\n",
    "from keras.models import Sequential\n",
    "from keras.layers import Input, Conv1D, AvgPool1D, MaxPool1D, ZeroPadding1D, BatchNormalization, Flatten, Dense, Activation, GlobalAveragePooling1D\n",
    "from keras.utils.data_utils import get_file\n",
    "from keras.utils.np_utils import to_categorical\n",
    "from keras.callbacks import EarlyStopping\n",
    "\n",
    "import kerascnn2c\n",
    "from pathlib import Path\n",
    "import copy\n",
    "\n",
    "from sklearn.preprocessing import MinMaxScaler"
   ]
  },
  {
   "attachments": {},
   "cell_type": "markdown",
   "metadata": {},
   "source": [
    "## Pre-process Data"
   ]
  },
  {
   "attachments": {},
   "cell_type": "markdown",
   "metadata": {},
   "source": [
    "### Helper Functions"
   ]
  },
  {
   "cell_type": "code",
   "execution_count": 63,
   "metadata": {},
   "outputs": [],
   "source": [
    "def create_data(dataset_dir: str, file_names: list):\n",
    "\n",
    "    NUM_CLASSES = len(file_names)\n",
    "    \n",
    "    x_train, x_test, x_val, y_train, y_test, y_val = [], [], [], [], [], []\n",
    "    \n",
    "    for enum, file in enumerate(file_names):\n",
    "        path = dataset_dir + file + '.pkl'\n",
    "        with open(path, 'rb') as data_file:\n",
    "            data = pickle.load(data_file)\n",
    "\n",
    "            data_train = data['data_train']\n",
    "            data_test = data['data_test']\n",
    "            data_val = data['data_val']\n",
    "\n",
    "        sample_rate=16000\n",
    "\n",
    "        x_train_inter = []\n",
    "        for i in data_train:\n",
    "            num_sec = int(i.shape[0]/sample_rate)\n",
    "            array_intermediate = i[:(num_sec*sample_rate)]\n",
    "            x_train_inter.extend(np.split(array_intermediate, num_sec))\n",
    "        \n",
    "        \n",
    "        # x_test_inter = []\n",
    "        # for i in data_test:\n",
    "        #     num_sec = int(i.shape[0]/sample_rate)\n",
    "        #     array_intermediate = i[:(num_sec*sample_rate)]\n",
    "        #     x_test_inter.extend(np.split(array_intermediate, num_sec))\n",
    "\n",
    "        # x_val_inter = []\n",
    "        # for i in data_val:\n",
    "        #     num_sec = int(i.shape[0]/sample_rate)\n",
    "        #     array_intermediate = i[:(num_sec*sample_rate)]\n",
    "        #     x_val_inter.extend(np.split(array_intermediate, num_sec))\n",
    "\n",
    "        y_train_inter = [[enum]]*len(x_train_inter)\n",
    "        # y_test_inter = [[enum]]*len(x_test_inter)\n",
    "        # y_val_inter = [[enum]]*len(x_val_inter)\n",
    "\n",
    "        x_train.extend(x_train_inter)\n",
    "        # x_test.extend(x_test_inter)\n",
    "        # x_val.extend(x_val_inter)\n",
    "\n",
    "        y_train.extend(y_train_inter)\n",
    "        # y_test.extend(y_test_inter)\n",
    "        # y_val.extend(y_val_inter)\n",
    "        \n",
    "\n",
    "    x_train = np.array(x_train)\n",
    "    # x_test = np.array(x_test)\n",
    "    # x_val = np.array(x_val)\n",
    "\n",
    "    y_train = to_categorical(np.array(y_train), num_classes = NUM_CLASSES)\n",
    "    # y_test = to_categorical(np.array(y_test), num_classes = NUM_CLASSES)\n",
    "    # y_val = to_categorical(np.array(y_val), num_classes = NUM_CLASSES)\n",
    "\n",
    "    # return x_train, x_test, x_val, y_train, y_test, y_val\n",
    "    return x_train, y_train\n",
    "    \n",
    "def load_data(dir_path: str):\n",
    "    with open(dir_path, 'rb') as f:\n",
    "        data = pickle.load(f)\n",
    "    f.close()\n",
    "    return data\n",
    "\n",
    "def fixed_point_conversion(x: np.array, fixed_point: int):\n",
    "  x /= 2**fixed_point\n",
    "  return x\n"
   ]
  },
  {
   "attachments": {},
   "cell_type": "markdown",
   "metadata": {},
   "source": [
    "### Loading Data"
   ]
  },
  {
   "cell_type": "code",
   "execution_count": 64,
   "metadata": {},
   "outputs": [
    {
     "name": "stdout",
     "output_type": "stream",
     "text": [
      "Data successfully loaded\n",
      "Data successfully shuffeled and shortened\n"
     ]
    }
   ],
   "source": [
    "# dataset_dir = '../../data/pre-train/raw/'\n",
    "dataset_dir = '../../data/pre-train/'\n",
    "# CLASSES = ['fleurs.en_us', 'fleurs.de_de', 'fleurs.es_419', 'fleurs.fr_fr', 'fleurs.it_it']\n",
    "CLASSES = ['fleurs.en_us', 'fleurs.de_de', 'fleurs.es_419', 'fleurs.fr_fr']\n",
    "\n",
    "# x = load_data(dataset_dir+'x_train.pkl')\n",
    "# y = load_data(dataset_dir+'y_train.pkl')\n",
    "\n",
    "# x = load_data(dataset_dir+'x_all.pkl')\n",
    "# y = load_data(dataset_dir+'y_all.pkl')\n",
    "\n",
    "x = load_data(dataset_dir+'x_val.pkl')\n",
    "y = load_data(dataset_dir+'y_val.pkl')\n",
    "print('Data successfully loaded')\n",
    "\n",
    "\n",
    "permutation = np.random.permutation(len(x))\n",
    "x = x[permutation]\n",
    "y = y[permutation]\n",
    "\n",
    "x = x[:int(0.2*len(x)),:]\n",
    "y = y[:int(0.2*len(y)),:]\n",
    "print('Data successfully shuffeled and shortened')\n",
    "\n",
    "min_int16 = fixed_point_conversion(-(2**15), 9)\n",
    "max_int16 = fixed_point_conversion((2**15)-1, 9)\n",
    "\n",
    "scaler = MinMaxScaler(feature_range=(min_int16, max_int16))\n",
    "x = np.array([scaler.fit_transform(np.array(i).reshape((16000,1))) for i in x])\n",
    "\n",
    "\n",
    "\n",
    "# x_test = load_data(dataset_dir+'x_test.pkl')\n",
    "# x_val = load_data(dataset_dir+'x_val.pkl')\n",
    "# y_test = load_data(dataset_dir+'y_test.pkl')\n",
    "# y_val = load_data(dataset_dir+'y_val.pkl')\n",
    "\n",
    "# print('----------------------------------------------------------------------')\n",
    "# print(f'Number of samples in train: {len(x_train)}')\n",
    "# print(f'Number of samples in test: {len(x_test)}')\n",
    "# print(f'Number of samplesin validation: {len(x_val)}')\n",
    "# print('----------------------------------------------------------------------')\n",
    "# print('----------------------------------------------------------------------')\n",
    "# print(f'x_train shape: {x_train.shape} | y_train shape: {y_train.shape}')\n",
    "# print(f'x_test shape: {x_test.shape} | y_test shape: {y_test.shape}')\n",
    "# print(f'x_val shape: {x_val.shape} | y_val shape: {y_val.shape}')\n",
    "# print('----------------------------------------------------------------------')"
   ]
  },
  {
   "cell_type": "code",
   "execution_count": 65,
   "metadata": {},
   "outputs": [
    {
     "name": "stdout",
     "output_type": "stream",
     "text": [
      "X train: (2453, 16000, 1)\n",
      "X val: (614, 16000, 1)\n",
      "y train: (2453, 4)\n",
      "y val: (614, 4)\n"
     ]
    }
   ],
   "source": [
    "# splitting into training and validation data\n",
    "train_split = int(0.8*len(x))\n",
    "\n",
    "x_train, x_val = x[:train_split,:], x[train_split:,:]\n",
    "y_train, y_val = y[:train_split,:], y[train_split:,:]\n",
    "\n",
    "del x\n",
    "del y\n",
    "\n",
    "print(f'X train: {x_train.shape}')\n",
    "print(f'X val: {x_val.shape}')\n",
    "print(f'y train: {y_train.shape}')\n",
    "print(f'y val: {y_val.shape}')"
   ]
  },
  {
   "cell_type": "code",
   "execution_count": 66,
   "metadata": {},
   "outputs": [],
   "source": [
    "# with open(f'../data/pre-train/x_train.pkl', 'wb') as f:\n",
    "#     pickle.dump(x_train, f)\n",
    "# f.close()\n",
    "\n",
    "# with open(f'../data/pre-train/x_test.pkl', 'wb') as f:\n",
    "#     pickle.dump(x_test, f)\n",
    "# f.close()\n",
    "\n",
    "# with open(f'../data/pre-train/x_val.pkl', 'wb') as f:\n",
    "#     pickle.dump(x_val, f)\n",
    "# f.close()\n",
    "\n",
    "# with open(f'../data/pre-train/y_train.pkl', 'wb') as f:\n",
    "#     pickle.dump(y_train, f)\n",
    "# f.close()\n",
    "\n",
    "# with open(f'../data/pre-train/y_test.pkl', 'wb') as f:\n",
    "#     pickle.dump(y_test, f)\n",
    "# f.close()\n",
    "\n",
    "# with open(f'../data/pre-train/y_val.pkl', 'wb') as f:\n",
    "#     pickle.dump(y_val, f)\n",
    "# f.close()"
   ]
  },
  {
   "attachments": {},
   "cell_type": "markdown",
   "metadata": {},
   "source": [
    "## Analysis of Training Data"
   ]
  },
  {
   "cell_type": "code",
   "execution_count": 67,
   "metadata": {},
   "outputs": [],
   "source": [
    "\n",
    "# labels_train = [np.argmax(i) for i in y_train]\n",
    "# # labels_test = [np.argmax(i) for i in y_test]\n",
    "# labels_val = [np.argmax(i) for i in y_val]\n",
    "\n",
    "# unique_train, counts_train = np.unique(labels_train, return_counts=True)\n",
    "# # unique_test, counts_test = np.unique(labels_test, return_counts=True)\n",
    "# unique_val, counts_val = np.unique(labels_val, return_counts=True)\n",
    "\n",
    "# del labels_train\n",
    "# # del labels_test\n",
    "# del labels_val\n",
    "\n",
    "# # CLASSES = ['fleurs.en_us', 'fleurs.de_de', 'fleurs.es_419', 'fleurs.fr_fr', 'fleurs.it_it']\n",
    "# # LABELS = ['EN', 'DE', 'ES', 'FR', 'IT']\n",
    "# LABELS = ['EN', 'DE', 'ES', 'FR', 'IT']\n",
    "\n",
    "\n",
    "\n",
    "\n",
    "# fig, axes = plt.subplots(1,3, figsize=(9, 3.5), sharey=True, edgecolor='black')\n",
    "# axes[0].bar(LABELS, counts_train, color='#01386a')\n",
    "# axes[0].set_title('Training Data')\n",
    "\n",
    "# axes[1].bar(LABELS, counts_val, color='#01386a')\n",
    "# axes[1].set_title('Validation Data')\n",
    "\n",
    "# # axes[2].bar(LABELS, counts_test, color='#01386a')\n",
    "# # axes[2].set_title('Testing Data')\n",
    "\n",
    "# fig.suptitle('Distribution of Pre-Training Data')\n",
    "\n",
    "\n",
    "# for enum, i in enumerate(counts_train):\n",
    "#     print(f'--------------------------------COUNT {LABELS[enum]}---------------------------------')\n",
    "#     print(f'Train\\t {LABELS[enum]}: {i}')\n",
    "#     # print(f'Test\\t {LABELS[enum]}: {counts_test[enum]}')\n",
    "#     print(f'Val\\t {LABELS[enum]}: {counts_val[enum]}')\n",
    "# print('-------------------------------------------------------------------------')\n",
    "\n",
    "# print('--------------------------------MINIMUM COUNTS---------------------------------')\n",
    "# print(f'Min count train: {min(counts_train)}')\n",
    "# # print(f'Min count test: {min(counts_test)}')\n",
    "# print(f'Min count val: {min(counts_val)}')\n",
    "# print('-------------------------------------------------------------------------')"
   ]
  },
  {
   "attachments": {},
   "cell_type": "markdown",
   "metadata": {},
   "source": [
    "## Preparing Data for Training"
   ]
  },
  {
   "cell_type": "code",
   "execution_count": 68,
   "metadata": {},
   "outputs": [],
   "source": [
    "# Fixed point conversion\n",
    "# FIXED_POINT = 9\n",
    "# x_train /= 2**FIXED_POINT\n",
    "# x_val  /= 2**FIXED_POINT\n"
   ]
  },
  {
   "cell_type": "code",
   "execution_count": 69,
   "metadata": {},
   "outputs": [],
   "source": [
    "# perms = np.random.permutation(len(y_test))[0:250]\n",
    "# x_test_250 = x_test[perms]\n",
    "# y_test_250 = y_test[perms]\n",
    "# np.savetxt('x_test_gsc_250.csv', x_test_250.reshape((x_test_250.shape[0], -1)), delimiter=',', fmt='%s')\n",
    "# np.savetxt('y_test_gsc_250.csv', y_test_250, delimiter=',', fmt='%s')\n",
    "\n"
   ]
  },
  {
   "attachments": {},
   "cell_type": "markdown",
   "metadata": {},
   "source": [
    "## Build model"
   ]
  },
  {
   "cell_type": "code",
   "execution_count": 70,
   "metadata": {},
   "outputs": [
    {
     "name": "stdout",
     "output_type": "stream",
     "text": [
      "Num GPUs Available:  1\n",
      "Name of Devices:  [PhysicalDevice(name='/physical_device:CPU:0', device_type='CPU'), PhysicalDevice(name='/physical_device:GPU:0', device_type='GPU')]\n"
     ]
    }
   ],
   "source": [
    "# Available devices\n",
    "print(\"Num GPUs Available: \", len(tf.config.list_physical_devices('GPU')))\n",
    "print('Name of Devices: ', tf.config.list_physical_devices())"
   ]
  },
  {
   "cell_type": "code",
   "execution_count": 71,
   "metadata": {},
   "outputs": [
    {
     "name": "stdout",
     "output_type": "stream",
     "text": [
      "Model: \"sequential_10\"\n",
      "_________________________________________________________________\n",
      " Layer (type)                Output Shape              Param #   \n",
      "=================================================================\n",
      " conv1d_27 (Conv1D)          (None, 1999, 8)           80        \n",
      "                                                                 \n",
      " max_pooling1d_21 (MaxPoolin  (None, 499, 8)           0         \n",
      " g1D)                                                            \n",
      "                                                                 \n",
      " conv1d_28 (Conv1D)          (None, 248, 16)           528       \n",
      "                                                                 \n",
      " max_pooling1d_22 (MaxPoolin  (None, 62, 16)           0         \n",
      " g1D)                                                            \n",
      "                                                                 \n",
      " conv1d_29 (Conv1D)          (None, 30, 32)            1568      \n",
      "                                                                 \n",
      " max_pooling1d_23 (MaxPoolin  (None, 7, 32)            0         \n",
      " g1D)                                                            \n",
      "                                                                 \n",
      " conv1d_30 (Conv1D)          (None, 6, 64)             4160      \n",
      "                                                                 \n",
      " average_pooling1d_6 (Averag  (None, 1, 64)            0         \n",
      " ePooling1D)                                                     \n",
      "                                                                 \n",
      " flatten_10 (Flatten)        (None, 64)                0         \n",
      "                                                                 \n",
      " dense_11 (Dense)            (None, 4)                 260       \n",
      "                                                                 \n",
      " activation_10 (Activation)  (None, 4)                 0         \n",
      "                                                                 \n",
      "=================================================================\n",
      "Total params: 6,596\n",
      "Trainable params: 6,596\n",
      "Non-trainable params: 0\n",
      "_________________________________________________________________\n"
     ]
    },
    {
     "name": "stderr",
     "output_type": "stream",
     "text": [
      "/opt/homebrew/Caskroom/miniforge/base/envs/embeddedAI/lib/python3.10/site-packages/keras/optimizers/optimizer_v2/adam.py:110: UserWarning: The `lr` argument is deprecated, use `learning_rate` instead.\n",
      "  super(Adam, self).__init__(name, **kwargs)\n"
     ]
    }
   ],
   "source": [
    "model = Sequential()\n",
    "model.add(Input(shape=(16000, 1)))\n",
    "model.add(Conv1D(filters=8, kernel_size=9, strides=8,activation='relu'))\n",
    "model.add(MaxPool1D(pool_size=4))\n",
    "model.add(Conv1D(filters=16, kernel_size=4, strides=2, activation='relu'))\n",
    "model.add(MaxPool1D(pool_size=4))\n",
    "model.add(Conv1D(filters=32, kernel_size=3, strides=2, activation='relu'))\n",
    "model.add(MaxPool1D(pool_size=4))\n",
    "model.add(Conv1D(filters=64, kernel_size=2, activation='relu'))\n",
    "model.add(AvgPool1D(6))\n",
    "model.add(Flatten())\n",
    "# model.add(Dense(units=128))\n",
    "model.add(Dense(units=len(CLASSES)))\n",
    "model.add(Activation('softmax'))\n",
    "\n",
    "# EXPLORE Learning Rate\n",
    "earlystopping = EarlyStopping(monitor = \"val_loss\", patience  = 5)\n",
    "opt = tf.keras.optimizers.Adam(lr=10e-4, decay = 10e-6)\n",
    "\n",
    "# EARLY STOPPING\n",
    "callback_path = '../models/test/checkpoints-language-detection-5-languages.ckpt' # save weights to this directory\n",
    "checkpoint = tf.keras.callbacks.ModelCheckpoint(callback_path,\n",
    "                                                save_weights_only=True,\n",
    "                                                verbose=1,\n",
    "                                                save_best_only=True)\n",
    "\n",
    "model.summary()\n",
    "model.compile(optimizer=opt, loss='categorical_crossentropy', metrics=['categorical_accuracy'])"
   ]
  },
  {
   "cell_type": "code",
   "execution_count": 72,
   "metadata": {},
   "outputs": [
    {
     "name": "stderr",
     "output_type": "stream",
     "text": [
      "2023-04-30 13:50:45.139471: I tensorflow/core/grappler/optimizers/custom_graph_optimizer_registry.cc:113] Plugin optimizer for device_type GPU is enabled.\n"
     ]
    },
    {
     "name": "stdout",
     "output_type": "stream",
     "text": [
      "39/39 [==============================] - ETA: 0s - loss: 1.4974 - categorical_accuracy: 0.3490"
     ]
    },
    {
     "name": "stderr",
     "output_type": "stream",
     "text": [
      "2023-04-30 13:50:46.868473: I tensorflow/core/grappler/optimizers/custom_graph_optimizer_registry.cc:113] Plugin optimizer for device_type GPU is enabled.\n"
     ]
    },
    {
     "name": "stdout",
     "output_type": "stream",
     "text": [
      "\n",
      "Epoch 1: val_loss improved from inf to 1.26086, saving model to ../models/test/checkpoints-language-detection-5-languages.ckpt\n",
      "39/39 [==============================] - 2s 34ms/step - loss: 1.4974 - categorical_accuracy: 0.3490 - val_loss: 1.2609 - val_categorical_accuracy: 0.4397\n"
     ]
    },
    {
     "name": "stderr",
     "output_type": "stream",
     "text": [
      "WARNING:absl:Found untraced functions such as _jit_compiled_convolution_op, _jit_compiled_convolution_op, _jit_compiled_convolution_op, _jit_compiled_convolution_op while saving (showing 4 of 4). These functions will not be directly callable after loading.\n"
     ]
    },
    {
     "name": "stdout",
     "output_type": "stream",
     "text": [
      "INFO:tensorflow:Assets written to: ../models/test/pre-trained/assets\n"
     ]
    },
    {
     "name": "stderr",
     "output_type": "stream",
     "text": [
      "INFO:tensorflow:Assets written to: ../models/test/pre-trained/assets\n"
     ]
    }
   ],
   "source": [
    "# Training model with GPU\n",
    "with tf.device('/gpu:0'):\n",
    "  history = model.fit(x_train, y_train, epochs=1, batch_size=64, validation_data=(x_val, y_val), callbacks=[earlystopping, checkpoint])\n",
    "\n",
    "model.save('../models/test/pre-trained')"
   ]
  },
  {
   "cell_type": "code",
   "execution_count": 73,
   "metadata": {},
   "outputs": [
    {
     "name": "stdout",
     "output_type": "stream",
     "text": [
      "20/20 [==============================] - 0s 5ms/step\n"
     ]
    },
    {
     "name": "stderr",
     "output_type": "stream",
     "text": [
      "2023-04-30 13:50:48.251031: I tensorflow/core/grappler/optimizers/custom_graph_optimizer_registry.cc:113] Plugin optimizer for device_type GPU is enabled.\n"
     ]
    },
    {
     "data": {
      "image/png": "[encoded data removed]",
      "text/plain": [
       "<Figure size 900x500 with 2 Axes>"
      ]
     },
     "metadata": {},
     "output_type": "display_data"
    }
   ],
   "source": [
    "# Confusion matrix:\n",
    "import seaborn as sn\n",
    "import pandas as pd\n",
    "import matplotlib.pyplot as plt\n",
    "\n",
    "preds = model.predict(x_val)\n",
    "y_classes = preds.argmax(axis=-1)\n",
    "from sklearn.metrics import confusion_matrix\n",
    "cm = confusion_matrix(y_true = y_val.argmax(axis=-1), y_pred = y_classes)\n",
    "\n",
    "df_cm = pd.DataFrame(cm)\n",
    "plt.figure(figsize = (9,5))\n",
    "sn.heatmap(df_cm, annot=True, fmt = '.3g', xticklabels=CLASSES, yticklabels=CLASSES)\n",
    "plt.show()"
   ]
  },
  {
   "cell_type": "code",
   "execution_count": 74,
   "metadata": {},
   "outputs": [
    {
     "data": {
      "image/png": "[encoded data removed]",
      "text/plain": [
       "<Figure size 640x480 with 1 Axes>"
      ]
     },
     "metadata": {},
     "output_type": "display_data"
    }
   ],
   "source": [
    "plt.plot(range(0, len(history.history['categorical_accuracy'])), history.history['categorical_accuracy'])\n",
    "plt.show()"
   ]
  },
  {
   "cell_type": "code",
   "execution_count": 75,
   "metadata": {},
   "outputs": [],
   "source": [
    "# with tf.device('/gpu:0'):\n",
    "#     model.evaluate(x_test, y_test, verbose=2)\n",
    "#     pred_test = model.predict(x_test)\n",
    "#     print(tf.math.confusion_matrix(y_test.argmax(axis=1), pred_test.argmax(axis=1)))"
   ]
  },
  {
   "attachments": {},
   "cell_type": "markdown",
   "metadata": {},
   "source": [
    "## Save trained model"
   ]
  },
  {
   "cell_type": "code",
   "execution_count": 76,
   "metadata": {},
   "outputs": [],
   "source": [
    "model.save('keras2c/pre-trained_lab_gsc_no_globalavg.h5')"
   ]
  },
  {
   "cell_type": "code",
   "execution_count": 77,
   "metadata": {},
   "outputs": [],
   "source": [
    "# remove softmax\n",
    "model = tf.keras.Model(model.input, model.layers[-2].output, name=model.name)"
   ]
  },
  {
   "cell_type": "code",
   "execution_count": 78,
   "metadata": {},
   "outputs": [
    {
     "name": "stdout",
     "output_type": "stream",
     "text": [
      "WARNING:tensorflow:Compiled the loaded model, but the compiled metrics have yet to be built. `model.compile_metrics` will be empty until you train or evaluate the model.\n"
     ]
    },
    {
     "name": "stderr",
     "output_type": "stream",
     "text": [
      "WARNING:tensorflow:Compiled the loaded model, but the compiled metrics have yet to be built. `model.compile_metrics` will be empty until you train or evaluate the model.\n",
      "WARNING:absl:Found untraced functions such as _jit_compiled_convolution_op, _jit_compiled_convolution_op, _jit_compiled_convolution_op, _jit_compiled_convolution_op while saving (showing 4 of 4). These functions will not be directly callable after loading.\n"
     ]
    },
    {
     "name": "stdout",
     "output_type": "stream",
     "text": [
      "INFO:tensorflow:Assets written to: ram://616361ef-d6ef-479b-b57b-509806915754/assets\n"
     ]
    },
    {
     "name": "stderr",
     "output_type": "stream",
     "text": [
      "INFO:tensorflow:Assets written to: ram://616361ef-d6ef-479b-b57b-509806915754/assets\n"
     ]
    },
    {
     "name": "stdout",
     "output_type": "stream",
     "text": [
      "WARNING:tensorflow:No training configuration found in save file, so the model was *not* compiled. Compile it manually.\n"
     ]
    },
    {
     "name": "stderr",
     "output_type": "stream",
     "text": [
      "WARNING:tensorflow:No training configuration found in save file, so the model was *not* compiled. Compile it manually.\n"
     ]
    },
    {
     "name": "stdout",
     "output_type": "stream",
     "text": [
      "———————————————————————————————————————————————————————————————————————————————————————————————————————\n",
      "Inputs                           | Layer                            | Outputs                         \n",
      "———————————————————————————————————————————————————————————————————————————————————————————————————————\n",
      "                                 | input_11                         | conv1d_27                       \n",
      "-------------------------------------------------------------------------------------------------------\n",
      "input_11                         | conv1d_27                        | max_pooling1d_21                \n",
      "-------------------------------------------------------------------------------------------------------\n",
      "conv1d_27                        | max_pooling1d_21                 | conv1d_28                       \n",
      "-------------------------------------------------------------------------------------------------------\n",
      "max_pooling1d_21                 | conv1d_28                        | max_pooling1d_22                \n",
      "-------------------------------------------------------------------------------------------------------\n",
      "conv1d_28                        | max_pooling1d_22                 | conv1d_29                       \n",
      "-------------------------------------------------------------------------------------------------------\n",
      "max_pooling1d_22                 | conv1d_29                        | max_pooling1d_23                \n",
      "-------------------------------------------------------------------------------------------------------\n",
      "conv1d_29                        | max_pooling1d_23                 | conv1d_30                       \n",
      "-------------------------------------------------------------------------------------------------------\n",
      "max_pooling1d_23                 | conv1d_30                        | average_pooling1d_6             \n",
      "-------------------------------------------------------------------------------------------------------\n",
      "conv1d_30                        | average_pooling1d_6              | flatten_10                      \n",
      "-------------------------------------------------------------------------------------------------------\n",
      "average_pooling1d_6              | flatten_10                       | dense_11                        \n",
      "-------------------------------------------------------------------------------------------------------\n",
      "flatten_10                       | dense_11                         |                                 \n",
      "-------------------------------------------------------------------------------------------------------\n",
      "\n",
      "After optimization:\n",
      "———————————————————————————————————————————————————————————————————————————————————————————————————————\n",
      "Inputs                           | Layer                            | Outputs                         \n",
      "———————————————————————————————————————————————————————————————————————————————————————————————————————\n",
      "                                 | input_11                         | conv1d_27                       \n",
      "-------------------------------------------------------------------------------------------------------\n",
      "input_11                         | conv1d_27                        | max_pooling1d_21                \n",
      "-------------------------------------------------------------------------------------------------------\n",
      "conv1d_27                        | max_pooling1d_21                 | conv1d_28                       \n",
      "-------------------------------------------------------------------------------------------------------\n",
      "max_pooling1d_21                 | conv1d_28                        | max_pooling1d_22                \n",
      "-------------------------------------------------------------------------------------------------------\n",
      "conv1d_28                        | max_pooling1d_22                 | conv1d_29                       \n",
      "-------------------------------------------------------------------------------------------------------\n",
      "max_pooling1d_22                 | conv1d_29                        | max_pooling1d_23                \n",
      "-------------------------------------------------------------------------------------------------------\n",
      "conv1d_29                        | max_pooling1d_23                 | conv1d_30                       \n",
      "-------------------------------------------------------------------------------------------------------\n",
      "max_pooling1d_23                 | conv1d_30                        | average_pooling1d_6             \n",
      "-------------------------------------------------------------------------------------------------------\n",
      "conv1d_30                        | average_pooling1d_6              | flatten_10                      \n",
      "-------------------------------------------------------------------------------------------------------\n",
      "average_pooling1d_6              | flatten_10                       | dense_11                        \n",
      "-------------------------------------------------------------------------------------------------------\n",
      "flatten_10                       | dense_11                         |                                 \n",
      "-------------------------------------------------------------------------------------------------------\n",
      "\n"
     ]
    }
   ],
   "source": [
    "FIXED_POINT=9\n",
    "res = kerascnn2c.Converter(output_path=Path('keras2c/pre-trained_gsc_output_fixed'),\n",
    "                           fixed_point=FIXED_POINT, # Number of bits for the fractional part, Q7.9 format\n",
    "                           number_type='int16_t', # Data type for weights/activations (16 bits quantization)\n",
    "                           long_number_type='int32_t', # Data type for intermediate results\n",
    "                           number_min=-(2**15), # Minimum value for 16-bit signed integers\n",
    "                           number_max=(2**15)-1 # Maximum value for 16-bit signed integers\n",
    "                          ).convert_model(copy.deepcopy(model))\n",
    "with open('keras2c/pre-traine_dgsc_model_fixed.h', 'w') as f:\n",
    "    f.write(res)"
   ]
  }
 ],
 "metadata": {
  "kernelspec": {
   "display_name": "OpenSesame",
   "language": "python",
   "name": "python3"
  },
  "language_info": {
   "codemirror_mode": {
    "name": "ipython",
    "version": 3
   },
   "file_extension": ".py",
   "mimetype": "text/x-python",
   "name": "python",
   "nbconvert_exporter": "python",
   "pygments_lexer": "ipython3",
   "version": "3.10.8"
  },
  "orig_nbformat": 4
 },
 "nbformat": 4,
 "nbformat_minor": 2
}
