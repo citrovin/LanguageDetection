{
 "cells": [
  {
   "attachments": {},
   "cell_type": "markdown",
   "metadata": {},
   "source": [
    "# Fine-Tuning on Recorded Data"
   ]
  },
  {
   "cell_type": "code",
   "execution_count": 71,
   "metadata": {},
   "outputs": [],
   "source": [
    "# Imports\n",
    "import numpy as np\n",
    "import pickle\n",
    "\n",
    "\n",
    "import tensorflow as tf\n",
    "from keras.models import Sequential\n",
    "from keras.layers import Input, Conv1D, AvgPool1D, MaxPool1D, ZeroPadding1D, BatchNormalization, Flatten, Dense, Activation, GlobalAveragePooling1D\n",
    "from keras.utils.data_utils import get_file\n",
    "from keras.utils.np_utils import to_categorical\n",
    "from keras.callbacks import EarlyStopping\n",
    "\n",
    "import kerascnn2c\n",
    "from pathlib import Path\n",
    "import copy"
   ]
  },
  {
   "cell_type": "code",
   "execution_count": 72,
   "metadata": {},
   "outputs": [],
   "source": [
    "def fixed_point_conversion(x: np.array, fixed_point: int):\n",
    "  x /= 2**fixed_point\n",
    "  return x"
   ]
  },
  {
   "attachments": {},
   "cell_type": "markdown",
   "metadata": {},
   "source": [
    "## Read Data"
   ]
  },
  {
   "cell_type": "code",
   "execution_count": 73,
   "metadata": {},
   "outputs": [
    {
     "name": "stdout",
     "output_type": "stream",
     "text": [
      "X shape: (940, 16000, 1)\n",
      "Y shape: (940, 5)\n"
     ]
    }
   ],
   "source": [
    "data_dir = '../../data/fine-tuning/fine-tune.pkl'\n",
    "\n",
    "with open(data_dir, 'rb') as file:\n",
    "    data = pickle.load(file)\n",
    "file.close()\n",
    "\n",
    "x = data['x']\n",
    "y = data['y']\n",
    "\n",
    "permutation = np.random.permutation(len(x))\n",
    "x = x[permutation]\n",
    "y = y[permutation]\n",
    "\n",
    "min_int16 = fixed_point_conversion(-(2**15), 9)\n",
    "max_int16 = fixed_point_conversion((2**15)-1, 9)\n",
    "\n",
    "scaler = MinMaxScaler(feature_range=(min_int16, max_int16))\n",
    "\n",
    "x = np.array([scaler.fit_transform(np.array(i).reshape((16000,1))) for i in x])\n",
    "\n",
    "print(f'X shape: {x.shape}')\n",
    "print(f'Y shape: {y.shape}')\n"
   ]
  },
  {
   "cell_type": "code",
   "execution_count": 74,
   "metadata": {},
   "outputs": [
    {
     "name": "stdout",
     "output_type": "stream",
     "text": [
      "676\n",
      "X train: (676, 16000, 1)\n",
      "y train: (676, 5)\n",
      "---------------------------\n",
      "X val: (76, 16000, 1)\n",
      "y val: (76, 5)\n",
      "---------------------------\n",
      "X test: (188, 16000, 1)\n",
      "y test: (188, 5)\n"
     ]
    }
   ],
   "source": [
    "# splitting into training and validation data\n",
    "test_split = int(0.8*len(x))\n",
    "\n",
    "x_inter, x_test = x[:test_split,:], x[test_split:,:]\n",
    "y_inter, y_test = y[:test_split,:], y[test_split:,:]\n",
    "\n",
    "train_split = int(0.9*len(x_inter))\n",
    "print(train_split)\n",
    "\n",
    "x_train, x_val = x_inter[:train_split,:], x_inter[train_split:,:]\n",
    "y_train, y_val = y_inter[:train_split,:], y_inter[train_split:,:]\n",
    "\n",
    "print(f'X train: {x_train.shape}')\n",
    "print(f'y train: {y_train.shape}')\n",
    "print('---------------------------')\n",
    "print(f'X val: {x_val.shape}')\n",
    "print(f'y val: {y_val.shape}')\n",
    "print('---------------------------')\n",
    "print(f'X test: {x_test.shape}')\n",
    "print(f'y test: {y_test.shape}')"
   ]
  },
  {
   "cell_type": "code",
   "execution_count": 75,
   "metadata": {},
   "outputs": [
    {
     "name": "stdout",
     "output_type": "stream",
     "text": [
      "--------------------------------COUNT EN---------------------------------\n",
      "Train\t EN: 114\n",
      "Val\t EN: 15\n",
      "--------------------------------COUNT DE---------------------------------\n",
      "Train\t DE: 165\n",
      "Val\t DE: 25\n",
      "--------------------------------COUNT ES---------------------------------\n",
      "Train\t ES: 118\n",
      "Val\t ES: 8\n",
      "--------------------------------COUNT FR---------------------------------\n",
      "Train\t FR: 148\n",
      "Val\t FR: 12\n",
      "--------------------------------COUNT IT---------------------------------\n",
      "Train\t IT: 131\n",
      "Val\t IT: 16\n",
      "-------------------------------------------------------------------------\n",
      "--------------------------------MINIMUM COUNTS---------------------------------\n",
      "Min count train: 114\n",
      "Min count val: 8\n",
      "-------------------------------------------------------------------------\n"
     ]
    },
    {
     "data": {
      "image/png": "[encoded data removed]",
      "text/plain": [
       "<Figure size 900x350 with 3 Axes>"
      ]
     },
     "metadata": {},
     "output_type": "display_data"
    }
   ],
   "source": [
    "import matplotlib.pyplot as plt\n",
    "\n",
    "labels_train = [np.argmax(i) for i in y_train]\n",
    "labels_val = [np.argmax(i) for i in y_val]\n",
    "labels_test = [np.argmax(i) for i in y_test]\n",
    "\n",
    "unique_train, counts_train = np.unique(labels_train, return_counts=True)\n",
    "unique_val, counts_val = np.unique(labels_val, return_counts=True)\n",
    "unique_test, counts_test = np.unique(labels_test, return_counts=True)\n",
    "\n",
    "\n",
    "del labels_train\n",
    "# del labels_test\n",
    "del labels_val\n",
    "\n",
    "# CLASSES = ['fleurs.en_us', 'fleurs.de_de', 'fleurs.es_419', 'fleurs.fr_fr', 'fleurs.it_it']\n",
    "# LABELS = ['EN', 'DE', 'ES', 'FR', 'IT']\n",
    "LABELS = ['EN', 'DE', 'ES', 'FR', 'IT']\n",
    "\n",
    "\n",
    "\n",
    "\n",
    "fig, axes = plt.subplots(1,3, figsize=(9, 3.5), sharey=True, edgecolor='black')\n",
    "axes[0].bar(LABELS, counts_train, color='#01386a')\n",
    "axes[0].set_title('Training Data')\n",
    "\n",
    "axes[1].bar(LABELS, counts_val, color='#01386a')\n",
    "axes[1].set_title('Validation Data')\n",
    "\n",
    "axes[2].bar(LABELS, counts_test, color='#01386a')\n",
    "axes[2].set_title('Testing Data')\n",
    "\n",
    "fig.suptitle('Distribution of Fine-Tuning Data')\n",
    "\n",
    "\n",
    "for enum, i in enumerate(counts_train):\n",
    "    print(f'--------------------------------COUNT {LABELS[enum]}---------------------------------')\n",
    "    print(f'Train\\t {LABELS[enum]}: {i}')\n",
    "    # print(f'Test\\t {LABELS[enum]}: {counts_test[enum]}')\n",
    "    print(f'Val\\t {LABELS[enum]}: {counts_val[enum]}')\n",
    "print('-------------------------------------------------------------------------')\n",
    "\n",
    "print('--------------------------------MINIMUM COUNTS---------------------------------')\n",
    "print(f'Min count train: {min(counts_train)}')\n",
    "# print(f'Min count test: {min(counts_test)}')\n",
    "print(f'Min count val: {min(counts_val)}')\n",
    "print('-------------------------------------------------------------------------')"
   ]
  },
  {
   "cell_type": "code",
   "execution_count": 76,
   "metadata": {},
   "outputs": [
    {
     "name": "stdout",
     "output_type": "stream",
     "text": [
      "Num GPUs Available:  1\n",
      "Name of Devices:  [PhysicalDevice(name='/physical_device:CPU:0', device_type='CPU'), PhysicalDevice(name='/physical_device:GPU:0', device_type='GPU')]\n"
     ]
    }
   ],
   "source": [
    "# Available devices\n",
    "print(\"Num GPUs Available: \", len(tf.config.list_physical_devices('GPU')))\n",
    "print('Name of Devices: ', tf.config.list_physical_devices())"
   ]
  },
  {
   "cell_type": "code",
   "execution_count": 77,
   "metadata": {},
   "outputs": [
    {
     "name": "stdout",
     "output_type": "stream",
     "text": [
      "Model: \"sequential\"\n",
      "_________________________________________________________________\n",
      " Layer (type)                Output Shape              Param #   \n",
      "=================================================================\n",
      " conv1d (Conv1D)             (None, 1599, 8)           168       \n",
      "                                                                 \n",
      " max_pooling1d (MaxPooling1D  (None, 799, 8)           0         \n",
      " )                                                               \n",
      "                                                                 \n",
      " conv1d_1 (Conv1D)           (None, 198, 16)           1040      \n",
      "                                                                 \n",
      " max_pooling1d_1 (MaxPooling  (None, 99, 16)           0         \n",
      " 1D)                                                             \n",
      "                                                                 \n",
      " conv1d_2 (Conv1D)           (None, 48, 32)            2080      \n",
      "                                                                 \n",
      " max_pooling1d_2 (MaxPooling  (None, 24, 32)           0         \n",
      " 1D)                                                             \n",
      "                                                                 \n",
      " conv1d_3 (Conv1D)           (None, 23, 64)            4160      \n",
      "                                                                 \n",
      " average_pooling1d (AverageP  (None, 5, 64)            0         \n",
      " ooling1D)                                                       \n",
      "                                                                 \n",
      " flatten (Flatten)           (None, 320)               0         \n",
      "                                                                 \n",
      " dense (Dense)               (None, 5)                 1605      \n",
      "                                                                 \n",
      " activation (Activation)     (None, 5)                 0         \n",
      "                                                                 \n",
      "=================================================================\n",
      "Total params: 9,053\n",
      "Trainable params: 9,053\n",
      "Non-trainable params: 0\n",
      "_________________________________________________________________\n"
     ]
    },
    {
     "name": "stderr",
     "output_type": "stream",
     "text": [
      "/opt/homebrew/Caskroom/miniforge/base/envs/embeddedAI/lib/python3.10/site-packages/keras/optimizers/optimizer_v2/adam.py:110: UserWarning: The `lr` argument is deprecated, use `learning_rate` instead.\n",
      "  super(Adam, self).__init__(name, **kwargs)\n"
     ]
    }
   ],
   "source": [
    "model = Sequential()\n",
    "model.add(Input(shape=(16000, 1)))\n",
    "model.add(Conv1D(filters=8, kernel_size=20, strides=10,activation='relu'))\n",
    "model.add(MaxPool1D(pool_size=2))\n",
    "model.add(Conv1D(filters=16, kernel_size=8, strides=4, activation='relu'))\n",
    "model.add(MaxPool1D(pool_size=2))\n",
    "model.add(Conv1D(filters=32, kernel_size=4, strides=2, activation='relu'))\n",
    "model.add(MaxPool1D(pool_size=2))\n",
    "model.add(Conv1D(filters=64, kernel_size=2, activation='relu'))\n",
    "model.add(AvgPool1D(4))\n",
    "model.add(Flatten())\n",
    "# model.add(Dense(units=128))\n",
    "model.add(Dense(units=5))\n",
    "model.add(Activation('softmax'))\n",
    "\n",
    "# EXPLORE Learning Rate\n",
    "earlystopping = EarlyStopping(monitor = \"val_loss\", patience  = 5)\n",
    "opt = tf.keras.optimizers.Adam(lr=10e-4, decay = 10e-6)\n",
    "\n",
    "model_path = '../models/no-pre-training'\n",
    "model_name = 'language-detection-no-pretraining'\n",
    "\n",
    "# EARLY STOPPING\n",
    "callback_path = f'{model_path}/checkpoints/{model_name}.ckpt' # save weights to this directory\n",
    "checkpoint = tf.keras.callbacks.ModelCheckpoint(callback_path,\n",
    "                                                save_weights_only=True,\n",
    "                                                verbose=1,\n",
    "                                                save_best_only=True)\n",
    "\n",
    "model.summary()\n",
    "model.compile(optimizer=opt, loss='categorical_crossentropy', metrics=['categorical_accuracy'])"
   ]
  },
  {
   "cell_type": "code",
   "execution_count": 78,
   "metadata": {},
   "outputs": [],
   "source": [
    "# # Create a basic model instance\n",
    "# model_path = '../models/language-detection-full-data/fine-tuning'\n",
    "# model_name = 'language-detection-0.6'\n",
    "\n",
    "# checkpoint_path = '../models/language-detection-full-data/pre-trained'\n",
    "\n",
    "\n",
    "# model = keras.models.load_model(checkpoint_path)\n",
    "\n",
    "# opt = tf.keras.optimizers.Adam(lr=10e-6)\n",
    "# model.compile(optimizer=opt, loss='categorical_crossentropy', metrics=['categorical_accuracy'])\n",
    "\n",
    "# # for layer in model.layers[:4]:\n",
    "# #     layer.trainable = False\n",
    "\n",
    "# model.summary()"
   ]
  },
  {
   "cell_type": "code",
   "execution_count": 80,
   "metadata": {},
   "outputs": [
    {
     "name": "stdout",
     "output_type": "stream",
     "text": [
      "Epoch 1/10\n",
      "169/169 [==============================] - 2s 12ms/step - loss: 2.8052e-06 - categorical_accuracy: 1.0000 - val_loss: 5.2748 - val_categorical_accuracy: 0.3684\n",
      "Epoch 2/10\n",
      "169/169 [==============================] - 2s 12ms/step - loss: 2.5063e-06 - categorical_accuracy: 1.0000 - val_loss: 5.2776 - val_categorical_accuracy: 0.3684\n",
      "Epoch 3/10\n",
      "169/169 [==============================] - 2s 12ms/step - loss: 2.2982e-06 - categorical_accuracy: 1.0000 - val_loss: 5.3287 - val_categorical_accuracy: 0.3684\n",
      "Epoch 4/10\n",
      "169/169 [==============================] - 2s 12ms/step - loss: 2.0870e-06 - categorical_accuracy: 1.0000 - val_loss: 5.3739 - val_categorical_accuracy: 0.3684\n",
      "Epoch 5/10\n",
      "169/169 [==============================] - 2s 12ms/step - loss: 1.9018e-06 - categorical_accuracy: 1.0000 - val_loss: 5.4371 - val_categorical_accuracy: 0.3684\n",
      "Epoch 6/10\n",
      "169/169 [==============================] - 2s 12ms/step - loss: 1.7245e-06 - categorical_accuracy: 1.0000 - val_loss: 5.4810 - val_categorical_accuracy: 0.3684\n",
      "Epoch 7/10\n",
      "169/169 [==============================] - 2s 12ms/step - loss: 1.5873e-06 - categorical_accuracy: 1.0000 - val_loss: 5.4754 - val_categorical_accuracy: 0.3684\n",
      "Epoch 8/10\n",
      "169/169 [==============================] - 2s 12ms/step - loss: 1.4520e-06 - categorical_accuracy: 1.0000 - val_loss: 5.5119 - val_categorical_accuracy: 0.3684\n",
      "Epoch 9/10\n",
      "169/169 [==============================] - 2s 12ms/step - loss: 1.3341e-06 - categorical_accuracy: 1.0000 - val_loss: 5.5990 - val_categorical_accuracy: 0.3684\n",
      "Epoch 10/10\n",
      "169/169 [==============================] - 2s 13ms/step - loss: 1.2051e-06 - categorical_accuracy: 1.0000 - val_loss: 5.5736 - val_categorical_accuracy: 0.3684\n"
     ]
    }
   ],
   "source": [
    "# Training model with GPU\n",
    "with tf.device('/gpu:0'):\n",
    "  history = model.fit(x_train, y_train, epochs=10, batch_size=4, validation_data=(x_val, y_val))"
   ]
  },
  {
   "cell_type": "code",
   "execution_count": null,
   "metadata": {},
   "outputs": [
    {
     "name": "stderr",
     "output_type": "stream",
     "text": [
      "WARNING:absl:Found untraced functions such as _jit_compiled_convolution_op, _jit_compiled_convolution_op, _jit_compiled_convolution_op, _jit_compiled_convolution_op while saving (showing 4 of 4). These functions will not be directly callable after loading.\n"
     ]
    },
    {
     "name": "stdout",
     "output_type": "stream",
     "text": [
      "INFO:tensorflow:Assets written to: ../models/language-detection-full-data/fine-tuning/assets\n"
     ]
    },
    {
     "name": "stderr",
     "output_type": "stream",
     "text": [
      "INFO:tensorflow:Assets written to: ../models/language-detection-full-data/fine-tuning/assets\n"
     ]
    }
   ],
   "source": [
    "model.save(model_path)"
   ]
  },
  {
   "cell_type": "code",
   "execution_count": 81,
   "metadata": {},
   "outputs": [
    {
     "data": {
      "image/png": "[encoded data removed]",
      "text/plain": [
       "<Figure size 640x480 with 1 Axes>"
      ]
     },
     "metadata": {},
     "output_type": "display_data"
    }
   ],
   "source": [
    "plt.plot(range(0, len(history.history['categorical_accuracy'])), history.history['categorical_accuracy'])\n",
    "plt.plot(range(0, len(history.history['val_categorical_accuracy'])), history.history['val_categorical_accuracy'])\n",
    "plt.xlabel(\"Epochs\")\n",
    "plt.ylabel(\"Accuracy\")\n",
    "plt.legend(['Training', 'Validation'])\n",
    "plt.show()"
   ]
  },
  {
   "cell_type": "code",
   "execution_count": 82,
   "metadata": {},
   "outputs": [
    {
     "data": {
      "image/png": "[encoded data removed]",
      "text/plain": [
       "<Figure size 640x480 with 1 Axes>"
      ]
     },
     "metadata": {},
     "output_type": "display_data"
    }
   ],
   "source": [
    "plt.plot(range(0, len(history.history['loss'])), history.history['loss'])\n",
    "plt.plot(range(0, len(history.history['val_loss'])), history.history['val_loss'])\n",
    "plt.xlabel(\"Epochs\")\n",
    "plt.ylabel(\"Loss\")\n",
    "plt.legend(['Training', 'Validation'])\n",
    "plt.show()"
   ]
  },
  {
   "cell_type": "code",
   "execution_count": 83,
   "metadata": {},
   "outputs": [
    {
     "name": "stdout",
     "output_type": "stream",
     "text": [
      "6/6 [==============================] - 0s 10ms/step\n",
      "Overall Accuracy: 0.39361702127659576\n"
     ]
    },
    {
     "name": "stderr",
     "output_type": "stream",
     "text": [
      "2023-05-01 19:11:17.430518: I tensorflow/core/grappler/optimizers/custom_graph_optimizer_registry.cc:113] Plugin optimizer for device_type GPU is enabled.\n"
     ]
    },
    {
     "data": {
      "image/png": "[encoded data removed]",
      "text/plain": [
       "<Figure size 900x500 with 2 Axes>"
      ]
     },
     "metadata": {},
     "output_type": "display_data"
    }
   ],
   "source": [
    "# Confusion matrix:\n",
    "import seaborn as sn\n",
    "import pandas as pd\n",
    "import matplotlib.pyplot as plt\n",
    "\n",
    "preds = model.predict(x_test)\n",
    "y_classes = preds.argmax(axis=-1)\n",
    "from sklearn.metrics import confusion_matrix, accuracy_score\n",
    "\n",
    "accuracy = accuracy_score(y_true = y_test.argmax(axis=-1), y_pred = y_classes)\n",
    "print(f'Overall Accuracy: {accuracy}')\n",
    "cm = confusion_matrix(y_true = y_test.argmax(axis=-1), y_pred = y_classes, normalize='true')\n",
    "\n",
    "NAMES = ['English', 'German', 'Spanish', 'French', 'Italian']\n",
    "\n",
    "df_cm = pd.DataFrame(cm)\n",
    "plt.figure(figsize = (9,5))\n",
    "sn.heatmap(df_cm, annot=True, fmt = '.3g', xticklabels=NAMES, yticklabels=NAMES)\n",
    "plt.show()\n",
    "\n"
   ]
  },
  {
   "cell_type": "code",
   "execution_count": 84,
   "metadata": {},
   "outputs": [],
   "source": [
    "model.save(f'{model_path}/{model_name}/keras2c/gsc_no_globalavg.h5')\n",
    "\n",
    "# remove softmax\n",
    "model = tf.keras.Model(model.input, model.layers[-2].output, name=model.name)"
   ]
  },
  {
   "cell_type": "code",
   "execution_count": 85,
   "metadata": {},
   "outputs": [
    {
     "name": "stdout",
     "output_type": "stream",
     "text": [
      "WARNING:tensorflow:Compiled the loaded model, but the compiled metrics have yet to be built. `model.compile_metrics` will be empty until you train or evaluate the model.\n"
     ]
    },
    {
     "name": "stderr",
     "output_type": "stream",
     "text": [
      "WARNING:tensorflow:Compiled the loaded model, but the compiled metrics have yet to be built. `model.compile_metrics` will be empty until you train or evaluate the model.\n",
      "WARNING:absl:Found untraced functions such as _jit_compiled_convolution_op, _jit_compiled_convolution_op, _jit_compiled_convolution_op, _jit_compiled_convolution_op while saving (showing 4 of 4). These functions will not be directly callable after loading.\n"
     ]
    },
    {
     "name": "stdout",
     "output_type": "stream",
     "text": [
      "INFO:tensorflow:Assets written to: ram://e36d49bb-a4ef-4001-9bc7-27921f39bbbc/assets\n"
     ]
    },
    {
     "name": "stderr",
     "output_type": "stream",
     "text": [
      "INFO:tensorflow:Assets written to: ram://e36d49bb-a4ef-4001-9bc7-27921f39bbbc/assets\n"
     ]
    },
    {
     "name": "stdout",
     "output_type": "stream",
     "text": [
      "WARNING:tensorflow:No training configuration found in save file, so the model was *not* compiled. Compile it manually.\n"
     ]
    },
    {
     "name": "stderr",
     "output_type": "stream",
     "text": [
      "WARNING:tensorflow:No training configuration found in save file, so the model was *not* compiled. Compile it manually.\n"
     ]
    },
    {
     "name": "stdout",
     "output_type": "stream",
     "text": [
      "———————————————————————————————————————————————————————————————————————————————————————————————————————\n",
      "Inputs                           | Layer                            | Outputs                         \n",
      "———————————————————————————————————————————————————————————————————————————————————————————————————————\n",
      "                                 | input_1                          | conv1d                          \n",
      "-------------------------------------------------------------------------------------------------------\n",
      "input_1                          | conv1d                           | max_pooling1d                   \n",
      "-------------------------------------------------------------------------------------------------------\n",
      "conv1d                           | max_pooling1d                    | conv1d_1                        \n",
      "-------------------------------------------------------------------------------------------------------\n",
      "max_pooling1d                    | conv1d_1                         | max_pooling1d_1                 \n",
      "-------------------------------------------------------------------------------------------------------\n",
      "conv1d_1                         | max_pooling1d_1                  | conv1d_2                        \n",
      "-------------------------------------------------------------------------------------------------------\n",
      "max_pooling1d_1                  | conv1d_2                         | max_pooling1d_2                 \n",
      "-------------------------------------------------------------------------------------------------------\n",
      "conv1d_2                         | max_pooling1d_2                  | conv1d_3                        \n",
      "-------------------------------------------------------------------------------------------------------\n",
      "max_pooling1d_2                  | conv1d_3                         | average_pooling1d               \n",
      "-------------------------------------------------------------------------------------------------------\n",
      "conv1d_3                         | average_pooling1d                | flatten                         \n",
      "-------------------------------------------------------------------------------------------------------\n",
      "average_pooling1d                | flatten                          | dense                           \n",
      "-------------------------------------------------------------------------------------------------------\n",
      "flatten                          | dense                            |                                 \n",
      "-------------------------------------------------------------------------------------------------------\n",
      "\n",
      "After optimization:\n",
      "———————————————————————————————————————————————————————————————————————————————————————————————————————\n",
      "Inputs                           | Layer                            | Outputs                         \n",
      "———————————————————————————————————————————————————————————————————————————————————————————————————————\n",
      "                                 | input_1                          | conv1d                          \n",
      "-------------------------------------------------------------------------------------------------------\n",
      "input_1                          | conv1d                           | max_pooling1d                   \n",
      "-------------------------------------------------------------------------------------------------------\n",
      "conv1d                           | max_pooling1d                    | conv1d_1                        \n",
      "-------------------------------------------------------------------------------------------------------\n",
      "max_pooling1d                    | conv1d_1                         | max_pooling1d_1                 \n",
      "-------------------------------------------------------------------------------------------------------\n",
      "conv1d_1                         | max_pooling1d_1                  | conv1d_2                        \n",
      "-------------------------------------------------------------------------------------------------------\n",
      "max_pooling1d_1                  | conv1d_2                         | max_pooling1d_2                 \n",
      "-------------------------------------------------------------------------------------------------------\n",
      "conv1d_2                         | max_pooling1d_2                  | conv1d_3                        \n",
      "-------------------------------------------------------------------------------------------------------\n",
      "max_pooling1d_2                  | conv1d_3                         | average_pooling1d               \n",
      "-------------------------------------------------------------------------------------------------------\n",
      "conv1d_3                         | average_pooling1d                | flatten                         \n",
      "-------------------------------------------------------------------------------------------------------\n",
      "average_pooling1d                | flatten                          | dense                           \n",
      "-------------------------------------------------------------------------------------------------------\n",
      "flatten                          | dense                            |                                 \n",
      "-------------------------------------------------------------------------------------------------------\n",
      "\n"
     ]
    }
   ],
   "source": [
    "FIXED_POINT=9\n",
    "res = kerascnn2c.Converter(output_path=Path(f'{model_path}/{model_name}/keras2c/gsc_output_fixed'),\n",
    "                           fixed_point=FIXED_POINT, # Number of bits for the fractional part, Q7.9 format\n",
    "                           number_type='int16_t', # Data type for weights/activations (16 bits quantization)\n",
    "                           long_number_type='int32_t', # Data type for intermediate results\n",
    "                           number_min=-(2**15), # Minimum value for 16-bit signed integers\n",
    "                           number_max=(2**15)-1 # Maximum value for 16-bit signed integers\n",
    "                          ).convert_model(copy.deepcopy(model))\n",
    "with open(f'{model_path}/{model_name}/keras2c/gsc_model_fixed.h', 'w') as f:\n",
    "    f.write(res)"
   ]
  },
  {
   "cell_type": "code",
   "execution_count": 86,
   "metadata": {},
   "outputs": [],
   "source": [
    "# Turn testing data into CSV file for with compiled version\n",
    "np.savetxt(\"x_test.csv\", x_test.reshape((x_test.shape[0], x_test.shape[1])), delimiter=\",\")\n",
    "np.savetxt(\"y_test.csv\", y_test, delimiter=\",\")"
   ]
  },
  {
   "cell_type": "code",
   "execution_count": 88,
   "metadata": {},
   "outputs": [
    {
     "name": "stdout",
     "output_type": "stream",
     "text": [
      "clang: \u001b[0;1;35mwarning: \u001b[0mtreating 'c' input as 'c++' when in C++ mode, this behavior is deprecated [-Wdeprecated]\u001b[0m\n",
      "\u001b[1mgsc_output_fixed/model.c:137:18: \u001b[0m\u001b[0;1;35mwarning: \u001b[0m\u001b[1mexpression result unused [-Wunused-value]\u001b[0m\n",
      "    activations2.average_pooling1d_output,\n",
      "\u001b[0;1;32m    ~~~~~~~~~~~~ ^~~~~~~~~~~~~~~~~~~~~~~~\n",
      "\u001b[0m\u001b[1mgsc_output_fixed/model.c:138:18: \u001b[0m\u001b[0;1;35mwarning: \u001b[0m\u001b[1mexpression result unused [-Wunused-value]\u001b[0m\n",
      "    activations2.flatten_output\n",
      "\u001b[0;1;32m    ~~~~~~~~~~~~ ^~~~~~~~~~~~~~\n",
      "\u001b[0m2 warnings generated.\n",
      "Testing accuracy: 0.37766\n"
     ]
    }
   ],
   "source": [
    "!g++ -std=c++17 -Wall -Wextra -pedantic -Ofast -o gsc_fixed -I gsc_output_fixed/ gsc_output_fixed/model.c main.cpp \n",
    "!./gsc_fixed x_test.csv y_test.csv"
   ]
  },
  {
   "cell_type": "code",
   "execution_count": null,
   "metadata": {},
   "outputs": [],
   "source": []
  },
  {
   "cell_type": "code",
   "execution_count": null,
   "metadata": {},
   "outputs": [],
   "source": []
  }
 ],
 "metadata": {
  "kernelspec": {
   "display_name": "base",
   "language": "python",
   "name": "python3"
  },
  "language_info": {
   "codemirror_mode": {
    "name": "ipython",
    "version": 3
   },
   "file_extension": ".py",
   "mimetype": "text/x-python",
   "name": "python",
   "nbconvert_exporter": "python",
   "pygments_lexer": "ipython3",
   "version": "3.10.8"
  },
  "orig_nbformat": 4
 },
 "nbformat": 4,
 "nbformat_minor": 2
}
