{
 "cells": [
  {
   "attachments": {},
   "cell_type": "markdown",
   "metadata": {},
   "source": [
    "# Fine-Tuning on Recorded Data"
   ]
  },
  {
   "cell_type": "code",
   "execution_count": 1,
   "metadata": {},
   "outputs": [],
   "source": [
    "# Imports\n",
    "import numpy as np\n",
    "import pickle\n",
    "from sklearn.preprocessing import MinMaxScaler\n",
    "import tensorflow as tf\n",
    "from tensorflow import keras\n",
    "\n",
    "import kerascnn2c\n",
    "from pathlib import Path\n",
    "import copy\n"
   ]
  },
  {
   "cell_type": "code",
   "execution_count": 2,
   "metadata": {},
   "outputs": [],
   "source": [
    "def fixed_point_conversion(x: np.array, fixed_point: int):\n",
    "  x /= 2**fixed_point\n",
    "  return x"
   ]
  },
  {
   "attachments": {},
   "cell_type": "markdown",
   "metadata": {},
   "source": [
    "## Read Data"
   ]
  },
  {
   "cell_type": "code",
   "execution_count": 3,
   "metadata": {},
   "outputs": [
    {
     "name": "stdout",
     "output_type": "stream",
     "text": [
      "X shape: (147, 16000, 1)\n",
      "Y shape: (147, 4)\n"
     ]
    }
   ],
   "source": [
    "data_dir = '../../data/fine-tuning/fine-tune_small.pkl'\n",
    "\n",
    "with open(data_dir, 'rb') as file:\n",
    "    data = pickle.load(file)\n",
    "file.close()\n",
    "\n",
    "x = data['x']\n",
    "y = data['y']\n",
    "\n",
    "permutation = np.random.permutation(len(x))\n",
    "x = x[permutation]\n",
    "y = y[permutation]\n",
    "\n",
    "min_int16 = fixed_point_conversion(-(2**15), 9)\n",
    "max_int16 = fixed_point_conversion((2**15)-1, 9)\n",
    "\n",
    "scaler = MinMaxScaler(feature_range=(min_int16, max_int16))\n",
    "\n",
    "x = np.array([scaler.fit_transform(np.array(i).reshape((16000,1))) for i in x])\n",
    "\n",
    "print(f'X shape: {x.shape}')\n",
    "print(f'Y shape: {y.shape}')\n"
   ]
  },
  {
   "cell_type": "code",
   "execution_count": 4,
   "metadata": {},
   "outputs": [
    {
     "name": "stdout",
     "output_type": "stream",
     "text": [
      "X train: (117, 16000, 1)\n",
      "X val: (30, 16000, 1)\n",
      "y train: (117, 4)\n",
      "y val: (30, 4)\n"
     ]
    }
   ],
   "source": [
    "# splitting into training and validation data\n",
    "train_split = int(0.8*len(x))\n",
    "\n",
    "x_train, x_val = x[:train_split,:], x[train_split:,:]\n",
    "y_train, y_val = y[:train_split,:], y[train_split:,:]\n",
    "\n",
    "print(f'X train: {x_train.shape}')\n",
    "print(f'X val: {x_val.shape}')\n",
    "print(f'y train: {y_train.shape}')\n",
    "print(f'y val: {y_val.shape}')"
   ]
  },
  {
   "cell_type": "code",
   "execution_count": 5,
   "metadata": {},
   "outputs": [
    {
     "name": "stdout",
     "output_type": "stream",
     "text": [
      "Num GPUs Available:  1\n",
      "Name of Devices:  [PhysicalDevice(name='/physical_device:CPU:0', device_type='CPU'), PhysicalDevice(name='/physical_device:GPU:0', device_type='GPU')]\n"
     ]
    }
   ],
   "source": [
    "# Available devices\n",
    "print(\"Num GPUs Available: \", len(tf.config.list_physical_devices('GPU')))\n",
    "print('Name of Devices: ', tf.config.list_physical_devices())"
   ]
  },
  {
   "cell_type": "code",
   "execution_count": 6,
   "metadata": {},
   "outputs": [
    {
     "name": "stdout",
     "output_type": "stream",
     "text": [
      "Metal device set to: Apple M1\n",
      "\n",
      "systemMemory: 16.00 GB\n",
      "maxCacheSize: 5.33 GB\n",
      "\n"
     ]
    },
    {
     "name": "stderr",
     "output_type": "stream",
     "text": [
      "2023-04-30 13:52:04.920278: I tensorflow/core/common_runtime/pluggable_device/pluggable_device_factory.cc:305] Could not identify NUMA node of platform GPU ID 0, defaulting to 0. Your kernel may not have been built with NUMA support.\n",
      "2023-04-30 13:52:04.920396: I tensorflow/core/common_runtime/pluggable_device/pluggable_device_factory.cc:271] Created TensorFlow device (/job:localhost/replica:0/task:0/device:GPU:0 with 0 MB memory) -> physical PluggableDevice (device: 0, name: METAL, pci bus id: <undefined>)\n"
     ]
    },
    {
     "data": {
      "text/plain": [
       "<bound method Model.summary of <keras.engine.sequential.Sequential object at 0x15fd17040>>"
      ]
     },
     "execution_count": 6,
     "metadata": {},
     "output_type": "execute_result"
    }
   ],
   "source": [
    "# Create a basic model instance\n",
    "checkpoint_path = '../models/test/pre-trained/'\n",
    "\n",
    "\n",
    "model = keras.models.load_model(checkpoint_path)\n",
    "model.summary"
   ]
  },
  {
   "cell_type": "code",
   "execution_count": 7,
   "metadata": {},
   "outputs": [
    {
     "name": "stderr",
     "output_type": "stream",
     "text": [
      "2023-04-30 13:52:05.745166: W tensorflow/core/platform/profile_utils/cpu_utils.cc:128] Failed to get CPU frequency: 0 Hz\n",
      "2023-04-30 13:52:06.048466: I tensorflow/core/grappler/optimizers/custom_graph_optimizer_registry.cc:113] Plugin optimizer for device_type GPU is enabled.\n"
     ]
    },
    {
     "name": "stdout",
     "output_type": "stream",
     "text": [
      "114/117 [============================>.] - ETA: 0s - loss: 1.3352 - categorical_accuracy: 0.4912"
     ]
    },
    {
     "name": "stderr",
     "output_type": "stream",
     "text": [
      "2023-04-30 13:52:08.032649: I tensorflow/core/grappler/optimizers/custom_graph_optimizer_registry.cc:113] Plugin optimizer for device_type GPU is enabled.\n"
     ]
    },
    {
     "name": "stdout",
     "output_type": "stream",
     "text": [
      "117/117 [==============================] - 3s 14ms/step - loss: 1.3453 - categorical_accuracy: 0.4872 - val_loss: 0.8091 - val_categorical_accuracy: 0.5000\n"
     ]
    }
   ],
   "source": [
    "# Training model with GPU\n",
    "with tf.device('/gpu:0'):\n",
    "  history = model.fit(x_train, y_train, epochs=1, batch_size=1, validation_data=(x_val, y_val))\n",
    "\n",
    "# model.save('../models/checkpoints-v2/fine-tuned')"
   ]
  },
  {
   "cell_type": "code",
   "execution_count": 8,
   "metadata": {},
   "outputs": [
    {
     "name": "stdout",
     "output_type": "stream",
     "text": [
      "1/1 - 0s - loss: 0.8091 - categorical_accuracy: 0.5000 - 237ms/epoch - 237ms/step\n"
     ]
    },
    {
     "name": "stderr",
     "output_type": "stream",
     "text": [
      "2023-04-30 13:52:08.439578: I tensorflow/core/grappler/optimizers/custom_graph_optimizer_registry.cc:113] Plugin optimizer for device_type GPU is enabled.\n"
     ]
    },
    {
     "name": "stdout",
     "output_type": "stream",
     "text": [
      "1/1 [==============================] - 0s 99ms/step\n",
      "tf.Tensor(\n",
      "[[10  0  3]\n",
      " [ 0  0  0]\n",
      " [12  0  5]], shape=(3, 3), dtype=int32)\n"
     ]
    },
    {
     "name": "stderr",
     "output_type": "stream",
     "text": [
      "2023-04-30 13:52:08.668511: I tensorflow/core/grappler/optimizers/custom_graph_optimizer_registry.cc:113] Plugin optimizer for device_type GPU is enabled.\n"
     ]
    }
   ],
   "source": [
    "with tf.device('/gpu:0'):\n",
    "    model.evaluate(x_val, y_val, verbose=2)\n",
    "    pred_test = model.predict(x_val)\n",
    "    print(tf.math.confusion_matrix(y_val.argmax(axis=1), pred_test.argmax(axis=1)))"
   ]
  },
  {
   "cell_type": "code",
   "execution_count": 9,
   "metadata": {},
   "outputs": [
    {
     "name": "stdout",
     "output_type": "stream",
     "text": [
      "1/1 [==============================] - 0s 11ms/step\n"
     ]
    },
    {
     "data": {
      "image/png": "[encoded data removed]",
      "text/plain": [
       "<Figure size 900x500 with 2 Axes>"
      ]
     },
     "metadata": {},
     "output_type": "display_data"
    }
   ],
   "source": [
    "# Confusion matrix:\n",
    "import seaborn as sn\n",
    "import pandas as pd\n",
    "import matplotlib.pyplot as plt\n",
    "\n",
    "CLASSES = ['english', 'german', 'spanish', 'french', 'italian']\n",
    "\n",
    "preds = model.predict(x_val)\n",
    "y_classes = preds.argmax(axis=-1)\n",
    "from sklearn.metrics import confusion_matrix\n",
    "cm = confusion_matrix(y_true = y_val.argmax(axis=-1), y_pred = y_classes)\n",
    "\n",
    "df_cm = pd.DataFrame(cm)\n",
    "plt.figure(figsize = (9,5))\n",
    "sn.heatmap(df_cm, annot=True, fmt = '.3g', xticklabels=CLASSES, yticklabels=CLASSES)\n",
    "plt.show()"
   ]
  },
  {
   "cell_type": "code",
   "execution_count": 10,
   "metadata": {},
   "outputs": [],
   "source": [
    "model.save('./keras2c/lab_gsc_no_globalavg.h5')\n",
    "\n",
    "# remove softmax\n",
    "model = tf.keras.Model(model.input, model.layers[-2].output, name=model.name)"
   ]
  },
  {
   "cell_type": "code",
   "execution_count": 11,
   "metadata": {},
   "outputs": [
    {
     "name": "stdout",
     "output_type": "stream",
     "text": [
      "WARNING:tensorflow:Compiled the loaded model, but the compiled metrics have yet to be built. `model.compile_metrics` will be empty until you train or evaluate the model.\n"
     ]
    },
    {
     "name": "stderr",
     "output_type": "stream",
     "text": [
      "WARNING:absl:Found untraced functions such as _jit_compiled_convolution_op, _jit_compiled_convolution_op, _jit_compiled_convolution_op, _jit_compiled_convolution_op while saving (showing 4 of 4). These functions will not be directly callable after loading.\n"
     ]
    },
    {
     "name": "stdout",
     "output_type": "stream",
     "text": [
      "INFO:tensorflow:Assets written to: ram://ca1dc9fb-a02f-4bd4-9a5d-abdf79c9158d/assets\n"
     ]
    },
    {
     "name": "stderr",
     "output_type": "stream",
     "text": [
      "INFO:tensorflow:Assets written to: ram://ca1dc9fb-a02f-4bd4-9a5d-abdf79c9158d/assets\n"
     ]
    },
    {
     "name": "stdout",
     "output_type": "stream",
     "text": [
      "WARNING:tensorflow:No training configuration found in save file, so the model was *not* compiled. Compile it manually.\n"
     ]
    },
    {
     "name": "stderr",
     "output_type": "stream",
     "text": [
      "WARNING:tensorflow:No training configuration found in save file, so the model was *not* compiled. Compile it manually.\n"
     ]
    },
    {
     "name": "stdout",
     "output_type": "stream",
     "text": [
      "———————————————————————————————————————————————————————————————————————————————————————————————————————\n",
      "Inputs                           | Layer                            | Outputs                         \n",
      "———————————————————————————————————————————————————————————————————————————————————————————————————————\n",
      "                                 | input_11                         | conv1d_27                       \n",
      "-------------------------------------------------------------------------------------------------------\n",
      "input_11                         | conv1d_27                        | max_pooling1d_21                \n",
      "-------------------------------------------------------------------------------------------------------\n",
      "conv1d_27                        | max_pooling1d_21                 | conv1d_28                       \n",
      "-------------------------------------------------------------------------------------------------------\n",
      "max_pooling1d_21                 | conv1d_28                        | max_pooling1d_22                \n",
      "-------------------------------------------------------------------------------------------------------\n",
      "conv1d_28                        | max_pooling1d_22                 | conv1d_29                       \n",
      "-------------------------------------------------------------------------------------------------------\n",
      "max_pooling1d_22                 | conv1d_29                        | max_pooling1d_23                \n",
      "-------------------------------------------------------------------------------------------------------\n",
      "conv1d_29                        | max_pooling1d_23                 | conv1d_30                       \n",
      "-------------------------------------------------------------------------------------------------------\n",
      "max_pooling1d_23                 | conv1d_30                        | average_pooling1d_6             \n",
      "-------------------------------------------------------------------------------------------------------\n",
      "conv1d_30                        | average_pooling1d_6              | flatten_10                      \n",
      "-------------------------------------------------------------------------------------------------------\n",
      "average_pooling1d_6              | flatten_10                       | dense_11                        \n",
      "-------------------------------------------------------------------------------------------------------\n",
      "flatten_10                       | dense_11                         |                                 \n",
      "-------------------------------------------------------------------------------------------------------\n",
      "\n",
      "After optimization:\n",
      "———————————————————————————————————————————————————————————————————————————————————————————————————————\n",
      "Inputs                           | Layer                            | Outputs                         \n",
      "———————————————————————————————————————————————————————————————————————————————————————————————————————\n",
      "                                 | input_11                         | conv1d_27                       \n",
      "-------------------------------------------------------------------------------------------------------\n",
      "input_11                         | conv1d_27                        | max_pooling1d_21                \n",
      "-------------------------------------------------------------------------------------------------------\n",
      "conv1d_27                        | max_pooling1d_21                 | conv1d_28                       \n",
      "-------------------------------------------------------------------------------------------------------\n",
      "max_pooling1d_21                 | conv1d_28                        | max_pooling1d_22                \n",
      "-------------------------------------------------------------------------------------------------------\n",
      "conv1d_28                        | max_pooling1d_22                 | conv1d_29                       \n",
      "-------------------------------------------------------------------------------------------------------\n",
      "max_pooling1d_22                 | conv1d_29                        | max_pooling1d_23                \n",
      "-------------------------------------------------------------------------------------------------------\n",
      "conv1d_29                        | max_pooling1d_23                 | conv1d_30                       \n",
      "-------------------------------------------------------------------------------------------------------\n",
      "max_pooling1d_23                 | conv1d_30                        | average_pooling1d_6             \n",
      "-------------------------------------------------------------------------------------------------------\n",
      "conv1d_30                        | average_pooling1d_6              | flatten_10                      \n",
      "-------------------------------------------------------------------------------------------------------\n",
      "average_pooling1d_6              | flatten_10                       | dense_11                        \n",
      "-------------------------------------------------------------------------------------------------------\n",
      "flatten_10                       | dense_11                         |                                 \n",
      "-------------------------------------------------------------------------------------------------------\n",
      "\n"
     ]
    }
   ],
   "source": [
    "FIXED_POINT=9\n",
    "res = kerascnn2c.Converter(output_path=Path('keras2c/gsc_output_fixed'),\n",
    "                           fixed_point=FIXED_POINT, # Number of bits for the fractional part, Q7.9 format\n",
    "                           number_type='int16_t', # Data type for weights/activations (16 bits quantization)\n",
    "                           long_number_type='int32_t', # Data type for intermediate results\n",
    "                           number_min=-(2**15), # Minimum value for 16-bit signed integers\n",
    "                           number_max=(2**15)-1 # Maximum value for 16-bit signed integers\n",
    "                          ).convert_model(copy.deepcopy(model))\n",
    "with open('keras2c/gsc_model_fixed.h', 'w') as f:\n",
    "    f.write(res)"
   ]
  },
  {
   "cell_type": "code",
   "execution_count": null,
   "metadata": {},
   "outputs": [],
   "source": []
  }
 ],
 "metadata": {
  "kernelspec": {
   "display_name": "base",
   "language": "python",
   "name": "python3"
  },
  "language_info": {
   "codemirror_mode": {
    "name": "ipython",
    "version": 3
   },
   "file_extension": ".py",
   "mimetype": "text/x-python",
   "name": "python",
   "nbconvert_exporter": "python",
   "pygments_lexer": "ipython3",
   "version": "3.10.8"
  },
  "orig_nbformat": 4
 },
 "nbformat": 4,
 "nbformat_minor": 2
}
