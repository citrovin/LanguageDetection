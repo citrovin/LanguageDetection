{
 "cells": [
  {
   "cell_type": "code",
   "execution_count": 1,
   "metadata": {},
   "outputs": [],
   "source": [
    "# Imports\n",
    "import numpy as np\n",
    "import pickle\n",
    "from os import walk\n",
    "from keras.utils.np_utils import to_categorical"
   ]
  },
  {
   "cell_type": "code",
   "execution_count": 15,
   "metadata": {},
   "outputs": [],
   "source": [
    "def create_recording_blocks(recording: np.array, sample_rate: int=16000):\n",
    "    sampled_data = []\n",
    "    for i in [recording]:\n",
    "        print(i.shape[0])\n",
    "        num_sec = int(i.shape[0]/sample_rate)\n",
    "        print(num_sec)\n",
    "        array_intermediate = i[:(num_sec*sample_rate)]\n",
    "        sampled_data.extend(np.split(array_intermediate, num_sec))\n",
    "\n",
    "    return sampled_data"
   ]
  },
  {
   "cell_type": "code",
   "execution_count": 3,
   "metadata": {},
   "outputs": [
    {
     "name": "stdout",
     "output_type": "stream",
     "text": [
      "X: (940, 16000, 1)\n",
      "Y: (940, 5)\n"
     ]
    }
   ],
   "source": [
    "directories = ['english/', 'german/', 'spanish/', 'french/', 'italian/']\n",
    "# directories = ['english/', 'german/', 'spanish/', 'french/']\n",
    "# labels: english 0, german 1, spanish 2, french 3, italian 4\n",
    "\n",
    "\n",
    "data_dir = '../../data/'\n",
    "x_data = []\n",
    "y_data = []\n",
    "\n",
    "for enum, dir in enumerate(directories):\n",
    "    f = []\n",
    "    for (dirpath, dirnames, filenames) in walk(data_dir+dir):\n",
    "        f.extend(filenames)\n",
    "\n",
    "    for file in f:\n",
    "        if(file == '.DS_Store'): continue\n",
    "        path = data_dir+dir+file\n",
    "        with open(path, 'rb') as file:\n",
    "            pcm = file.read()\n",
    "        file.close()\n",
    "\n",
    "        pcm = np.array(list(pcm)).reshape((len(pcm), 1))\n",
    "        x = np.array(create_recording_blocks(pcm))\n",
    "        labels_sampled = np.array([enum]*x.shape[0])\n",
    "        y = to_categorical(labels_sampled, len(directories))\n",
    "\n",
    "        x_data.extend(x)\n",
    "        y_data.extend(y)\n",
    "\n",
    "print(f'X: {np.array(x_data).shape}')\n",
    "print(f'Y: {np.array(y_data).shape}')"
   ]
  },
  {
   "cell_type": "code",
   "execution_count": 4,
   "metadata": {},
   "outputs": [],
   "source": [
    "data = {'x': np.array(x_data), 'y' : np.array(y_data)}\n",
    "\n",
    "\n",
    "output_dir = '../../data/fine-tuning/'\n",
    "with open(output_dir+'fine-tune.pkl', 'wb') as output_file:\n",
    "    pickle.dump(data, output_file)\n",
    "output_file.close()"
   ]
  },
  {
   "cell_type": "code",
   "execution_count": 19,
   "metadata": {},
   "outputs": [
    {
     "name": "stdout",
     "output_type": "stream",
     "text": [
      "95.6015625\n",
      "1529625\n",
      "95\n"
     ]
    },
    {
     "data": {
      "text/plain": [
       "(95, 16000, 1)"
      ]
     },
     "execution_count": 19,
     "metadata": {},
     "output_type": "execute_result"
    }
   ],
   "source": [
    "import numpy as np\n",
    "\n",
    "with open('../../data/english/eloise.pcm', 'rb') as f:\n",
    "    data = f.read()\n",
    "f.close()\n",
    "\n",
    "data = np.array(list(data)).reshape((len(data), 1))\n",
    "print(data.shape[0]/16000)\n",
    "x = np.array(create_recording_blocks(data))\n",
    "x.shape"
   ]
  },
  {
   "cell_type": "code",
   "execution_count": null,
   "metadata": {},
   "outputs": [],
   "source": []
  }
 ],
 "metadata": {
  "kernelspec": {
   "display_name": "base",
   "language": "python",
   "name": "python3"
  },
  "language_info": {
   "codemirror_mode": {
    "name": "ipython",
    "version": 3
   },
   "file_extension": ".py",
   "mimetype": "text/x-python",
   "name": "python",
   "nbconvert_exporter": "python",
   "pygments_lexer": "ipython3",
   "version": "3.10.8"
  },
  "orig_nbformat": 4
 },
 "nbformat": 4,
 "nbformat_minor": 2
}
