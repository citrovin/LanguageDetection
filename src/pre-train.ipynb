{
 "cells": [
  {
   "attachments": {},
   "cell_type": "markdown",
   "metadata": {},
   "source": [
    "# Language Detection on the Edge"
   ]
  },
  {
   "attachments": {},
   "cell_type": "markdown",
   "metadata": {},
   "source": [
    "## Imports"
   ]
  },
  {
   "cell_type": "code",
   "execution_count": 1,
   "metadata": {},
   "outputs": [],
   "source": [
    "# Imports\n",
    "import wave\n",
    "import numpy as np\n",
    "import pickle\n",
    "import matplotlib.pyplot as plt\n",
    "\n",
    "import tensorflow as tf\n",
    "from keras.models import Sequential\n",
    "from keras.layers import Input, Conv1D, AvgPool1D, MaxPool1D, ZeroPadding1D, BatchNormalization, Flatten, Dense, Activation, GlobalAveragePooling1D\n",
    "from keras.utils.data_utils import get_file\n",
    "from keras.utils.np_utils import to_categorical\n",
    "from keras.callbacks import EarlyStopping\n",
    "\n",
    "import kerascnn2c\n",
    "from pathlib import Path\n",
    "import copy\n",
    "\n",
    "from sklearn.preprocessing import MinMaxScaler"
   ]
  },
  {
   "attachments": {},
   "cell_type": "markdown",
   "metadata": {},
   "source": [
    "## Pre-process Data"
   ]
  },
  {
   "attachments": {},
   "cell_type": "markdown",
   "metadata": {},
   "source": [
    "### Helper Functions"
   ]
  },
  {
   "cell_type": "code",
   "execution_count": 2,
   "metadata": {},
   "outputs": [],
   "source": [
    "def create_data(dataset_dir: str, file_names: list):\n",
    "\n",
    "    NUM_CLASSES = len(file_names)\n",
    "    \n",
    "    x_train, x_test, x_val, y_train, y_test, y_val = [], [], [], [], [], []\n",
    "    \n",
    "    for enum, file in enumerate(file_names):\n",
    "        path = dataset_dir + file + '.pkl'\n",
    "        with open(path, 'rb') as data_file:\n",
    "            data = pickle.load(data_file)\n",
    "\n",
    "            data_train = data['data_train']\n",
    "            data_test = data['data_test']\n",
    "            data_val = data['data_val']\n",
    "\n",
    "        sample_rate=16000\n",
    "\n",
    "        x_train_inter = []\n",
    "        for i in data_train:\n",
    "            num_sec = int(i.shape[0]/sample_rate)\n",
    "            array_intermediate = i[:(num_sec*sample_rate)]\n",
    "            x_train_inter.extend(np.split(array_intermediate, num_sec))\n",
    "        \n",
    "        \n",
    "        x_test_inter = []\n",
    "        for i in data_test:\n",
    "            num_sec = int(i.shape[0]/sample_rate)\n",
    "            array_intermediate = i[:(num_sec*sample_rate)]\n",
    "            x_test_inter.extend(np.split(array_intermediate, num_sec))\n",
    "\n",
    "        x_val_inter = []\n",
    "        for i in data_val:\n",
    "            num_sec = int(i.shape[0]/sample_rate)\n",
    "            array_intermediate = i[:(num_sec*sample_rate)]\n",
    "            x_val_inter.extend(np.split(array_intermediate, num_sec))\n",
    "\n",
    "        y_train_inter = [[enum]]*len(x_train_inter)\n",
    "        y_test_inter = [[enum]]*len(x_test_inter)\n",
    "        y_val_inter = [[enum]]*len(x_val_inter)\n",
    "\n",
    "        x_train.extend(x_train_inter)\n",
    "        x_test.extend(x_test_inter)\n",
    "        x_val.extend(x_val_inter)\n",
    "\n",
    "        y_train.extend(y_train_inter)\n",
    "        y_test.extend(y_test_inter)\n",
    "        y_val.extend(y_val_inter)\n",
    "        \n",
    "\n",
    "    x_train = np.array(x_train)\n",
    "    x_test = np.array(x_test)\n",
    "    x_val = np.array(x_val)\n",
    "\n",
    "    y_train = to_categorical(np.array(y_train), num_classes = NUM_CLASSES)\n",
    "    y_test = to_categorical(np.array(y_test), num_classes = NUM_CLASSES)\n",
    "    y_val = to_categorical(np.array(y_val), num_classes = NUM_CLASSES)\n",
    "\n",
    "    return x_train, x_test, x_val, y_train, y_test, y_val\n",
    "\n",
    "\n",
    "def load_train(dir_path: str):\n",
    "    with open(dir_path, 'rb') as f:\n",
    "        return pickle.load(f)\n",
    "    \n",
    "def load_data(dir_path: str):\n",
    "    with open(dir_path, 'rb') as f:\n",
    "        data = pickle.load(f)\n",
    "    f.close()\n",
    "    return data\n",
    "\n",
    "def fixed_point_conversion(x: np.array, fixed_point: int):\n",
    "  x /= 2**fixed_point\n",
    "  return x\n"
   ]
  },
  {
   "cell_type": "code",
   "execution_count": 3,
   "metadata": {},
   "outputs": [],
   "source": [
    "# path_x_train = \"../data/pre-train/x_train.pkl\"\n",
    "# path_y_train = \"../data/pre-train/y_train.pkl\"\n",
    "\n",
    "# batch_size = 128\n",
    "\n",
    "# dataset_x = tf.data.Dataset.from_tensor_slices(load_train(path_x_train)) # create dataset x train\n",
    "# dataset_y = tf.data.Dataset.from_tensor_slices(load_train(path_y_train)) # create dataset y train\n",
    "# dataset_train = tf.data.Dataset.zip((dataset_x, dataset_y)) # combine y and x train datasets\n",
    "# dataset_train = dataset_train.shuffle(buffer_size = len(dataset_x))\n",
    "# dataset_train = dataset_train.batch(batch_size).prefetch(tf.data.AUTOTUNE) # create batches and preload the data while training\n",
    "\n",
    "# for a,b in dataset_train:\n",
    "#   print(a)\n",
    "#   print(b)\n",
    "#   break"
   ]
  },
  {
   "attachments": {},
   "cell_type": "markdown",
   "metadata": {},
   "source": [
    "### Loading Data"
   ]
  },
  {
   "cell_type": "code",
   "execution_count": 4,
   "metadata": {},
   "outputs": [],
   "source": [
    "# dataset_dir = '../data/pre-train/raw'\n",
    "dataset_dir = '../data/pre-train/'\n",
    "# CLASSES = ['fleurs.en_us', 'fleurs.de_de', 'fleurs.es_419', 'fleurs.fr_fr', 'fleurs.it_it']\n",
    "# CLASSES = ['fleurs.en_us', 'fleurs.de_de', 'fleurs.fr_fr', 'fleurs.it_it']\n",
    "CLASSES = ['fleurs.en_us', 'fleurs.de_de', 'fleurs.es_419', 'fleurs.fr_fr']\n",
    "\n",
    "x = load_data(dataset_dir+'x_train.pkl')\n",
    "y = load_data(dataset_dir+'y_train.pkl')\n",
    "\n",
    "permutation = np.random.permutation(len(x))\n",
    "x = x[permutation]\n",
    "y = y[permutation]\n",
    "\n",
    "x.shape\n",
    "\n",
    "x = x[:int(0.6*len(x)),:]\n",
    "y = y[:int(0.6*len(y)),:]\n",
    "\n",
    "\n",
    "\n",
    "scaler = MinMaxScaler(feature_range=(-64, 64))\n",
    "x = np.array([scaler.fit_transform(np.array(i).reshape((16000,1))) for i in x])\n",
    "\n",
    "\n",
    "\n",
    "# x_test = load_data(dataset_dir+'x_test.pkl')\n",
    "# x_val = load_data(dataset_dir+'x_val.pkl')\n",
    "# y_test = load_data(dataset_dir+'y_test.pkl')\n",
    "# y_val = load_data(dataset_dir+'y_val.pkl')\n",
    "\n",
    "# print('----------------------------------------------------------------------')\n",
    "# print(f'Number of samples in train: {len(x_train)}')\n",
    "# print(f'Number of samples in test: {len(x_test)}')\n",
    "# print(f'Number of samplesin validation: {len(x_val)}')\n",
    "# print('----------------------------------------------------------------------')\n",
    "# print('----------------------------------------------------------------------')\n",
    "# print(f'x_train shape: {x_train.shape} | y_train shape: {y_train.shape}')\n",
    "# print(f'x_test shape: {x_test.shape} | y_test shape: {y_test.shape}')\n",
    "# print(f'x_val shape: {x_val.shape} | y_val shape: {y_val.shape}')\n",
    "# print('----------------------------------------------------------------------')"
   ]
  },
  {
   "cell_type": "code",
   "execution_count": 5,
   "metadata": {},
   "outputs": [
    {
     "name": "stdout",
     "output_type": "stream",
     "text": [
      "X train: (58844, 16000, 1)\n",
      "X val: (14711, 16000, 1)\n",
      "y train: (58844, 4)\n",
      "y val: (14711, 4)\n"
     ]
    }
   ],
   "source": [
    "# splitting into training and validation data\n",
    "train_split = int(0.8*len(x))\n",
    "\n",
    "x_train, x_val = x[:train_split,:], x[train_split:,:]\n",
    "y_train, y_val = y[:train_split,:], y[train_split:,:]\n",
    "\n",
    "print(f'X train: {x_train.shape}')\n",
    "print(f'X val: {x_val.shape}')\n",
    "print(f'y train: {y_train.shape}')\n",
    "print(f'y val: {y_val.shape}')"
   ]
  },
  {
   "cell_type": "code",
   "execution_count": 6,
   "metadata": {},
   "outputs": [],
   "source": [
    "# with open(f'../data/pre-train/x_train.pkl', 'wb') as f:\n",
    "#     pickle.dump(x_train, f)\n",
    "# f.close()\n",
    "\n",
    "# with open(f'../data/pre-train/x_test.pkl', 'wb') as f:\n",
    "#     pickle.dump(x_test, f)\n",
    "# f.close()\n",
    "\n",
    "# with open(f'../data/pre-train/x_val.pkl', 'wb') as f:\n",
    "#     pickle.dump(x_val, f)\n",
    "# f.close()\n",
    "\n",
    "# with open(f'../data/pre-train/y_train.pkl', 'wb') as f:\n",
    "#     pickle.dump(y_train, f)\n",
    "# f.close()\n",
    "\n",
    "# with open(f'../data/pre-train/y_test.pkl', 'wb') as f:\n",
    "#     pickle.dump(y_test, f)\n",
    "# f.close()\n",
    "\n",
    "# with open(f'../data/pre-train/y_val.pkl', 'wb') as f:\n",
    "#     pickle.dump(y_val, f)\n",
    "# f.close()"
   ]
  },
  {
   "attachments": {},
   "cell_type": "markdown",
   "metadata": {},
   "source": [
    "## Analysis of Training Data"
   ]
  },
  {
   "cell_type": "code",
   "execution_count": 10,
   "metadata": {},
   "outputs": [
    {
     "ename": "KeyboardInterrupt",
     "evalue": "",
     "output_type": "error",
     "traceback": [
      "\u001b[0;31m---------------------------------------------------------------------------\u001b[0m",
      "\u001b[0;31mKeyboardInterrupt\u001b[0m                         Traceback (most recent call last)",
      "Cell \u001b[0;32mIn[10], line 1\u001b[0m\n\u001b[0;32m----> 1\u001b[0m labels_train \u001b[39m=\u001b[39m [np\u001b[39m.\u001b[39margmax(i) \u001b[39mfor\u001b[39;00m i \u001b[39min\u001b[39;00m y_train]\n\u001b[1;32m      2\u001b[0m \u001b[39m# labels_test = [np.argmax(i) for i in y_test]\u001b[39;00m\n\u001b[1;32m      3\u001b[0m labels_val \u001b[39m=\u001b[39m [np\u001b[39m.\u001b[39margmax(i) \u001b[39mfor\u001b[39;00m i \u001b[39min\u001b[39;00m y_val]\n",
      "Cell \u001b[0;32mIn[10], line 1\u001b[0m, in \u001b[0;36m<listcomp>\u001b[0;34m(.0)\u001b[0m\n\u001b[0;32m----> 1\u001b[0m labels_train \u001b[39m=\u001b[39m [np\u001b[39m.\u001b[39;49margmax(i) \u001b[39mfor\u001b[39;00m i \u001b[39min\u001b[39;00m y_train]\n\u001b[1;32m      2\u001b[0m \u001b[39m# labels_test = [np.argmax(i) for i in y_test]\u001b[39;00m\n\u001b[1;32m      3\u001b[0m labels_val \u001b[39m=\u001b[39m [np\u001b[39m.\u001b[39margmax(i) \u001b[39mfor\u001b[39;00m i \u001b[39min\u001b[39;00m y_val]\n",
      "File \u001b[0;32m<__array_function__ internals>:180\u001b[0m, in \u001b[0;36margmax\u001b[0;34m(*args, **kwargs)\u001b[0m\n",
      "File \u001b[0;32m/opt/homebrew/Caskroom/miniforge/base/envs/embeddedAI/lib/python3.10/site-packages/numpy/core/fromnumeric.py:1216\u001b[0m, in \u001b[0;36margmax\u001b[0;34m(a, axis, out, keepdims)\u001b[0m\n\u001b[1;32m   1129\u001b[0m \u001b[39m\"\"\"\u001b[39;00m\n\u001b[1;32m   1130\u001b[0m \u001b[39mReturns the indices of the maximum values along an axis.\u001b[39;00m\n\u001b[1;32m   1131\u001b[0m \n\u001b[0;32m   (...)\u001b[0m\n\u001b[1;32m   1213\u001b[0m \u001b[39m(2, 1, 4)\u001b[39;00m\n\u001b[1;32m   1214\u001b[0m \u001b[39m\"\"\"\u001b[39;00m\n\u001b[1;32m   1215\u001b[0m kwds \u001b[39m=\u001b[39m {\u001b[39m'\u001b[39m\u001b[39mkeepdims\u001b[39m\u001b[39m'\u001b[39m: keepdims} \u001b[39mif\u001b[39;00m keepdims \u001b[39mis\u001b[39;00m \u001b[39mnot\u001b[39;00m np\u001b[39m.\u001b[39m_NoValue \u001b[39melse\u001b[39;00m {}\n\u001b[0;32m-> 1216\u001b[0m \u001b[39mreturn\u001b[39;00m _wrapfunc(a, \u001b[39m'\u001b[39;49m\u001b[39margmax\u001b[39;49m\u001b[39m'\u001b[39;49m, axis\u001b[39m=\u001b[39;49maxis, out\u001b[39m=\u001b[39;49mout, \u001b[39m*\u001b[39;49m\u001b[39m*\u001b[39;49mkwds)\n",
      "File \u001b[0;32m/opt/homebrew/Caskroom/miniforge/base/envs/embeddedAI/lib/python3.10/site-packages/numpy/core/fromnumeric.py:57\u001b[0m, in \u001b[0;36m_wrapfunc\u001b[0;34m(obj, method, *args, **kwds)\u001b[0m\n\u001b[1;32m     54\u001b[0m     \u001b[39mreturn\u001b[39;00m _wrapit(obj, method, \u001b[39m*\u001b[39margs, \u001b[39m*\u001b[39m\u001b[39m*\u001b[39mkwds)\n\u001b[1;32m     56\u001b[0m \u001b[39mtry\u001b[39;00m:\n\u001b[0;32m---> 57\u001b[0m     \u001b[39mreturn\u001b[39;00m bound(\u001b[39m*\u001b[39;49margs, \u001b[39m*\u001b[39;49m\u001b[39m*\u001b[39;49mkwds)\n\u001b[1;32m     58\u001b[0m \u001b[39mexcept\u001b[39;00m \u001b[39mTypeError\u001b[39;00m:\n\u001b[1;32m     59\u001b[0m     \u001b[39m# A TypeError occurs if the object does have such a method in its\u001b[39;00m\n\u001b[1;32m     60\u001b[0m     \u001b[39m# class, but its signature is not identical to that of NumPy's. This\u001b[39;00m\n\u001b[0;32m   (...)\u001b[0m\n\u001b[1;32m     64\u001b[0m     \u001b[39m# Call _wrapit from within the except clause to ensure a potential\u001b[39;00m\n\u001b[1;32m     65\u001b[0m     \u001b[39m# exception has a traceback chain.\u001b[39;00m\n\u001b[1;32m     66\u001b[0m     \u001b[39mreturn\u001b[39;00m _wrapit(obj, method, \u001b[39m*\u001b[39margs, \u001b[39m*\u001b[39m\u001b[39m*\u001b[39mkwds)\n",
      "\u001b[0;31mKeyboardInterrupt\u001b[0m: "
     ]
    }
   ],
   "source": [
    "\n",
    "labels_train = [np.argmax(i) for i in y_train]\n",
    "# labels_test = [np.argmax(i) for i in y_test]\n",
    "labels_val = [np.argmax(i) for i in y_val]\n",
    "\n",
    "unique_train, counts_train = np.unique(labels_train, return_counts=True)\n",
    "# unique_test, counts_test = np.unique(labels_test, return_counts=True)\n",
    "unique_val, counts_val = np.unique(labels_val, return_counts=True)\n",
    "\n",
    "del labels_train\n",
    "# del labels_test\n",
    "del labels_val\n",
    "\n",
    "# CLASSES = ['fleurs.en_us', 'fleurs.de_de', 'fleurs.es_419', 'fleurs.fr_fr', 'fleurs.it_it']\n",
    "# LABELS = ['EN', 'DE', 'ES', 'FR', 'IT']\n",
    "LABELS = ['EN', 'DE', 'ES', 'FR', 'IT']\n",
    "\n",
    "\n",
    "\n",
    "\n",
    "fig, axes = plt.subplots(1,3, figsize=(9, 3.5), sharey=True, edgecolor='black')\n",
    "axes[0].bar(LABELS, counts_train, color='#01386a')\n",
    "axes[0].set_title('Training Data')\n",
    "\n",
    "axes[1].bar(LABELS, counts_val, color='#01386a')\n",
    "axes[1].set_title('Validation Data')\n",
    "\n",
    "# axes[2].bar(LABELS, counts_test, color='#01386a')\n",
    "# axes[2].set_title('Testing Data')\n",
    "\n",
    "fig.suptitle('Distribution of Pre-Training Data')\n",
    "\n",
    "\n",
    "for enum, i in enumerate(counts_train):\n",
    "    print(f'--------------------------------COUNT {LABELS[enum]}---------------------------------')\n",
    "    print(f'Train\\t {LABELS[enum]}: {i}')\n",
    "    # print(f'Test\\t {LABELS[enum]}: {counts_test[enum]}')\n",
    "    print(f'Val\\t {LABELS[enum]}: {counts_val[enum]}')\n",
    "print('-------------------------------------------------------------------------')\n",
    "\n",
    "print('--------------------------------MINIMUM COUNTS---------------------------------')\n",
    "print(f'Min count train: {min(counts_train)}')\n",
    "# print(f'Min count test: {min(counts_test)}')\n",
    "print(f'Min count val: {min(counts_val)}')\n",
    "print('-------------------------------------------------------------------------')"
   ]
  },
  {
   "attachments": {},
   "cell_type": "markdown",
   "metadata": {},
   "source": [
    "## Preparing Data for Training"
   ]
  },
  {
   "cell_type": "code",
   "execution_count": 56,
   "metadata": {},
   "outputs": [
    {
     "data": {
      "text/plain": [
       "array([0, 0, 0, ..., 0, 0, 0], dtype=int16)"
      ]
     },
     "execution_count": 56,
     "metadata": {},
     "output_type": "execute_result"
    }
   ],
   "source": [
    "# Fixed point conversion\n",
    "# FIXED_POINT = 9\n",
    "# x_train /= 2**FIXED_POINT\n",
    "# x_val  /= 2**FIXED_POINT\n"
   ]
  },
  {
   "cell_type": "code",
   "execution_count": 48,
   "metadata": {},
   "outputs": [],
   "source": [
    "# perms = np.random.permutation(len(y_test))[0:250]\n",
    "# x_test_250 = x_test[perms]\n",
    "# y_test_250 = y_test[perms]\n",
    "# np.savetxt('x_test_gsc_250.csv', x_test_250.reshape((x_test_250.shape[0], -1)), delimiter=',', fmt='%s')\n",
    "# np.savetxt('y_test_gsc_250.csv', y_test_250, delimiter=',', fmt='%s')\n",
    "\n"
   ]
  },
  {
   "attachments": {},
   "cell_type": "markdown",
   "metadata": {},
   "source": [
    "## Build model"
   ]
  },
  {
   "cell_type": "code",
   "execution_count": 6,
   "metadata": {},
   "outputs": [
    {
     "name": "stdout",
     "output_type": "stream",
     "text": [
      "Num GPUs Available:  1\n",
      "Name of Devices:  [PhysicalDevice(name='/physical_device:CPU:0', device_type='CPU'), PhysicalDevice(name='/physical_device:GPU:0', device_type='GPU')]\n"
     ]
    }
   ],
   "source": [
    "# Available devices\n",
    "print(\"Num GPUs Available: \", len(tf.config.list_physical_devices('GPU')))\n",
    "print('Name of Devices: ', tf.config.list_physical_devices())"
   ]
  },
  {
   "cell_type": "code",
   "execution_count": 7,
   "metadata": {},
   "outputs": [
    {
     "name": "stdout",
     "output_type": "stream",
     "text": [
      "Metal device set to: "
     ]
    },
    {
     "name": "stderr",
     "output_type": "stream",
     "text": [
      "2023-04-29 19:01:15.030518: I tensorflow/core/common_runtime/pluggable_device/pluggable_device_factory.cc:305] Could not identify NUMA node of platform GPU ID 0, defaulting to 0. Your kernel may not have been built with NUMA support.\n",
      "2023-04-29 19:01:15.033553: I tensorflow/core/common_runtime/pluggable_device/pluggable_device_factory.cc:271] Created TensorFlow device (/job:localhost/replica:0/task:0/device:GPU:0 with 0 MB memory) -> physical PluggableDevice (device: 0, name: METAL, pci bus id: <undefined>)\n"
     ]
    },
    {
     "name": "stdout",
     "output_type": "stream",
     "text": [
      "Apple M1\n",
      "\n",
      "systemMemory: 16.00 GB\n",
      "maxCacheSize: 5.33 GB\n",
      "\n",
      "Model: \"sequential\"\n",
      "_________________________________________________________________\n",
      " Layer (type)                Output Shape              Param #   \n",
      "=================================================================\n",
      " conv1d (Conv1D)             (None, 2666, 8)           48        \n",
      "                                                                 \n",
      " max_pooling1d (MaxPooling1D  (None, 666, 8)           0         \n",
      " )                                                               \n",
      "                                                                 \n",
      " conv1d_1 (Conv1D)           (None, 166, 16)           400       \n",
      "                                                                 \n",
      " max_pooling1d_1 (MaxPooling  (None, 41, 16)           0         \n",
      " 1D)                                                             \n",
      "                                                                 \n",
      " conv1d_2 (Conv1D)           (None, 20, 16)            784       \n",
      "                                                                 \n",
      " max_pooling1d_2 (MaxPooling  (None, 5, 16)            0         \n",
      " 1D)                                                             \n",
      "                                                                 \n",
      " conv1d_3 (Conv1D)           (None, 4, 64)             2112      \n",
      "                                                                 \n",
      " average_pooling1d (AverageP  (None, 4, 64)            0         \n",
      " ooling1D)                                                       \n",
      "                                                                 \n",
      " flatten (Flatten)           (None, 256)               0         \n",
      "                                                                 \n",
      " dense (Dense)               (None, 32)                8224      \n",
      "                                                                 \n",
      " dense_1 (Dense)             (None, 4)                 132       \n",
      "                                                                 \n",
      " activation (Activation)     (None, 4)                 0         \n",
      "                                                                 \n",
      "=================================================================\n",
      "Total params: 11,700\n",
      "Trainable params: 11,700\n",
      "Non-trainable params: 0\n",
      "_________________________________________________________________\n"
     ]
    },
    {
     "name": "stderr",
     "output_type": "stream",
     "text": [
      "/opt/homebrew/Caskroom/miniforge/base/envs/embeddedAI/lib/python3.10/site-packages/keras/optimizers/optimizer_v2/adam.py:110: UserWarning: The `lr` argument is deprecated, use `learning_rate` instead.\n",
      "  super(Adam, self).__init__(name, **kwargs)\n"
     ]
    }
   ],
   "source": [
    "model = Sequential()\n",
    "model.add(Input(shape=(16000, 1)))\n",
    "model.add(Conv1D(filters=8, kernel_size=5, strides=6,activation='relu'))\n",
    "model.add(MaxPool1D(pool_size=4))\n",
    "model.add(Conv1D(filters=16, kernel_size=3, strides=4, activation='relu'))\n",
    "model.add(MaxPool1D(pool_size=4))\n",
    "model.add(Conv1D(filters=16, kernel_size=3, strides=2, activation='relu'))\n",
    "model.add(MaxPool1D(pool_size=4))\n",
    "model.add(Conv1D(filters=64, kernel_size=2, activation='relu'))\n",
    "model.add(AvgPool1D(pool_size=1))\n",
    "model.add(Flatten())\n",
    "model.add(Dense(units=32))\n",
    "model.add(Dense(units=len(CLASSES)))\n",
    "model.add(Activation('softmax'))\n",
    "\n",
    "# EXPLORE Learning Rate\n",
    "earlystopping = EarlyStopping(monitor = \"val_loss\", patience  = 5)\n",
    "opt = tf.keras.optimizers.Adam(lr=10e-4, decay = 10e-6)\n",
    "\n",
    "# EARLY STOPPING\n",
    "callback_path = './models/checkpoints-v2/checkpoints-language-detection-v2.ckpt' # save weights to this directory\n",
    "checkpoint = tf.keras.callbacks.ModelCheckpoint(callback_path,\n",
    "                                                save_weights_only=True,\n",
    "                                                verbose=1,\n",
    "                                                save_best_only=True)\n",
    "\n",
    "model.summary()\n",
    "model.compile(optimizer=opt, loss='categorical_crossentropy', metrics=['categorical_accuracy'])"
   ]
  },
  {
   "cell_type": "code",
   "execution_count": 8,
   "metadata": {},
   "outputs": [
    {
     "name": "stdout",
     "output_type": "stream",
     "text": [
      "Epoch 1/100\n"
     ]
    },
    {
     "name": "stderr",
     "output_type": "stream",
     "text": [
      "2023-04-29 19:01:46.780689: W tensorflow/core/platform/profile_utils/cpu_utils.cc:128] Failed to get CPU frequency: 0 Hz\n",
      "2023-04-29 19:01:47.533941: I tensorflow/core/grappler/optimizers/custom_graph_optimizer_registry.cc:113] Plugin optimizer for device_type GPU is enabled.\n"
     ]
    },
    {
     "name": "stdout",
     "output_type": "stream",
     "text": [
      "920/920 [==============================] - ETA: 0s - loss: 1.1238 - categorical_accuracy: 0.5134"
     ]
    },
    {
     "name": "stderr",
     "output_type": "stream",
     "text": [
      "2023-04-29 19:02:11.948727: I tensorflow/core/grappler/optimizers/custom_graph_optimizer_registry.cc:113] Plugin optimizer for device_type GPU is enabled.\n"
     ]
    },
    {
     "name": "stdout",
     "output_type": "stream",
     "text": [
      "\n",
      "Epoch 1: val_loss improved from inf to 0.92858, saving model to ./models/checkpoints-v2/checkpoints-language-detection-v2.ckpt\n",
      "920/920 [==============================] - 27s 28ms/step - loss: 1.1238 - categorical_accuracy: 0.5134 - val_loss: 0.9286 - val_categorical_accuracy: 0.6153\n",
      "Epoch 2/100\n",
      "919/920 [============================>.] - ETA: 0s - loss: 0.8723 - categorical_accuracy: 0.6427\n",
      "Epoch 2: val_loss improved from 0.92858 to 0.82247, saving model to ./models/checkpoints-v2/checkpoints-language-detection-v2.ckpt\n",
      "920/920 [==============================] - 19s 21ms/step - loss: 0.8723 - categorical_accuracy: 0.6427 - val_loss: 0.8225 - val_categorical_accuracy: 0.6636\n",
      "Epoch 3/100\n",
      "919/920 [============================>.] - ETA: 0s - loss: 0.7746 - categorical_accuracy: 0.6896\n",
      "Epoch 3: val_loss improved from 0.82247 to 0.73685, saving model to ./models/checkpoints-v2/checkpoints-language-detection-v2.ckpt\n",
      "920/920 [==============================] - 19s 21ms/step - loss: 0.7745 - categorical_accuracy: 0.6896 - val_loss: 0.7369 - val_categorical_accuracy: 0.7091\n",
      "Epoch 4/100\n",
      "919/920 [============================>.] - ETA: 0s - loss: 0.7098 - categorical_accuracy: 0.7200\n",
      "Epoch 4: val_loss improved from 0.73685 to 0.71301, saving model to ./models/checkpoints-v2/checkpoints-language-detection-v2.ckpt\n",
      "920/920 [==============================] - 19s 21ms/step - loss: 0.7096 - categorical_accuracy: 0.7201 - val_loss: 0.7130 - val_categorical_accuracy: 0.7157\n",
      "Epoch 5/100\n",
      "920/920 [==============================] - ETA: 0s - loss: 0.6673 - categorical_accuracy: 0.7388\n",
      "Epoch 5: val_loss improved from 0.71301 to 0.66715, saving model to ./models/checkpoints-v2/checkpoints-language-detection-v2.ckpt\n",
      "920/920 [==============================] - 19s 21ms/step - loss: 0.6673 - categorical_accuracy: 0.7388 - val_loss: 0.6672 - val_categorical_accuracy: 0.7361\n",
      "Epoch 6/100\n",
      "919/920 [============================>.] - ETA: 0s - loss: 0.6349 - categorical_accuracy: 0.7534\n",
      "Epoch 6: val_loss improved from 0.66715 to 0.64833, saving model to ./models/checkpoints-v2/checkpoints-language-detection-v2.ckpt\n",
      "920/920 [==============================] - 19s 21ms/step - loss: 0.6349 - categorical_accuracy: 0.7534 - val_loss: 0.6483 - val_categorical_accuracy: 0.7446\n",
      "Epoch 7/100\n",
      "919/920 [============================>.] - ETA: 0s - loss: 0.6133 - categorical_accuracy: 0.7624\n",
      "Epoch 7: val_loss improved from 0.64833 to 0.62151, saving model to ./models/checkpoints-v2/checkpoints-language-detection-v2.ckpt\n",
      "920/920 [==============================] - 19s 21ms/step - loss: 0.6133 - categorical_accuracy: 0.7623 - val_loss: 0.6215 - val_categorical_accuracy: 0.7553\n",
      "Epoch 8/100\n",
      "920/920 [==============================] - ETA: 0s - loss: 0.5917 - categorical_accuracy: 0.7717\n",
      "Epoch 8: val_loss improved from 0.62151 to 0.60686, saving model to ./models/checkpoints-v2/checkpoints-language-detection-v2.ckpt\n",
      "920/920 [==============================] - 19s 21ms/step - loss: 0.5917 - categorical_accuracy: 0.7717 - val_loss: 0.6069 - val_categorical_accuracy: 0.7621\n",
      "Epoch 9/100\n",
      "918/920 [============================>.] - ETA: 0s - loss: 0.5767 - categorical_accuracy: 0.7780\n",
      "Epoch 9: val_loss improved from 0.60686 to 0.57270, saving model to ./models/checkpoints-v2/checkpoints-language-detection-v2.ckpt\n",
      "920/920 [==============================] - 19s 21ms/step - loss: 0.5766 - categorical_accuracy: 0.7780 - val_loss: 0.5727 - val_categorical_accuracy: 0.7770\n",
      "Epoch 10/100\n",
      "918/920 [============================>.] - ETA: 0s - loss: 0.5611 - categorical_accuracy: 0.7849\n",
      "Epoch 10: val_loss did not improve from 0.57270\n",
      "920/920 [==============================] - 19s 21ms/step - loss: 0.5611 - categorical_accuracy: 0.7849 - val_loss: 0.5776 - val_categorical_accuracy: 0.7747\n",
      "Epoch 11/100\n",
      "920/920 [==============================] - ETA: 0s - loss: 0.5484 - categorical_accuracy: 0.7896\n",
      "Epoch 11: val_loss improved from 0.57270 to 0.57063, saving model to ./models/checkpoints-v2/checkpoints-language-detection-v2.ckpt\n",
      "920/920 [==============================] - 19s 21ms/step - loss: 0.5484 - categorical_accuracy: 0.7896 - val_loss: 0.5706 - val_categorical_accuracy: 0.7806\n",
      "Epoch 12/100\n",
      "919/920 [============================>.] - ETA: 0s - loss: 0.5371 - categorical_accuracy: 0.7952\n",
      "Epoch 12: val_loss improved from 0.57063 to 0.56254, saving model to ./models/checkpoints-v2/checkpoints-language-detection-v2.ckpt\n",
      "920/920 [==============================] - 19s 21ms/step - loss: 0.5372 - categorical_accuracy: 0.7952 - val_loss: 0.5625 - val_categorical_accuracy: 0.7857\n",
      "Epoch 13/100\n",
      "920/920 [==============================] - ETA: 0s - loss: 0.5295 - categorical_accuracy: 0.7975\n",
      "Epoch 13: val_loss improved from 0.56254 to 0.55567, saving model to ./models/checkpoints-v2/checkpoints-language-detection-v2.ckpt\n",
      "920/920 [==============================] - 19s 21ms/step - loss: 0.5295 - categorical_accuracy: 0.7975 - val_loss: 0.5557 - val_categorical_accuracy: 0.7900\n",
      "Epoch 14/100\n",
      "917/920 [============================>.] - ETA: 0s - loss: 0.5202 - categorical_accuracy: 0.8025\n",
      "Epoch 14: val_loss improved from 0.55567 to 0.53837, saving model to ./models/checkpoints-v2/checkpoints-language-detection-v2.ckpt\n",
      "920/920 [==============================] - 19s 21ms/step - loss: 0.5204 - categorical_accuracy: 0.8025 - val_loss: 0.5384 - val_categorical_accuracy: 0.7928\n",
      "Epoch 15/100\n",
      "918/920 [============================>.] - ETA: 0s - loss: 0.5118 - categorical_accuracy: 0.8040\n",
      "Epoch 15: val_loss did not improve from 0.53837\n",
      "920/920 [==============================] - 19s 21ms/step - loss: 0.5119 - categorical_accuracy: 0.8040 - val_loss: 0.5494 - val_categorical_accuracy: 0.7877\n",
      "Epoch 16/100\n",
      "919/920 [============================>.] - ETA: 0s - loss: 0.5046 - categorical_accuracy: 0.8065\n",
      "Epoch 16: val_loss improved from 0.53837 to 0.52292, saving model to ./models/checkpoints-v2/checkpoints-language-detection-v2.ckpt\n",
      "920/920 [==============================] - 19s 21ms/step - loss: 0.5047 - categorical_accuracy: 0.8065 - val_loss: 0.5229 - val_categorical_accuracy: 0.7997\n",
      "Epoch 17/100\n",
      "919/920 [============================>.] - ETA: 0s - loss: 0.5000 - categorical_accuracy: 0.8096\n",
      "Epoch 17: val_loss did not improve from 0.52292\n",
      "920/920 [==============================] - 19s 21ms/step - loss: 0.5001 - categorical_accuracy: 0.8096 - val_loss: 0.5504 - val_categorical_accuracy: 0.7891\n",
      "Epoch 18/100\n",
      "920/920 [==============================] - ETA: 0s - loss: 0.4952 - categorical_accuracy: 0.8114\n",
      "Epoch 18: val_loss did not improve from 0.52292\n",
      "920/920 [==============================] - 19s 21ms/step - loss: 0.4952 - categorical_accuracy: 0.8114 - val_loss: 0.5519 - val_categorical_accuracy: 0.7897\n",
      "Epoch 19/100\n",
      "919/920 [============================>.] - ETA: 0s - loss: 0.4859 - categorical_accuracy: 0.8151\n",
      "Epoch 19: val_loss did not improve from 0.52292\n",
      "920/920 [==============================] - 19s 21ms/step - loss: 0.4859 - categorical_accuracy: 0.8151 - val_loss: 0.5304 - val_categorical_accuracy: 0.7987\n",
      "Epoch 20/100\n",
      "920/920 [==============================] - ETA: 0s - loss: 0.4829 - categorical_accuracy: 0.8157\n",
      "Epoch 20: val_loss improved from 0.52292 to 0.51430, saving model to ./models/checkpoints-v2/checkpoints-language-detection-v2.ckpt\n",
      "920/920 [==============================] - 19s 21ms/step - loss: 0.4829 - categorical_accuracy: 0.8157 - val_loss: 0.5143 - val_categorical_accuracy: 0.8050\n",
      "Epoch 21/100\n",
      "920/920 [==============================] - ETA: 0s - loss: 0.4756 - categorical_accuracy: 0.8205\n",
      "Epoch 21: val_loss improved from 0.51430 to 0.51149, saving model to ./models/checkpoints-v2/checkpoints-language-detection-v2.ckpt\n",
      "920/920 [==============================] - 19s 21ms/step - loss: 0.4756 - categorical_accuracy: 0.8205 - val_loss: 0.5115 - val_categorical_accuracy: 0.8063\n",
      "Epoch 22/100\n",
      "919/920 [============================>.] - ETA: 0s - loss: 0.4708 - categorical_accuracy: 0.8216\n",
      "Epoch 22: val_loss did not improve from 0.51149\n",
      "920/920 [==============================] - 19s 21ms/step - loss: 0.4707 - categorical_accuracy: 0.8217 - val_loss: 0.5135 - val_categorical_accuracy: 0.8068\n",
      "Epoch 23/100\n",
      "919/920 [============================>.] - ETA: 0s - loss: 0.4666 - categorical_accuracy: 0.8219\n",
      "Epoch 23: val_loss did not improve from 0.51149\n",
      "920/920 [==============================] - 19s 21ms/step - loss: 0.4665 - categorical_accuracy: 0.8219 - val_loss: 0.5179 - val_categorical_accuracy: 0.8031\n",
      "Epoch 24/100\n",
      "919/920 [============================>.] - ETA: 0s - loss: 0.4637 - categorical_accuracy: 0.8246\n",
      "Epoch 24: val_loss did not improve from 0.51149\n",
      "920/920 [==============================] - 19s 21ms/step - loss: 0.4637 - categorical_accuracy: 0.8246 - val_loss: 0.5147 - val_categorical_accuracy: 0.8061\n",
      "Epoch 25/100\n",
      "919/920 [============================>.] - ETA: 0s - loss: 0.4564 - categorical_accuracy: 0.8278\n",
      "Epoch 25: val_loss did not improve from 0.51149\n",
      "920/920 [==============================] - 19s 21ms/step - loss: 0.4564 - categorical_accuracy: 0.8278 - val_loss: 0.5124 - val_categorical_accuracy: 0.8057\n",
      "Epoch 26/100\n",
      "918/920 [============================>.] - ETA: 0s - loss: 0.4561 - categorical_accuracy: 0.8266\n",
      "Epoch 26: val_loss did not improve from 0.51149\n",
      "920/920 [==============================] - 19s 21ms/step - loss: 0.4562 - categorical_accuracy: 0.8266 - val_loss: 0.5201 - val_categorical_accuracy: 0.8012\n"
     ]
    }
   ],
   "source": [
    "# Training model with GPU\n",
    "with tf.device('/gpu:0'):\n",
    "  history = model.fit(x_train, y_train, epochs=100, batch_size=64, validation_data=(x_val, y_val), callbacks=[earlystopping, checkpoint])"
   ]
  },
  {
   "cell_type": "code",
   "execution_count": 9,
   "metadata": {},
   "outputs": [
    {
     "name": "stdout",
     "output_type": "stream",
     "text": [
      " 30/460 [>.............................] - ETA: 1s"
     ]
    },
    {
     "name": "stderr",
     "output_type": "stream",
     "text": [
      "2023-04-29 19:10:18.946229: I tensorflow/core/grappler/optimizers/custom_graph_optimizer_registry.cc:113] Plugin optimizer for device_type GPU is enabled.\n"
     ]
    },
    {
     "name": "stdout",
     "output_type": "stream",
     "text": [
      "460/460 [==============================] - 2s 4ms/step\n"
     ]
    },
    {
     "data": {
      "image/png": "[encoded data removed]",
      "text/plain": [
       "<Figure size 900x500 with 2 Axes>"
      ]
     },
     "metadata": {},
     "output_type": "display_data"
    }
   ],
   "source": [
    "# Confusion matrix:\n",
    "import seaborn as sn\n",
    "import pandas as pd\n",
    "import matplotlib.pyplot as plt\n",
    "\n",
    "preds = model.predict(x_val)\n",
    "y_classes = preds.argmax(axis=-1)\n",
    "from sklearn.metrics import confusion_matrix\n",
    "cm = confusion_matrix(y_true = y_val.argmax(axis=-1), y_pred = y_classes)\n",
    "\n",
    "df_cm = pd.DataFrame(cm)\n",
    "plt.figure(figsize = (9,5))\n",
    "sn.heatmap(df_cm, annot=True, fmt = '.3g', xticklabels=CLASSES, yticklabels=CLASSES)\n",
    "plt.show()"
   ]
  },
  {
   "cell_type": "code",
   "execution_count": null,
   "metadata": {},
   "outputs": [],
   "source": [
    "plt.plot(range(0, 10), history.history['categorical_accuracy'])\n",
    "plt.show()"
   ]
  },
  {
   "cell_type": "code",
   "execution_count": null,
   "metadata": {},
   "outputs": [
    {
     "name": "stdout",
     "output_type": "stream",
     "text": [
      "1074/1074 - 17s - loss: 1.3960 - categorical_accuracy: 0.1944 - 17s/epoch - 16ms/step\n",
      "   1/1074 [..............................] - ETA: 6:27"
     ]
    },
    {
     "name": "stderr",
     "output_type": "stream",
     "text": [
      "2023-04-29 12:22:51.182853: I tensorflow/core/grappler/optimizers/custom_graph_optimizer_registry.cc:113] Plugin optimizer for device_type GPU is enabled.\n"
     ]
    },
    {
     "name": "stdout",
     "output_type": "stream",
     "text": [
      "1074/1074 [==============================] - 16s 14ms/step\n",
      "tf.Tensor(\n",
      "[[    0     0     0  6055]\n",
      " [    0     0     0 10926]\n",
      " [    0     0     0 10693]\n",
      " [    0     0     0  6680]], shape=(4, 4), dtype=int32)\n"
     ]
    }
   ],
   "source": [
    "with tf.device('/gpu:0'):\n",
    "    model.evaluate(x_test, y_test, verbose=2)\n",
    "    pred_test = model.predict(x_test)\n",
    "    print(tf.math.confusion_matrix(y_test.argmax(axis=1), pred_test.argmax(axis=1)))"
   ]
  },
  {
   "attachments": {},
   "cell_type": "markdown",
   "metadata": {},
   "source": [
    "## Save trained model"
   ]
  },
  {
   "cell_type": "code",
   "execution_count": null,
   "metadata": {},
   "outputs": [],
   "source": [
    "model.save('lab_gsc_no_globalavg.h5')"
   ]
  },
  {
   "cell_type": "code",
   "execution_count": null,
   "metadata": {},
   "outputs": [],
   "source": [
    "# remove softmax\n",
    "model = tf.keras.Model(model.input, model.layers[-2].output, name=model.name)"
   ]
  },
  {
   "cell_type": "code",
   "execution_count": null,
   "metadata": {},
   "outputs": [],
   "source": [
    "res = kerascnn2c.Converter(output_path=Path('gsc_output_fixed'),\n",
    "                           fixed_point=FIXED_POINT, # Number of bits for the fractional part, Q7.9 format\n",
    "                           number_type='int16_t', # Data type for weights/activations (16 bits quantization)\n",
    "                           long_number_type='int32_t', # Data type for intermediate results\n",
    "                           number_min=-(2**15), # Minimum value for 16-bit signed integers\n",
    "                           number_max=(2**15)-1 # Maximum value for 16-bit signed integers\n",
    "                          ).convert_model(copy.deepcopy(model))\n",
    "with open('gsc_model_fixed.h', 'w') as f:\n",
    "    f.write(res)"
   ]
  }
 ],
 "metadata": {
  "kernelspec": {
   "display_name": "OpenSesame",
   "language": "python",
   "name": "python3"
  },
  "language_info": {
   "codemirror_mode": {
    "name": "ipython",
    "version": 3
   },
   "file_extension": ".py",
   "mimetype": "text/x-python",
   "name": "python",
   "nbconvert_exporter": "python",
   "pygments_lexer": "ipython3",
   "version": "3.10.8"
  },
  "orig_nbformat": 4
 },
 "nbformat": 4,
 "nbformat_minor": 2
}
