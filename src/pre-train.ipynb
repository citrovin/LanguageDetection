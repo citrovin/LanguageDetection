{
 "cells": [
  {
   "attachments": {},
   "cell_type": "markdown",
   "metadata": {},
   "source": [
    "# Language Detection on the Edge"
   ]
  },
  {
   "attachments": {},
   "cell_type": "markdown",
   "metadata": {},
   "source": [
    "## Imports"
   ]
  },
  {
   "cell_type": "code",
   "execution_count": 1,
   "metadata": {},
   "outputs": [],
   "source": [
    "# Imports\n",
    "import wave\n",
    "import numpy as np\n",
    "import pickle\n",
    "import matplotlib.pyplot as plt\n",
    "\n",
    "import tensorflow as tf\n",
    "from keras.models import Sequential\n",
    "from keras.layers import Input, Conv1D, AvgPool1D, MaxPool1D, ZeroPadding1D, BatchNormalization, Flatten, Dense, Activation, GlobalAveragePooling1D\n",
    "from keras.utils.data_utils import get_file\n",
    "from keras.utils.np_utils import to_categorical\n",
    "from keras.callbacks import EarlyStopping\n",
    "\n",
    "import kerascnn2c\n",
    "from pathlib import Path\n",
    "import copy\n",
    "\n",
    "from sklearn.preprocessing import MinMaxScaler"
   ]
  },
  {
   "attachments": {},
   "cell_type": "markdown",
   "metadata": {},
   "source": [
    "## Pre-process Data"
   ]
  },
  {
   "attachments": {},
   "cell_type": "markdown",
   "metadata": {},
   "source": [
    "### Helper Functions"
   ]
  },
  {
   "cell_type": "code",
   "execution_count": 2,
   "metadata": {},
   "outputs": [],
   "source": [
    "def create_data(dataset_dir: str, file_names: list):\n",
    "\n",
    "    NUM_CLASSES = len(file_names)\n",
    "    \n",
    "    x_train, x_test, x_val, y_train, y_test, y_val = [], [], [], [], [], []\n",
    "    \n",
    "    for enum, file in enumerate(file_names):\n",
    "        path = dataset_dir + file + '.pkl'\n",
    "        with open(path, 'rb') as data_file:\n",
    "            data = pickle.load(data_file)\n",
    "\n",
    "            data_train = data['data_train']\n",
    "            data_test = data['data_test']\n",
    "            data_val = data['data_val']\n",
    "\n",
    "        sample_rate=16000\n",
    "\n",
    "        x_train_inter = []\n",
    "        for i in data_train:\n",
    "            num_sec = int(i.shape[0]/sample_rate)\n",
    "            array_intermediate = i[:(num_sec*sample_rate)]\n",
    "            x_train_inter.extend(np.split(array_intermediate, num_sec))\n",
    "        \n",
    "        \n",
    "        x_test_inter = []\n",
    "        for i in data_test:\n",
    "            num_sec = int(i.shape[0]/sample_rate)\n",
    "            array_intermediate = i[:(num_sec*sample_rate)]\n",
    "            x_test_inter.extend(np.split(array_intermediate, num_sec))\n",
    "\n",
    "        x_val_inter = []\n",
    "        for i in data_val:\n",
    "            num_sec = int(i.shape[0]/sample_rate)\n",
    "            array_intermediate = i[:(num_sec*sample_rate)]\n",
    "            x_val_inter.extend(np.split(array_intermediate, num_sec))\n",
    "\n",
    "        y_train_inter = [[enum]]*len(x_train_inter)\n",
    "        y_test_inter = [[enum]]*len(x_test_inter)\n",
    "        y_val_inter = [[enum]]*len(x_val_inter)\n",
    "\n",
    "        x_train.extend(x_train_inter)\n",
    "        x_test.extend(x_test_inter)\n",
    "        x_val.extend(x_val_inter)\n",
    "\n",
    "        y_train.extend(y_train_inter)\n",
    "        y_test.extend(y_test_inter)\n",
    "        y_val.extend(y_val_inter)\n",
    "        \n",
    "\n",
    "    x_train = np.array(x_train)\n",
    "    x_test = np.array(x_test)\n",
    "    x_val = np.array(x_val)\n",
    "\n",
    "    y_train = to_categorical(np.array(y_train), num_classes = NUM_CLASSES)\n",
    "    y_test = to_categorical(np.array(y_test), num_classes = NUM_CLASSES)\n",
    "    y_val = to_categorical(np.array(y_val), num_classes = NUM_CLASSES)\n",
    "\n",
    "    return x_train, x_test, x_val, y_train, y_test, y_val\n",
    "\n",
    "\n",
    "def load_train(dir_path: str):\n",
    "    with open(dir_path, 'rb') as f:\n",
    "        return pickle.load(f)\n",
    "    \n",
    "def load_data(dir_path: str):\n",
    "    with open(dir_path, 'rb') as f:\n",
    "        data = pickle.load(f)\n",
    "    f.close()\n",
    "    return data\n",
    "\n",
    "def fixed_point_conversion(x: np.array, fixed_point: int):\n",
    "  x /= 2**fixed_point\n",
    "  return x\n"
   ]
  },
  {
   "cell_type": "code",
   "execution_count": 3,
   "metadata": {},
   "outputs": [],
   "source": [
    "# path_x_train = \"../data/pre-train/x_train.pkl\"\n",
    "# path_y_train = \"../data/pre-train/y_train.pkl\"\n",
    "\n",
    "# batch_size = 128\n",
    "\n",
    "# dataset_x = tf.data.Dataset.from_tensor_slices(load_train(path_x_train)) # create dataset x train\n",
    "# dataset_y = tf.data.Dataset.from_tensor_slices(load_train(path_y_train)) # create dataset y train\n",
    "# dataset_train = tf.data.Dataset.zip((dataset_x, dataset_y)) # combine y and x train datasets\n",
    "# dataset_train = dataset_train.shuffle(buffer_size = len(dataset_x))\n",
    "# dataset_train = dataset_train.batch(batch_size).prefetch(tf.data.AUTOTUNE) # create batches and preload the data while training\n",
    "\n",
    "# for a,b in dataset_train:\n",
    "#   print(a)\n",
    "#   print(b)\n",
    "#   break"
   ]
  },
  {
   "attachments": {},
   "cell_type": "markdown",
   "metadata": {},
   "source": [
    "### Loading Data"
   ]
  },
  {
   "cell_type": "code",
   "execution_count": 4,
   "metadata": {},
   "outputs": [],
   "source": [
    "# dataset_dir = '../data/pre-train/raw'\n",
    "dataset_dir = '../data/pre-train/'\n",
    "# CLASSES = ['fleurs.en_us', 'fleurs.de_de', 'fleurs.es_419', 'fleurs.fr_fr', 'fleurs.it_it']\n",
    "# CLASSES = ['fleurs.en_us', 'fleurs.de_de', 'fleurs.fr_fr', 'fleurs.it_it']\n",
    "CLASSES = ['fleurs.en_us', 'fleurs.de_de', 'fleurs.es_419', 'fleurs.fr_fr']\n",
    "\n",
    "x = load_data(dataset_dir+'x_train.pkl')\n",
    "y = load_data(dataset_dir+'y_train.pkl')\n",
    "\n",
    "permutation = np.random.permutation(len(x))\n",
    "x = x[permutation]\n",
    "y = y[permutation]\n",
    "\n",
    "x.shape\n",
    "\n",
    "x = x[:int(0.6*len(x)),:]\n",
    "y = y[:int(0.6*len(y)),:]\n",
    "\n",
    "\n",
    "\n",
    "scaler = MinMaxScaler(feature_range=(-64, 64))\n",
    "x = np.array([scaler.fit_transform(np.array(i).reshape((16000,1))) for i in x])\n",
    "\n",
    "\n",
    "\n",
    "# x_test = load_data(dataset_dir+'x_test.pkl')\n",
    "# x_val = load_data(dataset_dir+'x_val.pkl')\n",
    "# y_test = load_data(dataset_dir+'y_test.pkl')\n",
    "# y_val = load_data(dataset_dir+'y_val.pkl')\n",
    "\n",
    "# print('----------------------------------------------------------------------')\n",
    "# print(f'Number of samples in train: {len(x_train)}')\n",
    "# print(f'Number of samples in test: {len(x_test)}')\n",
    "# print(f'Number of samplesin validation: {len(x_val)}')\n",
    "# print('----------------------------------------------------------------------')\n",
    "# print('----------------------------------------------------------------------')\n",
    "# print(f'x_train shape: {x_train.shape} | y_train shape: {y_train.shape}')\n",
    "# print(f'x_test shape: {x_test.shape} | y_test shape: {y_test.shape}')\n",
    "# print(f'x_val shape: {x_val.shape} | y_val shape: {y_val.shape}')\n",
    "# print('----------------------------------------------------------------------')"
   ]
  },
  {
   "cell_type": "code",
   "execution_count": 5,
   "metadata": {},
   "outputs": [
    {
     "name": "stdout",
     "output_type": "stream",
     "text": [
      "X train: (39229, 16000, 1)\n",
      "X val: (9808, 16000, 1)\n",
      "y train: (39229, 4)\n",
      "y val: (9808, 4)\n"
     ]
    }
   ],
   "source": [
    "# splitting into training and validation data\n",
    "train_split = int(0.8*len(x))\n",
    "\n",
    "x_train, x_val = x[:train_split,:], x[train_split:,:]\n",
    "y_train, y_val = y[:train_split,:], y[train_split:,:]\n",
    "\n",
    "print(f'X train: {x_train.shape}')\n",
    "print(f'X val: {x_val.shape}')\n",
    "print(f'y train: {y_train.shape}')\n",
    "print(f'y val: {y_val.shape}')"
   ]
  },
  {
   "cell_type": "code",
   "execution_count": 6,
   "metadata": {},
   "outputs": [],
   "source": [
    "# with open(f'../data/pre-train/x_train.pkl', 'wb') as f:\n",
    "#     pickle.dump(x_train, f)\n",
    "# f.close()\n",
    "\n",
    "# with open(f'../data/pre-train/x_test.pkl', 'wb') as f:\n",
    "#     pickle.dump(x_test, f)\n",
    "# f.close()\n",
    "\n",
    "# with open(f'../data/pre-train/x_val.pkl', 'wb') as f:\n",
    "#     pickle.dump(x_val, f)\n",
    "# f.close()\n",
    "\n",
    "# with open(f'../data/pre-train/y_train.pkl', 'wb') as f:\n",
    "#     pickle.dump(y_train, f)\n",
    "# f.close()\n",
    "\n",
    "# with open(f'../data/pre-train/y_test.pkl', 'wb') as f:\n",
    "#     pickle.dump(y_test, f)\n",
    "# f.close()\n",
    "\n",
    "# with open(f'../data/pre-train/y_val.pkl', 'wb') as f:\n",
    "#     pickle.dump(y_val, f)\n",
    "# f.close()"
   ]
  },
  {
   "attachments": {},
   "cell_type": "markdown",
   "metadata": {},
   "source": [
    "## Analysis of Training Data"
   ]
  },
  {
   "cell_type": "code",
   "execution_count": 10,
   "metadata": {},
   "outputs": [
    {
     "ename": "KeyboardInterrupt",
     "evalue": "",
     "output_type": "error",
     "traceback": [
      "\u001b[0;31m---------------------------------------------------------------------------\u001b[0m",
      "\u001b[0;31mKeyboardInterrupt\u001b[0m                         Traceback (most recent call last)",
      "Cell \u001b[0;32mIn[10], line 1\u001b[0m\n\u001b[0;32m----> 1\u001b[0m labels_train \u001b[39m=\u001b[39m [np\u001b[39m.\u001b[39margmax(i) \u001b[39mfor\u001b[39;00m i \u001b[39min\u001b[39;00m y_train]\n\u001b[1;32m      2\u001b[0m \u001b[39m# labels_test = [np.argmax(i) for i in y_test]\u001b[39;00m\n\u001b[1;32m      3\u001b[0m labels_val \u001b[39m=\u001b[39m [np\u001b[39m.\u001b[39margmax(i) \u001b[39mfor\u001b[39;00m i \u001b[39min\u001b[39;00m y_val]\n",
      "Cell \u001b[0;32mIn[10], line 1\u001b[0m, in \u001b[0;36m<listcomp>\u001b[0;34m(.0)\u001b[0m\n\u001b[0;32m----> 1\u001b[0m labels_train \u001b[39m=\u001b[39m [np\u001b[39m.\u001b[39;49margmax(i) \u001b[39mfor\u001b[39;00m i \u001b[39min\u001b[39;00m y_train]\n\u001b[1;32m      2\u001b[0m \u001b[39m# labels_test = [np.argmax(i) for i in y_test]\u001b[39;00m\n\u001b[1;32m      3\u001b[0m labels_val \u001b[39m=\u001b[39m [np\u001b[39m.\u001b[39margmax(i) \u001b[39mfor\u001b[39;00m i \u001b[39min\u001b[39;00m y_val]\n",
      "File \u001b[0;32m<__array_function__ internals>:180\u001b[0m, in \u001b[0;36margmax\u001b[0;34m(*args, **kwargs)\u001b[0m\n",
      "File \u001b[0;32m/opt/homebrew/Caskroom/miniforge/base/envs/embeddedAI/lib/python3.10/site-packages/numpy/core/fromnumeric.py:1216\u001b[0m, in \u001b[0;36margmax\u001b[0;34m(a, axis, out, keepdims)\u001b[0m\n\u001b[1;32m   1129\u001b[0m \u001b[39m\"\"\"\u001b[39;00m\n\u001b[1;32m   1130\u001b[0m \u001b[39mReturns the indices of the maximum values along an axis.\u001b[39;00m\n\u001b[1;32m   1131\u001b[0m \n\u001b[0;32m   (...)\u001b[0m\n\u001b[1;32m   1213\u001b[0m \u001b[39m(2, 1, 4)\u001b[39;00m\n\u001b[1;32m   1214\u001b[0m \u001b[39m\"\"\"\u001b[39;00m\n\u001b[1;32m   1215\u001b[0m kwds \u001b[39m=\u001b[39m {\u001b[39m'\u001b[39m\u001b[39mkeepdims\u001b[39m\u001b[39m'\u001b[39m: keepdims} \u001b[39mif\u001b[39;00m keepdims \u001b[39mis\u001b[39;00m \u001b[39mnot\u001b[39;00m np\u001b[39m.\u001b[39m_NoValue \u001b[39melse\u001b[39;00m {}\n\u001b[0;32m-> 1216\u001b[0m \u001b[39mreturn\u001b[39;00m _wrapfunc(a, \u001b[39m'\u001b[39;49m\u001b[39margmax\u001b[39;49m\u001b[39m'\u001b[39;49m, axis\u001b[39m=\u001b[39;49maxis, out\u001b[39m=\u001b[39;49mout, \u001b[39m*\u001b[39;49m\u001b[39m*\u001b[39;49mkwds)\n",
      "File \u001b[0;32m/opt/homebrew/Caskroom/miniforge/base/envs/embeddedAI/lib/python3.10/site-packages/numpy/core/fromnumeric.py:57\u001b[0m, in \u001b[0;36m_wrapfunc\u001b[0;34m(obj, method, *args, **kwds)\u001b[0m\n\u001b[1;32m     54\u001b[0m     \u001b[39mreturn\u001b[39;00m _wrapit(obj, method, \u001b[39m*\u001b[39margs, \u001b[39m*\u001b[39m\u001b[39m*\u001b[39mkwds)\n\u001b[1;32m     56\u001b[0m \u001b[39mtry\u001b[39;00m:\n\u001b[0;32m---> 57\u001b[0m     \u001b[39mreturn\u001b[39;00m bound(\u001b[39m*\u001b[39;49margs, \u001b[39m*\u001b[39;49m\u001b[39m*\u001b[39;49mkwds)\n\u001b[1;32m     58\u001b[0m \u001b[39mexcept\u001b[39;00m \u001b[39mTypeError\u001b[39;00m:\n\u001b[1;32m     59\u001b[0m     \u001b[39m# A TypeError occurs if the object does have such a method in its\u001b[39;00m\n\u001b[1;32m     60\u001b[0m     \u001b[39m# class, but its signature is not identical to that of NumPy's. This\u001b[39;00m\n\u001b[0;32m   (...)\u001b[0m\n\u001b[1;32m     64\u001b[0m     \u001b[39m# Call _wrapit from within the except clause to ensure a potential\u001b[39;00m\n\u001b[1;32m     65\u001b[0m     \u001b[39m# exception has a traceback chain.\u001b[39;00m\n\u001b[1;32m     66\u001b[0m     \u001b[39mreturn\u001b[39;00m _wrapit(obj, method, \u001b[39m*\u001b[39margs, \u001b[39m*\u001b[39m\u001b[39m*\u001b[39mkwds)\n",
      "\u001b[0;31mKeyboardInterrupt\u001b[0m: "
     ]
    }
   ],
   "source": [
    "\n",
    "labels_train = [np.argmax(i) for i in y_train]\n",
    "# labels_test = [np.argmax(i) for i in y_test]\n",
    "labels_val = [np.argmax(i) for i in y_val]\n",
    "\n",
    "unique_train, counts_train = np.unique(labels_train, return_counts=True)\n",
    "# unique_test, counts_test = np.unique(labels_test, return_counts=True)\n",
    "unique_val, counts_val = np.unique(labels_val, return_counts=True)\n",
    "\n",
    "del labels_train\n",
    "# del labels_test\n",
    "del labels_val\n",
    "\n",
    "# CLASSES = ['fleurs.en_us', 'fleurs.de_de', 'fleurs.es_419', 'fleurs.fr_fr', 'fleurs.it_it']\n",
    "# LABELS = ['EN', 'DE', 'ES', 'FR', 'IT']\n",
    "LABELS = ['EN', 'DE', 'ES', 'FR', 'IT']\n",
    "\n",
    "\n",
    "\n",
    "\n",
    "fig, axes = plt.subplots(1,3, figsize=(9, 3.5), sharey=True, edgecolor='black')\n",
    "axes[0].bar(LABELS, counts_train, color='#01386a')\n",
    "axes[0].set_title('Training Data')\n",
    "\n",
    "axes[1].bar(LABELS, counts_val, color='#01386a')\n",
    "axes[1].set_title('Validation Data')\n",
    "\n",
    "# axes[2].bar(LABELS, counts_test, color='#01386a')\n",
    "# axes[2].set_title('Testing Data')\n",
    "\n",
    "fig.suptitle('Distribution of Pre-Training Data')\n",
    "\n",
    "\n",
    "for enum, i in enumerate(counts_train):\n",
    "    print(f'--------------------------------COUNT {LABELS[enum]}---------------------------------')\n",
    "    print(f'Train\\t {LABELS[enum]}: {i}')\n",
    "    # print(f'Test\\t {LABELS[enum]}: {counts_test[enum]}')\n",
    "    print(f'Val\\t {LABELS[enum]}: {counts_val[enum]}')\n",
    "print('-------------------------------------------------------------------------')\n",
    "\n",
    "print('--------------------------------MINIMUM COUNTS---------------------------------')\n",
    "print(f'Min count train: {min(counts_train)}')\n",
    "# print(f'Min count test: {min(counts_test)}')\n",
    "print(f'Min count val: {min(counts_val)}')\n",
    "print('-------------------------------------------------------------------------')"
   ]
  },
  {
   "attachments": {},
   "cell_type": "markdown",
   "metadata": {},
   "source": [
    "## Preparing Data for Training"
   ]
  },
  {
   "cell_type": "code",
   "execution_count": 56,
   "metadata": {},
   "outputs": [
    {
     "data": {
      "text/plain": [
       "array([0, 0, 0, ..., 0, 0, 0], dtype=int16)"
      ]
     },
     "execution_count": 56,
     "metadata": {},
     "output_type": "execute_result"
    }
   ],
   "source": [
    "# Fixed point conversion\n",
    "# FIXED_POINT = 9\n",
    "# x_train /= 2**FIXED_POINT\n",
    "# x_val  /= 2**FIXED_POINT\n"
   ]
  },
  {
   "cell_type": "code",
   "execution_count": 48,
   "metadata": {},
   "outputs": [],
   "source": [
    "# perms = np.random.permutation(len(y_test))[0:250]\n",
    "# x_test_250 = x_test[perms]\n",
    "# y_test_250 = y_test[perms]\n",
    "# np.savetxt('x_test_gsc_250.csv', x_test_250.reshape((x_test_250.shape[0], -1)), delimiter=',', fmt='%s')\n",
    "# np.savetxt('y_test_gsc_250.csv', y_test_250, delimiter=',', fmt='%s')\n",
    "\n"
   ]
  },
  {
   "attachments": {},
   "cell_type": "markdown",
   "metadata": {},
   "source": [
    "## Build model"
   ]
  },
  {
   "cell_type": "code",
   "execution_count": 7,
   "metadata": {},
   "outputs": [
    {
     "name": "stdout",
     "output_type": "stream",
     "text": [
      "Num GPUs Available:  1\n",
      "Name of Devices:  [PhysicalDevice(name='/physical_device:CPU:0', device_type='CPU'), PhysicalDevice(name='/physical_device:GPU:0', device_type='GPU')]\n"
     ]
    }
   ],
   "source": [
    "# Available devices\n",
    "print(\"Num GPUs Available: \", len(tf.config.list_physical_devices('GPU')))\n",
    "print('Name of Devices: ', tf.config.list_physical_devices())"
   ]
  },
  {
   "cell_type": "code",
   "execution_count": 8,
   "metadata": {},
   "outputs": [
    {
     "name": "stdout",
     "output_type": "stream",
     "text": [
      "Metal device set to: "
     ]
    },
    {
     "name": "stderr",
     "output_type": "stream",
     "text": [
      "2023-04-29 18:46:58.903724: I tensorflow/core/common_runtime/pluggable_device/pluggable_device_factory.cc:305] Could not identify NUMA node of platform GPU ID 0, defaulting to 0. Your kernel may not have been built with NUMA support.\n",
      "2023-04-29 18:46:58.904256: I tensorflow/core/common_runtime/pluggable_device/pluggable_device_factory.cc:271] Created TensorFlow device (/job:localhost/replica:0/task:0/device:GPU:0 with 0 MB memory) -> physical PluggableDevice (device: 0, name: METAL, pci bus id: <undefined>)\n"
     ]
    },
    {
     "name": "stdout",
     "output_type": "stream",
     "text": [
      "Apple M1\n",
      "\n",
      "systemMemory: 16.00 GB\n",
      "maxCacheSize: 5.33 GB\n",
      "\n",
      "Model: \"sequential\"\n",
      "_________________________________________________________________\n",
      " Layer (type)                Output Shape              Param #   \n",
      "=================================================================\n",
      " conv1d (Conv1D)             (None, 2666, 8)           48        \n",
      "                                                                 \n",
      " max_pooling1d (MaxPooling1D  (None, 666, 8)           0         \n",
      " )                                                               \n",
      "                                                                 \n",
      " conv1d_1 (Conv1D)           (None, 166, 16)           400       \n",
      "                                                                 \n",
      " max_pooling1d_1 (MaxPooling  (None, 41, 16)           0         \n",
      " 1D)                                                             \n",
      "                                                                 \n",
      " conv1d_2 (Conv1D)           (None, 20, 16)            784       \n",
      "                                                                 \n",
      " max_pooling1d_2 (MaxPooling  (None, 5, 16)            0         \n",
      " 1D)                                                             \n",
      "                                                                 \n",
      " conv1d_3 (Conv1D)           (None, 4, 64)             2112      \n",
      "                                                                 \n",
      " average_pooling1d (AverageP  (None, 4, 64)            0         \n",
      " ooling1D)                                                       \n",
      "                                                                 \n",
      " flatten (Flatten)           (None, 256)               0         \n",
      "                                                                 \n",
      " dense (Dense)               (None, 32)                8224      \n",
      "                                                                 \n",
      " dense_1 (Dense)             (None, 4)                 132       \n",
      "                                                                 \n",
      " activation (Activation)     (None, 4)                 0         \n",
      "                                                                 \n",
      "=================================================================\n",
      "Total params: 11,700\n",
      "Trainable params: 11,700\n",
      "Non-trainable params: 0\n",
      "_________________________________________________________________\n"
     ]
    },
    {
     "name": "stderr",
     "output_type": "stream",
     "text": [
      "/opt/homebrew/Caskroom/miniforge/base/envs/embeddedAI/lib/python3.10/site-packages/keras/optimizers/optimizer_v2/adam.py:110: UserWarning: The `lr` argument is deprecated, use `learning_rate` instead.\n",
      "  super(Adam, self).__init__(name, **kwargs)\n"
     ]
    }
   ],
   "source": [
    "model = Sequential()\n",
    "model.add(Input(shape=(16000, 1)))\n",
    "model.add(Conv1D(filters=8, kernel_size=5, strides=6,activation='relu'))\n",
    "model.add(MaxPool1D(pool_size=4))\n",
    "model.add(Conv1D(filters=16, kernel_size=3, strides=4, activation='relu'))\n",
    "model.add(MaxPool1D(pool_size=4))\n",
    "model.add(Conv1D(filters=16, kernel_size=3, strides=2, activation='relu'))\n",
    "model.add(MaxPool1D(pool_size=4))\n",
    "model.add(Conv1D(filters=64, kernel_size=2, activation='relu'))\n",
    "model.add(AvgPool1D(pool_size=1))\n",
    "model.add(Flatten())\n",
    "model.add(Dense(units=32))\n",
    "model.add(Dense(units=len(CLASSES)))\n",
    "model.add(Activation('softmax'))\n",
    "\n",
    "# EXPLORE Learning Rate\n",
    "earlystopping = EarlyStopping(monitor = \"val_loss\", patience  = 5)\n",
    "opt = tf.keras.optimizers.Adam(lr=10e-4, decay = 10e-6)\n",
    "\n",
    "# EARLY STOPPING\n",
    "callback_path = './models/checkpoints-v2/checkpoints-language-detection-v2.ckpt' # save weights to this directory\n",
    "checkpoint = tf.keras.callbacks.ModelCheckpoint(callback_path,\n",
    "                                                save_weights_only=True,\n",
    "                                                verbose=1,\n",
    "                                                save_best_only=True)\n",
    "\n",
    "model.summary()\n",
    "model.compile(optimizer=opt, loss='categorical_crossentropy', metrics=['categorical_accuracy'])"
   ]
  },
  {
   "cell_type": "code",
   "execution_count": 9,
   "metadata": {},
   "outputs": [
    {
     "name": "stdout",
     "output_type": "stream",
     "text": [
      "Epoch 1/100\n"
     ]
    },
    {
     "name": "stderr",
     "output_type": "stream",
     "text": [
      "2023-04-29 18:47:06.712895: W tensorflow/core/platform/profile_utils/cpu_utils.cc:128] Failed to get CPU frequency: 0 Hz\n",
      "2023-04-29 18:47:07.366171: I tensorflow/core/grappler/optimizers/custom_graph_optimizer_registry.cc:113] Plugin optimizer for device_type GPU is enabled.\n"
     ]
    },
    {
     "name": "stdout",
     "output_type": "stream",
     "text": [
      "613/613 [==============================] - ETA: 0s - loss: 1.1941 - categorical_accuracy: 0.4644"
     ]
    },
    {
     "name": "stderr",
     "output_type": "stream",
     "text": [
      "2023-04-29 18:47:23.513366: I tensorflow/core/grappler/optimizers/custom_graph_optimizer_registry.cc:113] Plugin optimizer for device_type GPU is enabled.\n"
     ]
    },
    {
     "name": "stdout",
     "output_type": "stream",
     "text": [
      "\n",
      "Epoch 1: val_loss improved from inf to 1.04756, saving model to ./models/checkpoints-v2/checkpoints-language-detection-v2.ckpt\n",
      "613/613 [==============================] - 18s 28ms/step - loss: 1.1941 - categorical_accuracy: 0.4644 - val_loss: 1.0476 - val_categorical_accuracy: 0.5466\n",
      "Epoch 2/100\n",
      "611/613 [============================>.] - ETA: 0s - loss: 0.9767 - categorical_accuracy: 0.5906\n",
      "Epoch 2: val_loss improved from 1.04756 to 0.93222, saving model to ./models/checkpoints-v2/checkpoints-language-detection-v2.ckpt\n",
      "613/613 [==============================] - 13s 22ms/step - loss: 0.9769 - categorical_accuracy: 0.5905 - val_loss: 0.9322 - val_categorical_accuracy: 0.6158\n",
      "Epoch 3/100\n",
      "613/613 [==============================] - ETA: 0s - loss: 0.8878 - categorical_accuracy: 0.6343\n",
      "Epoch 3: val_loss improved from 0.93222 to 0.88820, saving model to ./models/checkpoints-v2/checkpoints-language-detection-v2.ckpt\n",
      "613/613 [==============================] - 13s 21ms/step - loss: 0.8878 - categorical_accuracy: 0.6343 - val_loss: 0.8882 - val_categorical_accuracy: 0.6364\n",
      "Epoch 4/100\n",
      "613/613 [==============================] - ETA: 0s - loss: 0.8304 - categorical_accuracy: 0.6636\n",
      "Epoch 4: val_loss improved from 0.88820 to 0.80666, saving model to ./models/checkpoints-v2/checkpoints-language-detection-v2.ckpt\n",
      "613/613 [==============================] - 13s 21ms/step - loss: 0.8304 - categorical_accuracy: 0.6636 - val_loss: 0.8067 - val_categorical_accuracy: 0.6725\n",
      "Epoch 5/100\n",
      "611/613 [============================>.] - ETA: 0s - loss: 0.7868 - categorical_accuracy: 0.6854\n",
      "Epoch 5: val_loss improved from 0.80666 to 0.76892, saving model to ./models/checkpoints-v2/checkpoints-language-detection-v2.ckpt\n",
      "613/613 [==============================] - 13s 22ms/step - loss: 0.7868 - categorical_accuracy: 0.6855 - val_loss: 0.7689 - val_categorical_accuracy: 0.6906\n",
      "Epoch 6/100\n",
      "612/613 [============================>.] - ETA: 0s - loss: 0.7525 - categorical_accuracy: 0.7017\n",
      "Epoch 6: val_loss did not improve from 0.76892\n",
      "613/613 [==============================] - 14s 23ms/step - loss: 0.7522 - categorical_accuracy: 0.7020 - val_loss: 0.7703 - val_categorical_accuracy: 0.6911\n",
      "Epoch 7/100\n",
      "611/613 [============================>.] - ETA: 0s - loss: 0.7229 - categorical_accuracy: 0.7157\n",
      "Epoch 7: val_loss improved from 0.76892 to 0.75463, saving model to ./models/checkpoints-v2/checkpoints-language-detection-v2.ckpt\n",
      "613/613 [==============================] - 13s 21ms/step - loss: 0.7229 - categorical_accuracy: 0.7157 - val_loss: 0.7546 - val_categorical_accuracy: 0.6947\n",
      "Epoch 8/100\n",
      "612/613 [============================>.] - ETA: 0s - loss: 0.6977 - categorical_accuracy: 0.7244\n",
      "Epoch 8: val_loss improved from 0.75463 to 0.71937, saving model to ./models/checkpoints-v2/checkpoints-language-detection-v2.ckpt\n",
      "613/613 [==============================] - 13s 21ms/step - loss: 0.6980 - categorical_accuracy: 0.7244 - val_loss: 0.7194 - val_categorical_accuracy: 0.7175\n",
      "Epoch 9/100\n",
      "611/613 [============================>.] - ETA: 0s - loss: 0.6798 - categorical_accuracy: 0.7346\n",
      "Epoch 9: val_loss did not improve from 0.71937\n",
      "613/613 [==============================] - 13s 21ms/step - loss: 0.6798 - categorical_accuracy: 0.7346 - val_loss: 0.7252 - val_categorical_accuracy: 0.7136\n",
      "Epoch 10/100\n",
      "612/613 [============================>.] - ETA: 0s - loss: 0.6637 - categorical_accuracy: 0.7386\n",
      "Epoch 10: val_loss improved from 0.71937 to 0.68860, saving model to ./models/checkpoints-v2/checkpoints-language-detection-v2.ckpt\n",
      "613/613 [==============================] - 13s 21ms/step - loss: 0.6637 - categorical_accuracy: 0.7385 - val_loss: 0.6886 - val_categorical_accuracy: 0.7269\n",
      "Epoch 11/100\n",
      "612/613 [============================>.] - ETA: 0s - loss: 0.6420 - categorical_accuracy: 0.7487\n",
      "Epoch 11: val_loss improved from 0.68860 to 0.66457, saving model to ./models/checkpoints-v2/checkpoints-language-detection-v2.ckpt\n",
      "613/613 [==============================] - 13s 21ms/step - loss: 0.6420 - categorical_accuracy: 0.7487 - val_loss: 0.6646 - val_categorical_accuracy: 0.7394\n",
      "Epoch 12/100\n",
      "613/613 [==============================] - ETA: 0s - loss: 0.6295 - categorical_accuracy: 0.7520\n",
      "Epoch 12: val_loss improved from 0.66457 to 0.66110, saving model to ./models/checkpoints-v2/checkpoints-language-detection-v2.ckpt\n",
      "613/613 [==============================] - 13s 21ms/step - loss: 0.6295 - categorical_accuracy: 0.7520 - val_loss: 0.6611 - val_categorical_accuracy: 0.7421\n",
      "Epoch 13/100\n",
      "613/613 [==============================] - ETA: 0s - loss: 0.6152 - categorical_accuracy: 0.7599\n",
      "Epoch 13: val_loss improved from 0.66110 to 0.65155, saving model to ./models/checkpoints-v2/checkpoints-language-detection-v2.ckpt\n",
      "613/613 [==============================] - 13s 21ms/step - loss: 0.6152 - categorical_accuracy: 0.7599 - val_loss: 0.6515 - val_categorical_accuracy: 0.7481\n",
      "Epoch 14/100\n",
      "613/613 [==============================] - ETA: 0s - loss: 0.6049 - categorical_accuracy: 0.7637\n",
      "Epoch 14: val_loss improved from 0.65155 to 0.63379, saving model to ./models/checkpoints-v2/checkpoints-language-detection-v2.ckpt\n",
      "613/613 [==============================] - 13s 21ms/step - loss: 0.6049 - categorical_accuracy: 0.7637 - val_loss: 0.6338 - val_categorical_accuracy: 0.7544\n",
      "Epoch 15/100\n",
      "612/613 [============================>.] - ETA: 0s - loss: 0.5953 - categorical_accuracy: 0.7675\n",
      "Epoch 15: val_loss did not improve from 0.63379\n",
      "613/613 [==============================] - 13s 21ms/step - loss: 0.5954 - categorical_accuracy: 0.7674 - val_loss: 0.6558 - val_categorical_accuracy: 0.7487\n",
      "Epoch 16/100\n",
      "611/613 [============================>.] - ETA: 0s - loss: 0.5843 - categorical_accuracy: 0.7743\n",
      "Epoch 16: val_loss did not improve from 0.63379\n",
      "613/613 [==============================] - 13s 21ms/step - loss: 0.5844 - categorical_accuracy: 0.7743 - val_loss: 0.6394 - val_categorical_accuracy: 0.7508\n",
      "Epoch 17/100\n",
      "613/613 [==============================] - ETA: 0s - loss: 0.5760 - categorical_accuracy: 0.7766\n",
      "Epoch 17: val_loss improved from 0.63379 to 0.63043, saving model to ./models/checkpoints-v2/checkpoints-language-detection-v2.ckpt\n",
      "613/613 [==============================] - 13s 21ms/step - loss: 0.5760 - categorical_accuracy: 0.7766 - val_loss: 0.6304 - val_categorical_accuracy: 0.7586\n",
      "Epoch 18/100\n",
      "613/613 [==============================] - ETA: 0s - loss: 0.5701 - categorical_accuracy: 0.7801\n",
      "Epoch 18: val_loss improved from 0.63043 to 0.61487, saving model to ./models/checkpoints-v2/checkpoints-language-detection-v2.ckpt\n",
      "613/613 [==============================] - 13s 21ms/step - loss: 0.5701 - categorical_accuracy: 0.7801 - val_loss: 0.6149 - val_categorical_accuracy: 0.7604\n",
      "Epoch 19/100\n",
      "610/613 [============================>.] - ETA: 0s - loss: 0.5628 - categorical_accuracy: 0.7837\n",
      "Epoch 19: val_loss improved from 0.61487 to 0.60492, saving model to ./models/checkpoints-v2/checkpoints-language-detection-v2.ckpt\n",
      "613/613 [==============================] - 13s 21ms/step - loss: 0.5627 - categorical_accuracy: 0.7837 - val_loss: 0.6049 - val_categorical_accuracy: 0.7688\n",
      "Epoch 20/100\n",
      "611/613 [============================>.] - ETA: 0s - loss: 0.5580 - categorical_accuracy: 0.7855\n",
      "Epoch 20: val_loss did not improve from 0.60492\n",
      "613/613 [==============================] - 13s 21ms/step - loss: 0.5577 - categorical_accuracy: 0.7856 - val_loss: 0.6172 - val_categorical_accuracy: 0.7623\n",
      "Epoch 21/100\n",
      "612/613 [============================>.] - ETA: 0s - loss: 0.5500 - categorical_accuracy: 0.7890\n",
      "Epoch 21: val_loss did not improve from 0.60492\n",
      "613/613 [==============================] - 13s 21ms/step - loss: 0.5500 - categorical_accuracy: 0.7890 - val_loss: 0.6074 - val_categorical_accuracy: 0.7639\n",
      "Epoch 22/100\n",
      "613/613 [==============================] - ETA: 0s - loss: 0.5403 - categorical_accuracy: 0.7910\n",
      "Epoch 22: val_loss improved from 0.60492 to 0.60222, saving model to ./models/checkpoints-v2/checkpoints-language-detection-v2.ckpt\n",
      "613/613 [==============================] - 13s 21ms/step - loss: 0.5403 - categorical_accuracy: 0.7910 - val_loss: 0.6022 - val_categorical_accuracy: 0.7686\n",
      "Epoch 23/100\n",
      "612/613 [============================>.] - ETA: 0s - loss: 0.5344 - categorical_accuracy: 0.7948\n",
      "Epoch 23: val_loss did not improve from 0.60222\n",
      "613/613 [==============================] - 13s 21ms/step - loss: 0.5343 - categorical_accuracy: 0.7949 - val_loss: 0.6081 - val_categorical_accuracy: 0.7676\n",
      "Epoch 24/100\n",
      "612/613 [============================>.] - ETA: 0s - loss: 0.5323 - categorical_accuracy: 0.7938\n",
      "Epoch 24: val_loss did not improve from 0.60222\n",
      "613/613 [==============================] - 13s 21ms/step - loss: 0.5323 - categorical_accuracy: 0.7937 - val_loss: 0.6073 - val_categorical_accuracy: 0.7674\n",
      "Epoch 25/100\n",
      "613/613 [==============================] - ETA: 0s - loss: 0.5274 - categorical_accuracy: 0.7983\n",
      "Epoch 25: val_loss improved from 0.60222 to 0.59504, saving model to ./models/checkpoints-v2/checkpoints-language-detection-v2.ckpt\n",
      "613/613 [==============================] - 13s 21ms/step - loss: 0.5274 - categorical_accuracy: 0.7983 - val_loss: 0.5950 - val_categorical_accuracy: 0.7729\n",
      "Epoch 26/100\n",
      "613/613 [==============================] - ETA: 0s - loss: 0.5199 - categorical_accuracy: 0.7984\n",
      "Epoch 26: val_loss improved from 0.59504 to 0.59423, saving model to ./models/checkpoints-v2/checkpoints-language-detection-v2.ckpt\n",
      "613/613 [==============================] - 13s 21ms/step - loss: 0.5199 - categorical_accuracy: 0.7984 - val_loss: 0.5942 - val_categorical_accuracy: 0.7754\n",
      "Epoch 27/100\n",
      "611/613 [============================>.] - ETA: 0s - loss: 0.5135 - categorical_accuracy: 0.8016\n",
      "Epoch 27: val_loss did not improve from 0.59423\n",
      "613/613 [==============================] - 13s 21ms/step - loss: 0.5136 - categorical_accuracy: 0.8018 - val_loss: 0.6003 - val_categorical_accuracy: 0.7778\n",
      "Epoch 28/100\n",
      "613/613 [==============================] - ETA: 0s - loss: 0.5107 - categorical_accuracy: 0.8065\n",
      "Epoch 28: val_loss did not improve from 0.59423\n",
      "613/613 [==============================] - 13s 21ms/step - loss: 0.5107 - categorical_accuracy: 0.8065 - val_loss: 0.6183 - val_categorical_accuracy: 0.7667\n",
      "Epoch 29/100\n",
      "612/613 [============================>.] - ETA: 0s - loss: 0.5087 - categorical_accuracy: 0.8066\n",
      "Epoch 29: val_loss did not improve from 0.59423\n",
      "613/613 [==============================] - 13s 21ms/step - loss: 0.5087 - categorical_accuracy: 0.8065 - val_loss: 0.5982 - val_categorical_accuracy: 0.7774\n",
      "Epoch 30/100\n",
      "613/613 [==============================] - ETA: 0s - loss: 0.5033 - categorical_accuracy: 0.8067\n",
      "Epoch 30: val_loss improved from 0.59423 to 0.59049, saving model to ./models/checkpoints-v2/checkpoints-language-detection-v2.ckpt\n",
      "613/613 [==============================] - 13s 21ms/step - loss: 0.5033 - categorical_accuracy: 0.8067 - val_loss: 0.5905 - val_categorical_accuracy: 0.7747\n",
      "Epoch 31/100\n",
      "611/613 [============================>.] - ETA: 0s - loss: 0.4988 - categorical_accuracy: 0.8079\n",
      "Epoch 31: val_loss did not improve from 0.59049\n",
      "613/613 [==============================] - 13s 21ms/step - loss: 0.4991 - categorical_accuracy: 0.8077 - val_loss: 0.5970 - val_categorical_accuracy: 0.7781\n",
      "Epoch 32/100\n",
      "611/613 [============================>.] - ETA: 0s - loss: 0.4950 - categorical_accuracy: 0.8097\n",
      "Epoch 32: val_loss improved from 0.59049 to 0.58112, saving model to ./models/checkpoints-v2/checkpoints-language-detection-v2.ckpt\n",
      "613/613 [==============================] - 13s 21ms/step - loss: 0.4951 - categorical_accuracy: 0.8097 - val_loss: 0.5811 - val_categorical_accuracy: 0.7813\n",
      "Epoch 33/100\n",
      "613/613 [==============================] - ETA: 0s - loss: 0.4942 - categorical_accuracy: 0.8099\n",
      "Epoch 33: val_loss did not improve from 0.58112\n",
      "613/613 [==============================] - 13s 21ms/step - loss: 0.4942 - categorical_accuracy: 0.8099 - val_loss: 0.6205 - val_categorical_accuracy: 0.7659\n",
      "Epoch 34/100\n",
      "612/613 [============================>.] - ETA: 0s - loss: 0.4887 - categorical_accuracy: 0.8144\n",
      "Epoch 34: val_loss did not improve from 0.58112\n",
      "613/613 [==============================] - 13s 21ms/step - loss: 0.4888 - categorical_accuracy: 0.8143 - val_loss: 0.5886 - val_categorical_accuracy: 0.7789\n",
      "Epoch 35/100\n",
      "612/613 [============================>.] - ETA: 0s - loss: 0.4884 - categorical_accuracy: 0.8137\n",
      "Epoch 35: val_loss improved from 0.58112 to 0.57758, saving model to ./models/checkpoints-v2/checkpoints-language-detection-v2.ckpt\n",
      "613/613 [==============================] - 13s 21ms/step - loss: 0.4883 - categorical_accuracy: 0.8137 - val_loss: 0.5776 - val_categorical_accuracy: 0.7875\n",
      "Epoch 36/100\n",
      "612/613 [============================>.] - ETA: 0s - loss: 0.4837 - categorical_accuracy: 0.8164\n",
      "Epoch 36: val_loss did not improve from 0.57758\n",
      "613/613 [==============================] - 13s 21ms/step - loss: 0.4838 - categorical_accuracy: 0.8164 - val_loss: 0.5888 - val_categorical_accuracy: 0.7772\n",
      "Epoch 37/100\n",
      "611/613 [============================>.] - ETA: 0s - loss: 0.4834 - categorical_accuracy: 0.8146\n",
      "Epoch 37: val_loss improved from 0.57758 to 0.56868, saving model to ./models/checkpoints-v2/checkpoints-language-detection-v2.ckpt\n",
      "613/613 [==============================] - 13s 21ms/step - loss: 0.4834 - categorical_accuracy: 0.8145 - val_loss: 0.5687 - val_categorical_accuracy: 0.7870\n",
      "Epoch 38/100\n",
      "611/613 [============================>.] - ETA: 0s - loss: 0.4794 - categorical_accuracy: 0.8165\n",
      "Epoch 38: val_loss did not improve from 0.56868\n",
      "613/613 [==============================] - 13s 21ms/step - loss: 0.4795 - categorical_accuracy: 0.8165 - val_loss: 0.5840 - val_categorical_accuracy: 0.7777\n",
      "Epoch 39/100\n",
      "611/613 [============================>.] - ETA: 0s - loss: 0.4753 - categorical_accuracy: 0.8184\n",
      "Epoch 39: val_loss did not improve from 0.56868\n",
      "613/613 [==============================] - 13s 21ms/step - loss: 0.4757 - categorical_accuracy: 0.8181 - val_loss: 0.5836 - val_categorical_accuracy: 0.7829\n",
      "Epoch 40/100\n",
      "613/613 [==============================] - ETA: 0s - loss: 0.4747 - categorical_accuracy: 0.8179\n",
      "Epoch 40: val_loss did not improve from 0.56868\n",
      "613/613 [==============================] - 13s 21ms/step - loss: 0.4747 - categorical_accuracy: 0.8179 - val_loss: 0.5732 - val_categorical_accuracy: 0.7858\n",
      "Epoch 41/100\n",
      "612/613 [============================>.] - ETA: 0s - loss: 0.4677 - categorical_accuracy: 0.8212\n",
      "Epoch 41: val_loss did not improve from 0.56868\n",
      "613/613 [==============================] - 13s 21ms/step - loss: 0.4678 - categorical_accuracy: 0.8211 - val_loss: 0.5802 - val_categorical_accuracy: 0.7837\n",
      "Epoch 42/100\n",
      "611/613 [============================>.] - ETA: 0s - loss: 0.4663 - categorical_accuracy: 0.8209\n",
      "Epoch 42: val_loss improved from 0.56868 to 0.56687, saving model to ./models/checkpoints-v2/checkpoints-language-detection-v2.ckpt\n",
      "613/613 [==============================] - 13s 21ms/step - loss: 0.4663 - categorical_accuracy: 0.8209 - val_loss: 0.5669 - val_categorical_accuracy: 0.7840\n",
      "Epoch 43/100\n",
      "613/613 [==============================] - ETA: 0s - loss: 0.4658 - categorical_accuracy: 0.8204\n",
      "Epoch 43: val_loss did not improve from 0.56687\n",
      "613/613 [==============================] - 13s 21ms/step - loss: 0.4658 - categorical_accuracy: 0.8204 - val_loss: 0.5832 - val_categorical_accuracy: 0.7832\n",
      "Epoch 44/100\n",
      "612/613 [============================>.] - ETA: 0s - loss: 0.4608 - categorical_accuracy: 0.8235\n",
      "Epoch 44: val_loss did not improve from 0.56687\n",
      "613/613 [==============================] - 13s 21ms/step - loss: 0.4609 - categorical_accuracy: 0.8234 - val_loss: 0.5682 - val_categorical_accuracy: 0.7895\n",
      "Epoch 45/100\n",
      "611/613 [============================>.] - ETA: 0s - loss: 0.4577 - categorical_accuracy: 0.8260\n",
      "Epoch 45: val_loss did not improve from 0.56687\n",
      "613/613 [==============================] - 13s 21ms/step - loss: 0.4578 - categorical_accuracy: 0.8260 - val_loss: 0.5692 - val_categorical_accuracy: 0.7884\n",
      "Epoch 46/100\n",
      "612/613 [============================>.] - ETA: 0s - loss: 0.4578 - categorical_accuracy: 0.8251\n",
      "Epoch 46: val_loss did not improve from 0.56687\n",
      "613/613 [==============================] - 13s 21ms/step - loss: 0.4579 - categorical_accuracy: 0.8251 - val_loss: 0.5801 - val_categorical_accuracy: 0.7847\n",
      "Epoch 47/100\n",
      "611/613 [============================>.] - ETA: 0s - loss: 0.4537 - categorical_accuracy: 0.8261\n",
      "Epoch 47: val_loss did not improve from 0.56687\n",
      "613/613 [==============================] - 13s 21ms/step - loss: 0.4534 - categorical_accuracy: 0.8262 - val_loss: 0.5784 - val_categorical_accuracy: 0.7840\n"
     ]
    }
   ],
   "source": [
    "# Training model with GPU\n",
    "with tf.device('/gpu:0'):\n",
    "  history = model.fit(x_train, y_train, epochs=100, batch_size=64, validation_data=(x_val, y_val), callbacks=[earlystopping, checkpoint])"
   ]
  },
  {
   "cell_type": "code",
   "execution_count": 10,
   "metadata": {},
   "outputs": [
    {
     "name": "stdout",
     "output_type": "stream",
     "text": [
      " 27/307 [=>............................] - ETA: 1s"
     ]
    },
    {
     "name": "stderr",
     "output_type": "stream",
     "text": [
      "2023-04-29 18:57:24.226122: I tensorflow/core/grappler/optimizers/custom_graph_optimizer_registry.cc:113] Plugin optimizer for device_type GPU is enabled.\n"
     ]
    },
    {
     "name": "stdout",
     "output_type": "stream",
     "text": [
      "307/307 [==============================] - 1s 4ms/step\n"
     ]
    },
    {
     "data": {
      "image/png": "[encoded data removed]",
      "text/plain": [
       "<Figure size 900x500 with 2 Axes>"
      ]
     },
     "metadata": {},
     "output_type": "display_data"
    }
   ],
   "source": [
    "# Confusion matrix:\n",
    "import seaborn as sn\n",
    "import pandas as pd\n",
    "import matplotlib.pyplot as plt\n",
    "\n",
    "preds = model.predict(x_val)\n",
    "y_classes = preds.argmax(axis=-1)\n",
    "from sklearn.metrics import confusion_matrix\n",
    "cm = confusion_matrix(y_true = y_val.argmax(axis=-1), y_pred = y_classes)\n",
    "\n",
    "df_cm = pd.DataFrame(cm)\n",
    "plt.figure(figsize = (9,5))\n",
    "sn.heatmap(df_cm, annot=True, fmt = '.3g', xticklabels=CLASSES, yticklabels=CLASSES)\n",
    "plt.show()"
   ]
  },
  {
   "cell_type": "code",
   "execution_count": null,
   "metadata": {},
   "outputs": [],
   "source": [
    "plt.plot(range(0, 10), history.history['categorical_accuracy'])\n",
    "plt.show()"
   ]
  },
  {
   "cell_type": "code",
   "execution_count": null,
   "metadata": {},
   "outputs": [
    {
     "name": "stdout",
     "output_type": "stream",
     "text": [
      "1074/1074 - 17s - loss: 1.3960 - categorical_accuracy: 0.1944 - 17s/epoch - 16ms/step\n",
      "   1/1074 [..............................] - ETA: 6:27"
     ]
    },
    {
     "name": "stderr",
     "output_type": "stream",
     "text": [
      "2023-04-29 12:22:51.182853: I tensorflow/core/grappler/optimizers/custom_graph_optimizer_registry.cc:113] Plugin optimizer for device_type GPU is enabled.\n"
     ]
    },
    {
     "name": "stdout",
     "output_type": "stream",
     "text": [
      "1074/1074 [==============================] - 16s 14ms/step\n",
      "tf.Tensor(\n",
      "[[    0     0     0  6055]\n",
      " [    0     0     0 10926]\n",
      " [    0     0     0 10693]\n",
      " [    0     0     0  6680]], shape=(4, 4), dtype=int32)\n"
     ]
    }
   ],
   "source": [
    "with tf.device('/gpu:0'):\n",
    "    model.evaluate(x_test, y_test, verbose=2)\n",
    "    pred_test = model.predict(x_test)\n",
    "    print(tf.math.confusion_matrix(y_test.argmax(axis=1), pred_test.argmax(axis=1)))"
   ]
  },
  {
   "attachments": {},
   "cell_type": "markdown",
   "metadata": {},
   "source": [
    "## Save trained model"
   ]
  },
  {
   "cell_type": "code",
   "execution_count": null,
   "metadata": {},
   "outputs": [],
   "source": [
    "model.save('lab_gsc_no_globalavg.h5')"
   ]
  },
  {
   "cell_type": "code",
   "execution_count": null,
   "metadata": {},
   "outputs": [],
   "source": [
    "# remove softmax\n",
    "model = tf.keras.Model(model.input, model.layers[-2].output, name=model.name)"
   ]
  },
  {
   "cell_type": "code",
   "execution_count": null,
   "metadata": {},
   "outputs": [],
   "source": [
    "res = kerascnn2c.Converter(output_path=Path('gsc_output_fixed'),\n",
    "                           fixed_point=FIXED_POINT, # Number of bits for the fractional part, Q7.9 format\n",
    "                           number_type='int16_t', # Data type for weights/activations (16 bits quantization)\n",
    "                           long_number_type='int32_t', # Data type for intermediate results\n",
    "                           number_min=-(2**15), # Minimum value for 16-bit signed integers\n",
    "                           number_max=(2**15)-1 # Maximum value for 16-bit signed integers\n",
    "                          ).convert_model(copy.deepcopy(model))\n",
    "with open('gsc_model_fixed.h', 'w') as f:\n",
    "    f.write(res)"
   ]
  }
 ],
 "metadata": {
  "kernelspec": {
   "display_name": "OpenSesame",
   "language": "python",
   "name": "python3"
  },
  "language_info": {
   "codemirror_mode": {
    "name": "ipython",
    "version": 3
   },
   "file_extension": ".py",
   "mimetype": "text/x-python",
   "name": "python",
   "nbconvert_exporter": "python",
   "pygments_lexer": "ipython3",
   "version": "3.10.8"
  },
  "orig_nbformat": 4
 },
 "nbformat": 4,
 "nbformat_minor": 2
}
